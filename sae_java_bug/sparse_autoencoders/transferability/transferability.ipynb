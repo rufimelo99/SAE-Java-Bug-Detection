{
 "cells": [
  {
   "cell_type": "code",
   "execution_count": 1,
   "id": "4540a187",
   "metadata": {},
   "outputs": [
    {
     "name": "stdout",
     "output_type": "stream",
     "text": [
      "\u001b[2m2025-05-05 17:48:49\u001b[0m [\u001b[32m\u001b[1minfo     \u001b[0m] \u001b[1mGetting device.               \u001b[0m \u001b[36mdevice\u001b[0m=\u001b[35mcpu\u001b[0m\n",
      "\u001b[2m2025-05-05 17:48:49\u001b[0m [\u001b[32m\u001b[1minfo     \u001b[0m] \u001b[1mDevice                        \u001b[0m \u001b[36mdevice\u001b[0m=\u001b[35mcpu\u001b[0m\n",
      "\u001b[2m2025-05-05 17:48:50\u001b[0m [\u001b[32m\u001b[1minfo     \u001b[0m] \u001b[1mGetting device.               \u001b[0m \u001b[36mdevice\u001b[0m=\u001b[35mcpu\u001b[0m\n"
     ]
    }
   ],
   "source": [
    "import pickle\n",
    "from dataclasses import dataclass\n",
    "import pandas as pd\n",
    "import json\n",
    "from typing import Optional\n",
    "from sae_java_bug.sparse_autoencoders.get_vectorizer import load_tfidf_vectorizer\n",
    "from sae_java_bug.sparse_autoencoders.getting_experiment_config import (\n",
    "    load_training_indexes,\n",
    ")\n",
    "import torch\n",
    "from sae_java_bug.logger import logger\n",
    "from sae_java_bug.sparse_autoencoders.classical_data_mining import get_metrics\n",
    "from sae_java_bug.sparse_autoencoders.utils import  set_seed\n",
    "from sae_java_bug.sparse_autoencoders.vulnerability_detection_features import (\n",
    "     get_vuln_safe_data\n",
    ")\n",
    "from sae_java_bug.sparse_autoencoders.getting_sorted_layer_features import (\n",
    "    get_top_features,\n",
    "    load_sorted_features,\n",
    ")\n",
    "import numpy as np\n",
    "import matplotlib.pyplot as plt\n",
    "from tqdm import trange\n",
    "set_seed(42)\n",
    "@dataclass\n",
    "class Results:\n",
    "    precision: float\n",
    "    recall: float\n",
    "    accuracy: float\n",
    "    f1: float\n",
    "\n",
    "\n",
    "@dataclass\n",
    "class TransferabilityPerformance:\n",
    "    on_defects: Optional[int] = None\n",
    "    on_humaneval: Optional[int] = None\n",
    "    on_gbug: Optional[int] = None\n",
    "\n",
    "def calculate_f1_shift(\n",
    "    results: Results,\n",
    "    baseline_results: Results,\n",
    ") -> dict:\n",
    "    \"\"\"\n",
    "    Calculate the shift in perfoamcene in terms of F1 score % changed\n",
    "    \"\"\"\n",
    "    f1_shift = (results.f1 - baseline_results.f1) / baseline_results.f1 * 100\n",
    "    \n",
    "    return f1_shift\n",
    "\n",
    "# Save the results\n",
    "def save_results(key, results, path=\"../artifacts/transferability_results.jsonl\"):\n",
    "    \"\"\"\n",
    "    Save the results to a jsonl file.\n",
    "    \"\"\"\n",
    "    with open(path, \"a\") as f:\n",
    "        f.write(json.dumps({key: results.__dict__}) + \"\\n\")\n",
    "    logger.info(f\"Results saved to {path}\")\n"
   ]
  },
  {
   "cell_type": "code",
   "execution_count": 2,
   "id": "14c1c72c",
   "metadata": {},
   "outputs": [],
   "source": [
    "@dataclass\n",
    "class Dataset:\n",
    "    dataset_path: str\n",
    "    training_idx_path: str\n",
    "\n",
    "GBUG_DATASET = Dataset(\n",
    "    dataset_path=\"../artifacts/gbug-java.csv\",\n",
    "    training_idx_path=\"../artifacts/gbug-java_train_indexes.json\",\n",
    ")\n",
    "\n",
    "DEFECT_DATASET = Dataset(\n",
    "    dataset_path=\"../artifacts/defects4j.csv\",\n",
    "    training_idx_path=\"../artifacts/defects4j_train_indexes.json\",\n",
    ")\n",
    "\n",
    "HUMAN_DATASET = Dataset(\n",
    "    dataset_path=\"../artifacts/humaneval.csv\",\n",
    "    training_idx_path=\"../artifacts/humaneval_train_indexes.json\",\n",
    ")"
   ]
  },
  {
   "cell_type": "code",
   "execution_count": 3,
   "id": "acf0c6f3",
   "metadata": {},
   "outputs": [],
   "source": [
    "\n",
    "def get_testing_dataset(dataset: Dataset):\n",
    "    \"\"\"\n",
    "    Get the testing dataset path and the training indexes path.\n",
    "    \"\"\"\n",
    "    df = pd.read_csv(dataset.dataset_path)\n",
    "    with open( dataset.training_idx_path, \"r\") as f:\n",
    "        training_indices = json.load(f)\n",
    "    train_df = df.loc[training_indices]\n",
    "    test_df = df.drop(train_df.index)\n",
    "\n",
    "    return train_df, test_df\n",
    "def evaluate_clf(clf, test_df, top_k)-> Results:\n",
    "    \"\"\"\n",
    "    Evaluate the model on the test dataset.\n",
    "    \"\"\"\n",
    "\n",
    "    X_test = test_df[top_k]\n",
    "    X_test = torch.tensor(X_test.values, dtype=torch.float32)\n",
    "\n",
    "    y_test = test_df[\"vuln\"]\n",
    "\n",
    "    y_pred = clf.predict(X_test)\n",
    "    tp = sum((y_pred == 1) & (y_test == 1))\n",
    "    fp = sum((y_pred == 1) & (y_test == 0))\n",
    "    tn = sum((y_pred == 0) & (y_test == 0))\n",
    "    fn = sum((y_pred == 0) & (y_test == 1))\n",
    "\n",
    "\n",
    "    # Calculate the accuracy\n",
    "    accuracy = (tp + tn) / (tp + fp + fn + tn)\n",
    "    # Calculate the precision\n",
    "    precision = tp / (tp + fp) if (tp + fp) > 0 else 0\n",
    "    # Calculate the recall\n",
    "    recall = tp / (tp + fn) if (tp + fn) > 0 else 0\n",
    "    # Calculate the F1 score\n",
    "    f1 = 2 * (precision * recall) / (precision + recall) if (precision + recall) > 0 else 0\n",
    "    \n",
    "    return Results(precision=precision, recall=recall, accuracy=accuracy, f1=f1)\n"
   ]
  },
  {
   "cell_type": "code",
   "execution_count": 4,
   "id": "05d736d5",
   "metadata": {},
   "outputs": [],
   "source": [
    "@dataclass\n",
    "class SAE_ACTIVATIONS:\n",
    "    layer: int\n",
    "    top_k: int\n",
    "    original_dataset_path: str\n",
    "    base_gbug_path: str = \"../gpt2_gbug-java/\"\n",
    "    base_defects_path: str = \"../gpt2_defects4j/\"\n",
    "    base_humaneval_path: str = \"../gpt2_humaneval/\"\n",
    "\n",
    "    @property\n",
    "    def gbug_feature_safe_path(self):\n",
    "        return self.base_gbug_path + \"layer\" + str(self.layer) + \"/feature_importance_safe.jsonl\"\n",
    "    \n",
    "    @property\n",
    "    def gbug_feature_vuln_path(self):\n",
    "        return self.base_gbug_path + \"layer\" + str(self.layer) + \"/feature_importance_vuln.jsonl\"\n",
    "    \n",
    "    @property\n",
    "    def defects_feature_safe_path(self):\n",
    "        return self.base_defects_path + \"layer\" + str(self.layer) + \"/feature_importance_safe.jsonl\"\n",
    "    \n",
    "    @property\n",
    "    def defects_feature_vuln_path(self):\n",
    "        return self.base_defects_path + \"layer\" + str(self.layer) + \"/feature_importance_vuln.jsonl\"\n",
    "    \n",
    "    @property\n",
    "    def humaneval_feature_safe_path(self):\n",
    "        return self.base_humaneval_path + \"layer\" + str(self.layer) + \"/feature_importance_safe.jsonl\"\n",
    "    \n",
    "    @property\n",
    "    def humaneval_feature_vuln_path(self):\n",
    "        return self.base_humaneval_path + \"layer\" + str(self.layer) + \"/feature_importance_vuln.jsonl\"\n",
    "    \n",
    "    @property\n",
    "    def model_path(self):\n",
    "        return self.base_gbug_path + \"layer\" + str(self.layer) + \"/random_forest_k_\" + str(self.top_k) + \".pt\"\n",
    "\n",
    "    @property\n",
    "    def most_important_features_path(self):\n",
    "        return self.original_dataset_path + \"layer\" + str(self.layer) + \"/most_important_features.json\"\n",
    "    \n",
    "    @property\n",
    "    def model_path(self):\n",
    "        return self.original_dataset_path + \"layer\" + str(self.layer) + \"/random_forest_k_\" + str(self.top_k) + \".pt\"\n",
    "    \n",
    "SAE_ACTIVATIONS_GBUG_GPT2 = SAE_ACTIVATIONS(\n",
    "    layer=11,\n",
    "    top_k=20,\n",
    "    original_dataset_path=\"../gpt2_gbug-java/\",\n",
    ")\n",
    "\n",
    "\n",
    "SAE_ACTIVATIONS_DEFECTS4J = SAE_ACTIVATIONS( # Tricky\n",
    "    layer=1,\n",
    "    top_k=5, \n",
    "    original_dataset_path=\"../gpt2_defects4j/\",\n",
    ")\n",
    "\n",
    "SAE_ACTIVATIONS_HUMANEVL = SAE_ACTIVATIONS(\n",
    "    layer=2,\n",
    "    top_k=10,\n",
    "    original_dataset_path=\"../gpt2_humaneval/\",\n",
    ")\n",
    "\n",
    "\n",
    "\n",
    "\n",
    "def load_sae_clf_settings(sae_activations: SAE_ACTIVATIONS):\n",
    "    \"\"\"\n",
    "    Load the SAE classifier settings.\n",
    "    \"\"\"\n",
    "\n",
    "    most_important_features = load_sorted_features(\n",
    "        sae_activations.most_important_features_path\n",
    "    )\n",
    "    top_k = get_top_features(most_important_features, n=sae_activations.top_k)\n",
    "    with open(sae_activations.model_path, \"rb\") as f:\n",
    "        clf = pickle.load(f)\n",
    "\n",
    "    return clf, top_k\n",
    "\n",
    "def get_training_indexes(dataset: Dataset):\n",
    "    with open(dataset.training_idx_path, \"r\") as f:\n",
    "        training_indices = json.load(f)\n",
    "\n",
    "    return training_indices"
   ]
  },
  {
   "cell_type": "code",
   "execution_count": 5,
   "id": "7dd0de61",
   "metadata": {},
   "outputs": [
    {
     "name": "stderr",
     "output_type": "stream",
     "text": [
      "100%|██████████| 24576/24576 [01:41<00:00, 241.71it/s]\n"
     ]
    },
    {
     "name": "stdout",
     "output_type": "stream",
     "text": [
      "Results(precision=0.8064516129032258, recall=0.8333333333333334, accuracy=0.8166666666666667, f1=0.819672131147541)\n"
     ]
    },
    {
     "name": "stderr",
     "output_type": "stream",
     "text": [
      "100%|██████████| 24576/24576 [01:49<00:00, 224.36it/s]\n"
     ]
    },
    {
     "name": "stdout",
     "output_type": "stream",
     "text": [
      "Results(precision=0.7564102564102564, recall=0.6210526315789474, accuracy=0.7105263157894737, f1=0.6820809248554913)\n"
     ]
    },
    {
     "name": "stderr",
     "output_type": "stream",
     "text": [
      "100%|██████████| 24576/24576 [01:38<00:00, 250.20it/s]\n"
     ]
    },
    {
     "name": "stdout",
     "output_type": "stream",
     "text": [
      "Results(precision=0.75, recall=0.09090909090909091, accuracy=0.5303030303030303, f1=0.16216216216216214)\n",
      "\u001b[2m2025-05-05 17:54:21\u001b[0m [\u001b[32m\u001b[1minfo     \u001b[0m] \u001b[1mResults saved to ../artifacts/transferability_results.jsonl\u001b[0m\n",
      "\u001b[2m2025-05-05 17:54:21\u001b[0m [\u001b[32m\u001b[1minfo     \u001b[0m] \u001b[1mResults saved to ../artifacts/transferability_results.jsonl\u001b[0m\n",
      "\u001b[2m2025-05-05 17:54:21\u001b[0m [\u001b[32m\u001b[1minfo     \u001b[0m] \u001b[1mResults saved to ../artifacts/transferability_results.jsonl\u001b[0m\n",
      "\u001b[2m2025-05-05 17:54:21\u001b[0m [\u001b[32m\u001b[1minfo     \u001b[0m] \u001b[1mResults saved to ../artifacts/transferability_results.jsonl\u001b[0m\n"
     ]
    }
   ],
   "source": [
    "clf, top_k = load_sae_clf_settings(SAE_ACTIVATIONS_GBUG_GPT2)\n",
    "# Original (GBUG)\n",
    "_, df_test = get_vuln_safe_data(\n",
    "    SAE_ACTIVATIONS_GBUG_GPT2.gbug_feature_vuln_path,\n",
    "    SAE_ACTIVATIONS_GBUG_GPT2.gbug_feature_safe_path,\n",
    "    get_training_indexes(GBUG_DATASET),\n",
    ")\n",
    "sae_rf_gbug_gpt2 = evaluate_clf(clf, df_test, top_k)\n",
    "print(sae_rf_gbug_gpt2)\n",
    "# Defects4J\n",
    "_, df_test = get_vuln_safe_data(\n",
    "    SAE_ACTIVATIONS_GBUG_GPT2.defects_feature_vuln_path,\n",
    "    SAE_ACTIVATIONS_GBUG_GPT2.defects_feature_safe_path,\n",
    "    get_training_indexes(DEFECT_DATASET),\n",
    ")\n",
    "sae_rf_gbug_gpt2_on_defects4j = evaluate_clf(clf, df_test, top_k)\n",
    "print(sae_rf_gbug_gpt2_on_defects4j)\n",
    "# Humaneval\n",
    "_, df_test = get_vuln_safe_data(\n",
    "    SAE_ACTIVATIONS_GBUG_GPT2.humaneval_feature_vuln_path,\n",
    "    SAE_ACTIVATIONS_GBUG_GPT2.humaneval_feature_safe_path,\n",
    "    get_training_indexes(HUMAN_DATASET),\n",
    ")\n",
    "\n",
    "sae_rf_gbug_gpt2_on_humaneval = evaluate_clf(clf, df_test, top_k)\n",
    "print(sae_rf_gbug_gpt2_on_humaneval)\n",
    "\n",
    "transf_rf_gbug_gpt2_on_defects= calculate_f1_shift(\n",
    "    sae_rf_gbug_gpt2_on_defects4j,\n",
    "    sae_rf_gbug_gpt2,\n",
    ")\n",
    "transf_rf_gbug_gpt2_on_humaneval = calculate_f1_shift(\n",
    "    sae_rf_gbug_gpt2_on_humaneval,\n",
    "    sae_rf_gbug_gpt2,\n",
    ")\n",
    "transf_rf_gbug_gpt2 = TransferabilityPerformance(\n",
    "    on_defects=transf_rf_gbug_gpt2_on_defects,\n",
    "    on_humaneval=transf_rf_gbug_gpt2_on_humaneval,\n",
    ")\n",
    "save_results(\"sae_rf_gbug_gpt2\", sae_rf_gbug_gpt2)\n",
    "save_results(\"sae_rf_gbug_gpt2_on_defects4j\", sae_rf_gbug_gpt2_on_defects4j)\n",
    "save_results(\"sae_rf_gbug_gpt2_on_humaneval\", sae_rf_gbug_gpt2_on_humaneval)\n",
    "save_results(\"transf_rf_gbug_gpt2\", transf_rf_gbug_gpt2)"
   ]
  },
  {
   "cell_type": "code",
   "execution_count": 6,
   "id": "39cb7e93",
   "metadata": {},
   "outputs": [
    {
     "name": "stderr",
     "output_type": "stream",
     "text": [
      "100%|██████████| 24576/24576 [01:53<00:00, 216.53it/s]\n"
     ]
    },
    {
     "name": "stdout",
     "output_type": "stream",
     "text": [
      "Results(precision=0.7727272727272727, recall=0.7157894736842105, accuracy=0.7526315789473684, f1=0.7431693989071039)\n"
     ]
    },
    {
     "name": "stderr",
     "output_type": "stream",
     "text": [
      "100%|██████████| 24576/24576 [01:39<00:00, 245.95it/s]\n"
     ]
    },
    {
     "name": "stdout",
     "output_type": "stream",
     "text": [
      "Results(precision=0.5, recall=0.06060606060606061, accuracy=0.5, f1=0.10810810810810813)\n"
     ]
    },
    {
     "name": "stderr",
     "output_type": "stream",
     "text": [
      "100%|██████████| 24576/24576 [01:39<00:00, 246.86it/s]\n"
     ]
    },
    {
     "name": "stdout",
     "output_type": "stream",
     "text": [
      "Results(precision=0.5862068965517241, recall=0.5666666666666667, accuracy=0.5833333333333334, f1=0.576271186440678)\n",
      "\u001b[2m2025-05-05 17:59:52\u001b[0m [\u001b[32m\u001b[1minfo     \u001b[0m] \u001b[1mResults saved to ../artifacts/transferability_results.jsonl\u001b[0m\n",
      "\u001b[2m2025-05-05 17:59:52\u001b[0m [\u001b[32m\u001b[1minfo     \u001b[0m] \u001b[1mResults saved to ../artifacts/transferability_results.jsonl\u001b[0m\n",
      "\u001b[2m2025-05-05 17:59:52\u001b[0m [\u001b[32m\u001b[1minfo     \u001b[0m] \u001b[1mResults saved to ../artifacts/transferability_results.jsonl\u001b[0m\n",
      "\u001b[2m2025-05-05 17:59:52\u001b[0m [\u001b[32m\u001b[1minfo     \u001b[0m] \u001b[1mResults saved to ../artifacts/transferability_results.jsonl\u001b[0m\n"
     ]
    }
   ],
   "source": [
    "clf, top_k = load_sae_clf_settings( SAE_ACTIVATIONS_DEFECTS4J)\n",
    "# Original (Defects4J)\n",
    "_, df_test = get_vuln_safe_data(\n",
    "    SAE_ACTIVATIONS_DEFECTS4J.defects_feature_vuln_path,\n",
    "    SAE_ACTIVATIONS_DEFECTS4J.defects_feature_safe_path,\n",
    "    get_training_indexes(DEFECT_DATASET),\n",
    ")\n",
    "sae_rf_defects4j = evaluate_clf(clf, df_test, top_k)\n",
    "print(sae_rf_defects4j)\n",
    "# Humaneval\n",
    "_, df_test = get_vuln_safe_data(\n",
    "    SAE_ACTIVATIONS_DEFECTS4J.humaneval_feature_vuln_path,\n",
    "    SAE_ACTIVATIONS_DEFECTS4J.humaneval_feature_safe_path,\n",
    "    get_training_indexes(HUMAN_DATASET),\n",
    ")\n",
    "sae_rf_defects4j_on_humaneval = evaluate_clf(clf, df_test, top_k)\n",
    "print(sae_rf_defects4j_on_humaneval)\n",
    "# GBUG\n",
    "_, df_test = get_vuln_safe_data(\n",
    "    SAE_ACTIVATIONS_DEFECTS4J.gbug_feature_vuln_path,\n",
    "    SAE_ACTIVATIONS_DEFECTS4J.gbug_feature_safe_path,\n",
    "    get_training_indexes(GBUG_DATASET),\n",
    ")\n",
    "sae_rf_defects4j_on_gbug = evaluate_clf(clf, df_test, top_k)\n",
    "print(sae_rf_defects4j_on_gbug)\n",
    "transf_rf_defects4j_on_gbug = calculate_f1_shift(\n",
    "    sae_rf_defects4j_on_gbug,\n",
    "    sae_rf_defects4j,\n",
    ")\n",
    "transf_rf_defects4j_on_humaneval = calculate_f1_shift(\n",
    "    sae_rf_defects4j_on_humaneval,\n",
    "    sae_rf_defects4j,\n",
    ")\n",
    "transf_rf_defects4j_gpt2 = TransferabilityPerformance(\n",
    "    on_gbug=transf_rf_defects4j_on_gbug,\n",
    "    on_humaneval=transf_rf_defects4j_on_humaneval,\n",
    ")\n",
    "save_results(\"sae_rf_defects4j\", sae_rf_defects4j)\n",
    "save_results(\"sae_rf_defects4j_on_gbug\", sae_rf_defects4j_on_gbug)\n",
    "save_results(\"sae_rf_defects4j_on_humaneval\", sae_rf_defects4j_on_humaneval)\n",
    "save_results(\"transf_rf_defects4j_gpt2\", transf_rf_defects4j_gpt2)"
   ]
  },
  {
   "cell_type": "code",
   "execution_count": 7,
   "id": "4fe1dfe3",
   "metadata": {},
   "outputs": [
    {
     "name": "stderr",
     "output_type": "stream",
     "text": [
      "100%|██████████| 24576/24576 [01:46<00:00, 230.42it/s]\n"
     ]
    },
    {
     "name": "stdout",
     "output_type": "stream",
     "text": [
      "Results(precision=0.6129032258064516, recall=0.5757575757575758, accuracy=0.6060606060606061, f1=0.59375)\n"
     ]
    },
    {
     "name": "stderr",
     "output_type": "stream",
     "text": [
      "100%|██████████| 24576/24576 [01:44<00:00, 235.71it/s]\n"
     ]
    },
    {
     "name": "stdout",
     "output_type": "stream",
     "text": [
      "Results(precision=0.5277777777777778, recall=0.6333333333333333, accuracy=0.5333333333333333, f1=0.5757575757575758)\n"
     ]
    },
    {
     "name": "stderr",
     "output_type": "stream",
     "text": [
      "100%|██████████| 24576/24576 [01:54<00:00, 214.06it/s]\n"
     ]
    },
    {
     "name": "stdout",
     "output_type": "stream",
     "text": [
      "Results(precision=0.5, recall=0.47368421052631576, accuracy=0.5, f1=0.4864864864864865)\n",
      "\u001b[2m2025-05-05 18:05:40\u001b[0m [\u001b[32m\u001b[1minfo     \u001b[0m] \u001b[1mResults saved to ../artifacts/transferability_results.jsonl\u001b[0m\n",
      "\u001b[2m2025-05-05 18:05:40\u001b[0m [\u001b[32m\u001b[1minfo     \u001b[0m] \u001b[1mResults saved to ../artifacts/transferability_results.jsonl\u001b[0m\n",
      "\u001b[2m2025-05-05 18:05:40\u001b[0m [\u001b[32m\u001b[1minfo     \u001b[0m] \u001b[1mResults saved to ../artifacts/transferability_results.jsonl\u001b[0m\n",
      "\u001b[2m2025-05-05 18:05:40\u001b[0m [\u001b[32m\u001b[1minfo     \u001b[0m] \u001b[1mResults saved to ../artifacts/transferability_results.jsonl\u001b[0m\n"
     ]
    }
   ],
   "source": [
    "clf, top_k = load_sae_clf_settings(SAE_ACTIVATIONS_HUMANEVL)\n",
    "# Original (Humaneval)\n",
    "_, df_test = get_vuln_safe_data(\n",
    "    SAE_ACTIVATIONS_HUMANEVL.humaneval_feature_vuln_path,\n",
    "    SAE_ACTIVATIONS_HUMANEVL.humaneval_feature_safe_path,\n",
    "    get_training_indexes(HUMAN_DATASET),\n",
    ")\n",
    "sae_rf_humaneval = evaluate_clf(clf, df_test, top_k)\n",
    "print(sae_rf_humaneval)\n",
    "# GBUG\n",
    "_, df_test = get_vuln_safe_data(\n",
    "    SAE_ACTIVATIONS_HUMANEVL.gbug_feature_vuln_path,\n",
    "    SAE_ACTIVATIONS_HUMANEVL.gbug_feature_safe_path,\n",
    "    get_training_indexes(GBUG_DATASET),\n",
    ")\n",
    "sae_rf_humaneval_on_gbug = evaluate_clf(clf, df_test, top_k)\n",
    "print(sae_rf_humaneval_on_gbug)\n",
    "# Defects4J\n",
    "_, df_test = get_vuln_safe_data(\n",
    "    SAE_ACTIVATIONS_HUMANEVL.defects_feature_vuln_path,\n",
    "    SAE_ACTIVATIONS_HUMANEVL.defects_feature_safe_path,\n",
    "    get_training_indexes(DEFECT_DATASET),\n",
    ")\n",
    "sae_rf_humaneval_on_defects4j = evaluate_clf(clf, df_test, top_k)\n",
    "print(sae_rf_humaneval_on_defects4j)\n",
    "transf_rf_humaneval_on_gbug = calculate_f1_shift(\n",
    "    sae_rf_humaneval_on_gbug,\n",
    "    sae_rf_humaneval,\n",
    ")\n",
    "transf_rf_humaneval_on_defects4j = calculate_f1_shift(\n",
    "    sae_rf_humaneval_on_defects4j,\n",
    "    sae_rf_humaneval,\n",
    ")\n",
    "transf_rf_humaneval_gpt2 = TransferabilityPerformance(\n",
    "    on_defects=transf_rf_humaneval_on_defects4j,\n",
    "    on_gbug=transf_rf_humaneval_on_gbug,\n",
    ")\n",
    "save_results(\"sae_rf_humaneval\", sae_rf_humaneval)\n",
    "save_results(\"sae_rf_humaneval_on_gbug\", sae_rf_humaneval_on_gbug)\n",
    "save_results(\"sae_rf_humaneval_on_defects4j\", sae_rf_humaneval_on_defects4j)\n",
    "save_results(\"transf_rf_humaneval_gpt2\", transf_rf_humaneval_gpt2)\n",
    "\n"
   ]
  },
  {
   "cell_type": "markdown",
   "id": "9e02e963",
   "metadata": {},
   "source": [
    "## Gemma\n"
   ]
  },
  {
   "cell_type": "code",
   "execution_count": 8,
   "id": "5920158c",
   "metadata": {},
   "outputs": [],
   "source": [
    "SAE_ACTIVATIONS_GBUG_GEMMA2 = SAE_ACTIVATIONS(\n",
    "    layer=13,\n",
    "    top_k=100,\n",
    "    original_dataset_path=\"../gemma2_gbug-java/\",\n",
    "    base_gbug_path=\"../gemma2_gbug-java/\",\n",
    "    base_defects_path=\"../gemma2_defects4j/\",\n",
    "    base_humaneval_path=\"../gemma2_humaneval/\"\n",
    ")\n",
    "\n",
    "SAE_ACTIVATIONS_DEFECTS4J_GEMMA2 = SAE_ACTIVATIONS(\n",
    "    layer=7,\n",
    "    top_k=1,\n",
    "    original_dataset_path=\"../gemma2_defects4j/\",\n",
    "    base_gbug_path=\"../gemma2_gbug-java/\",\n",
    "    base_defects_path=\"../gemma2_defects4j/\",\n",
    "    base_humaneval_path=\"../gemma2_humaneval/\"\n",
    ")\n",
    "\n",
    "SAE_ACTIVATIONS_HUMAN_GEMMA2 = SAE_ACTIVATIONS(\n",
    "    layer=8,\n",
    "    top_k=4,\n",
    "    original_dataset_path=\"../gemma2_humaneval/\",\n",
    "    base_gbug_path=\"../gemma2_gbug-java/\",\n",
    "    base_defects_path=\"../gemma2_defects4j/\",\n",
    "    base_humaneval_path=\"../gemma2_humaneval/\"\n",
    ")\n",
    "\n",
    "\n",
    "\n"
   ]
  },
  {
   "cell_type": "code",
   "execution_count": 9,
   "id": "ff438815",
   "metadata": {},
   "outputs": [
    {
     "name": "stderr",
     "output_type": "stream",
     "text": [
      "100%|██████████| 16384/16384 [00:42<00:00, 389.59it/s]\n"
     ]
    },
    {
     "name": "stdout",
     "output_type": "stream",
     "text": [
      "Results(precision=0.8484848484848485, recall=0.9333333333333333, accuracy=0.8833333333333333, f1=0.888888888888889)\n"
     ]
    },
    {
     "name": "stderr",
     "output_type": "stream",
     "text": [
      "100%|██████████| 16384/16384 [00:45<00:00, 356.96it/s]\n"
     ]
    },
    {
     "name": "stdout",
     "output_type": "stream",
     "text": [
      "Results(precision=0.525, recall=0.4421052631578947, accuracy=0.5210526315789473, f1=0.48000000000000004)\n"
     ]
    },
    {
     "name": "stderr",
     "output_type": "stream",
     "text": [
      "100%|██████████| 16384/16384 [00:43<00:00, 376.90it/s]\n"
     ]
    },
    {
     "name": "stdout",
     "output_type": "stream",
     "text": [
      "Results(precision=0.47619047619047616, recall=0.30303030303030304, accuracy=0.48484848484848486, f1=0.37037037037037035)\n",
      "\u001b[2m2025-05-05 18:08:02\u001b[0m [\u001b[32m\u001b[1minfo     \u001b[0m] \u001b[1mResults saved to ../artifacts/transferability_results.jsonl\u001b[0m\n",
      "\u001b[2m2025-05-05 18:08:02\u001b[0m [\u001b[32m\u001b[1minfo     \u001b[0m] \u001b[1mResults saved to ../artifacts/transferability_results.jsonl\u001b[0m\n",
      "\u001b[2m2025-05-05 18:08:02\u001b[0m [\u001b[32m\u001b[1minfo     \u001b[0m] \u001b[1mResults saved to ../artifacts/transferability_results.jsonl\u001b[0m\n",
      "\u001b[2m2025-05-05 18:08:02\u001b[0m [\u001b[32m\u001b[1minfo     \u001b[0m] \u001b[1mResults saved to ../artifacts/transferability_results.jsonl\u001b[0m\n"
     ]
    }
   ],
   "source": [
    "clf, top_k = load_sae_clf_settings(SAE_ACTIVATIONS_GBUG_GEMMA2)\n",
    "# Original (GBUG)\n",
    "_, df_test = get_vuln_safe_data(\n",
    "    SAE_ACTIVATIONS_GBUG_GEMMA2.gbug_feature_vuln_path,\n",
    "    SAE_ACTIVATIONS_GBUG_GEMMA2.gbug_feature_safe_path,\n",
    "    get_training_indexes(GBUG_DATASET),\n",
    ")\n",
    "sae_rf_gbug_gemma2 = evaluate_clf(clf, df_test, top_k)\n",
    "print(sae_rf_gbug_gemma2)\n",
    "# Defects4J\n",
    "_, df_test = get_vuln_safe_data(\n",
    "    SAE_ACTIVATIONS_GBUG_GEMMA2.defects_feature_vuln_path,\n",
    "    SAE_ACTIVATIONS_GBUG_GEMMA2.defects_feature_safe_path,\n",
    "    get_training_indexes(DEFECT_DATASET),\n",
    ")\n",
    "sae_rf_gbug_gemma2_on_defects4j = evaluate_clf(clf, df_test, top_k)\n",
    "print(sae_rf_gbug_gemma2_on_defects4j)\n",
    "# Humaneval\n",
    "_, df_test = get_vuln_safe_data(\n",
    "    SAE_ACTIVATIONS_GBUG_GEMMA2.humaneval_feature_vuln_path,\n",
    "    SAE_ACTIVATIONS_GBUG_GEMMA2.humaneval_feature_safe_path,\n",
    "    get_training_indexes(HUMAN_DATASET),\n",
    ")\n",
    "\n",
    "sae_rf_gbug_gemma2_on_humaneval = evaluate_clf(clf, df_test, top_k)\n",
    "print(sae_rf_gbug_gemma2_on_humaneval)\n",
    "\n",
    "transf_rf_gbug_gemma2_on_defects= calculate_f1_shift(\n",
    "    sae_rf_gbug_gemma2_on_defects4j,\n",
    "    sae_rf_gbug_gemma2,\n",
    ")\n",
    "transf_rf_gbug_gemma2_on_humaneval = calculate_f1_shift(\n",
    "    sae_rf_gbug_gemma2_on_humaneval,\n",
    "    sae_rf_gbug_gemma2,\n",
    ")\n",
    "transf_rf_gbug_gemma2 = TransferabilityPerformance(\n",
    "    on_defects=transf_rf_gbug_gemma2_on_defects,\n",
    "    on_humaneval=transf_rf_gbug_gemma2_on_humaneval,\n",
    ")\n",
    "save_results(\"sae_rf_gbug_gemma2\", sae_rf_gbug_gemma2)\n",
    "save_results(\"sae_rf_gbug_gemma2_on_defects4j\", sae_rf_gbug_gemma2_on_defects4j)\n",
    "save_results(\"sae_rf_gbug_gemma2_on_humaneval\", sae_rf_gbug_gemma2_on_humaneval)\n",
    "save_results(\"transf_rf_gbug_gemma2\", transf_rf_gbug_gemma2)"
   ]
  },
  {
   "cell_type": "code",
   "execution_count": 10,
   "id": "65c8f3cb",
   "metadata": {},
   "outputs": [
    {
     "name": "stderr",
     "output_type": "stream",
     "text": [
      "100%|██████████| 16384/16384 [00:44<00:00, 368.11it/s]\n"
     ]
    },
    {
     "name": "stdout",
     "output_type": "stream",
     "text": [
      "Results(precision=0.5035460992907801, recall=0.7473684210526316, accuracy=0.5052631578947369, f1=0.6016949152542372)\n"
     ]
    },
    {
     "name": "stderr",
     "output_type": "stream",
     "text": [
      "100%|██████████| 16384/16384 [00:40<00:00, 399.61it/s]\n"
     ]
    },
    {
     "name": "stdout",
     "output_type": "stream",
     "text": [
      "Results(precision=0.4864864864864865, recall=0.6, accuracy=0.48333333333333334, f1=0.5373134328358209)\n"
     ]
    },
    {
     "name": "stderr",
     "output_type": "stream",
     "text": [
      "100%|██████████| 16384/16384 [00:40<00:00, 406.82it/s]\n"
     ]
    },
    {
     "name": "stdout",
     "output_type": "stream",
     "text": [
      "Results(precision=0.5, recall=1.0, accuracy=0.5, f1=0.6666666666666666)\n",
      "\u001b[2m2025-05-05 18:10:18\u001b[0m [\u001b[32m\u001b[1minfo     \u001b[0m] \u001b[1mResults saved to ../artifacts/transferability_results.jsonl\u001b[0m\n",
      "\u001b[2m2025-05-05 18:10:18\u001b[0m [\u001b[32m\u001b[1minfo     \u001b[0m] \u001b[1mResults saved to ../artifacts/transferability_results.jsonl\u001b[0m\n",
      "\u001b[2m2025-05-05 18:10:18\u001b[0m [\u001b[32m\u001b[1minfo     \u001b[0m] \u001b[1mResults saved to ../artifacts/transferability_results.jsonl\u001b[0m\n",
      "\u001b[2m2025-05-05 18:10:18\u001b[0m [\u001b[32m\u001b[1minfo     \u001b[0m] \u001b[1mResults saved to ../artifacts/transferability_results.jsonl\u001b[0m\n"
     ]
    }
   ],
   "source": [
    "clf, top_k = load_sae_clf_settings(SAE_ACTIVATIONS_DEFECTS4J_GEMMA2)\n",
    "# Original (GBUG)\n",
    "_, df_test = get_vuln_safe_data(\n",
    "    SAE_ACTIVATIONS_DEFECTS4J_GEMMA2.defects_feature_vuln_path,\n",
    "    SAE_ACTIVATIONS_DEFECTS4J_GEMMA2.defects_feature_safe_path,\n",
    "    get_training_indexes(DEFECT_DATASET),\n",
    ")\n",
    "sae_rf_defects4j_gemma2 = evaluate_clf(clf, df_test, top_k)\n",
    "print(sae_rf_defects4j_gemma2)\n",
    "# GBUG\n",
    "_, df_test = get_vuln_safe_data(\n",
    "    SAE_ACTIVATIONS_DEFECTS4J_GEMMA2.gbug_feature_vuln_path,\n",
    "    SAE_ACTIVATIONS_DEFECTS4J_GEMMA2.gbug_feature_safe_path,\n",
    "    get_training_indexes(GBUG_DATASET),\n",
    ")\n",
    "sae_rf_defects4j_gemma2_on_gbug = evaluate_clf(clf, df_test, top_k)\n",
    "print(sae_rf_defects4j_gemma2_on_gbug)\n",
    "# Humaneval\n",
    "_, df_test = get_vuln_safe_data(\n",
    "    SAE_ACTIVATIONS_DEFECTS4J_GEMMA2.humaneval_feature_vuln_path,\n",
    "    SAE_ACTIVATIONS_DEFECTS4J_GEMMA2.humaneval_feature_safe_path,\n",
    "    get_training_indexes(HUMAN_DATASET),\n",
    ")\n",
    "sae_rf_defects4j_gemma2_on_humaneval = evaluate_clf(clf, df_test, top_k)\n",
    "print(sae_rf_defects4j_gemma2_on_humaneval)\n",
    "transf_rf_defects4j_gemma2_on_gbug = calculate_f1_shift(\n",
    "    sae_rf_defects4j_gemma2_on_gbug,\n",
    "    sae_rf_defects4j_gemma2,\n",
    ")\n",
    "transf_rf_defects4j_gemma2_on_humaneval = calculate_f1_shift(\n",
    "    sae_rf_defects4j_gemma2_on_humaneval,\n",
    "    sae_rf_defects4j_gemma2,\n",
    ")\n",
    "transf_rf_defects4j_gemma2 = TransferabilityPerformance(\n",
    "    on_gbug=transf_rf_defects4j_gemma2_on_gbug,\n",
    "    on_humaneval=transf_rf_defects4j_gemma2_on_humaneval,\n",
    ")\n",
    "save_results(\"sae_rf_defects4j_gemma2\", sae_rf_defects4j_gemma2)\n",
    "save_results(\"sae_rf_defects4j_gemma2_on_gbug\", sae_rf_defects4j_gemma2_on_gbug)\n",
    "save_results(\"sae_rf_defects4j_gemma2_on_humaneval\", sae_rf_defects4j_gemma2_on_humaneval)\n",
    "save_results(\"transf_rf_defects4j_gemma2\", transf_rf_defects4j_gemma2)"
   ]
  },
  {
   "cell_type": "code",
   "execution_count": 11,
   "id": "636ef24e",
   "metadata": {},
   "outputs": [
    {
     "name": "stderr",
     "output_type": "stream",
     "text": [
      "100%|██████████| 16384/16384 [00:42<00:00, 388.33it/s]\n"
     ]
    },
    {
     "name": "stdout",
     "output_type": "stream",
     "text": [
      "Results(precision=0.5777777777777777, recall=0.7878787878787878, accuracy=0.6060606060606061, f1=0.6666666666666666)\n"
     ]
    },
    {
     "name": "stderr",
     "output_type": "stream",
     "text": [
      "100%|██████████| 16384/16384 [00:39<00:00, 417.20it/s]\n"
     ]
    },
    {
     "name": "stdout",
     "output_type": "stream",
     "text": [
      "Results(precision=0.5238095238095238, recall=0.36666666666666664, accuracy=0.5166666666666667, f1=0.4313725490196078)\n"
     ]
    },
    {
     "name": "stderr",
     "output_type": "stream",
     "text": [
      "100%|██████████| 16384/16384 [00:45<00:00, 361.73it/s]\n"
     ]
    },
    {
     "name": "stdout",
     "output_type": "stream",
     "text": [
      "Results(precision=0.5263157894736842, recall=0.42105263157894735, accuracy=0.5210526315789473, f1=0.4678362573099415)\n",
      "\u001b[2m2025-05-05 18:12:35\u001b[0m [\u001b[32m\u001b[1minfo     \u001b[0m] \u001b[1mResults saved to ../artifacts/transferability_results.jsonl\u001b[0m\n",
      "\u001b[2m2025-05-05 18:12:35\u001b[0m [\u001b[32m\u001b[1minfo     \u001b[0m] \u001b[1mResults saved to ../artifacts/transferability_results.jsonl\u001b[0m\n",
      "\u001b[2m2025-05-05 18:12:35\u001b[0m [\u001b[32m\u001b[1minfo     \u001b[0m] \u001b[1mResults saved to ../artifacts/transferability_results.jsonl\u001b[0m\n",
      "\u001b[2m2025-05-05 18:12:35\u001b[0m [\u001b[32m\u001b[1minfo     \u001b[0m] \u001b[1mResults saved to ../artifacts/transferability_results.jsonl\u001b[0m\n"
     ]
    }
   ],
   "source": [
    "clf, top_k = load_sae_clf_settings(SAE_ACTIVATIONS_HUMAN_GEMMA2)\n",
    "# Original (Humaneval)\n",
    "_, df_test = get_vuln_safe_data(\n",
    "    SAE_ACTIVATIONS_HUMAN_GEMMA2.humaneval_feature_vuln_path,\n",
    "    SAE_ACTIVATIONS_HUMAN_GEMMA2.humaneval_feature_safe_path,\n",
    "    get_training_indexes(HUMAN_DATASET),\n",
    ")\n",
    "sae_rf_humaneval_gemma2 = evaluate_clf(clf, df_test, top_k)\n",
    "print(sae_rf_humaneval_gemma2)\n",
    "# GBUG\n",
    "_, df_test = get_vuln_safe_data(\n",
    "    SAE_ACTIVATIONS_HUMAN_GEMMA2.gbug_feature_vuln_path,\n",
    "    SAE_ACTIVATIONS_HUMAN_GEMMA2.gbug_feature_safe_path,\n",
    "    get_training_indexes(GBUG_DATASET),\n",
    ")\n",
    "sae_rf_humaneval_gemma2_on_gbug = evaluate_clf(clf, df_test, top_k)\n",
    "print(sae_rf_humaneval_gemma2_on_gbug)\n",
    "# Defects4J\n",
    "_, df_test = get_vuln_safe_data(\n",
    "    SAE_ACTIVATIONS_HUMAN_GEMMA2.defects_feature_vuln_path,\n",
    "    SAE_ACTIVATIONS_HUMAN_GEMMA2.defects_feature_safe_path,\n",
    "    get_training_indexes(DEFECT_DATASET),\n",
    ")\n",
    "sae_rf_humaneval_gemma2_on_defects4j = evaluate_clf(clf, df_test, top_k)\n",
    "print(sae_rf_humaneval_gemma2_on_defects4j)\n",
    "transf_rf_humaneval_gemma2_on_gbug = calculate_f1_shift(\n",
    "    sae_rf_humaneval_gemma2_on_gbug,\n",
    "    sae_rf_humaneval_gemma2,\n",
    ")\n",
    "transf_rf_humaneval_gemma2_on_defects4j = calculate_f1_shift(\n",
    "    sae_rf_humaneval_gemma2_on_defects4j,\n",
    "    sae_rf_humaneval_gemma2,\n",
    ")\n",
    "transf_rf_humaneval_gemma2 = TransferabilityPerformance(\n",
    "    on_defects=transf_rf_humaneval_gemma2_on_defects4j,\n",
    "    on_gbug=transf_rf_humaneval_gemma2_on_gbug,\n",
    ")\n",
    "save_results(\"sae_rf_humaneval_gemma2\", sae_rf_humaneval_gemma2)\n",
    "save_results(\"sae_rf_humaneval_gemma2_on_gbug\", sae_rf_humaneval_gemma2_on_gbug)\n",
    "save_results(\"sae_rf_humaneval_gemma2_on_defects4j\", sae_rf_humaneval_gemma2_on_defects4j)\n",
    "save_results(\"transf_rf_humaneval_gemma2\", transf_rf_humaneval_gemma2)"
   ]
  },
  {
   "cell_type": "markdown",
   "id": "ac01281b",
   "metadata": {},
   "source": [
    "# Baselines Transferability"
   ]
  },
  {
   "cell_type": "code",
   "execution_count": 12,
   "id": "6ec6046a",
   "metadata": {},
   "outputs": [],
   "source": [
    "@dataclass\n",
    "class BaselineClassifier:\n",
    "    path: str\n",
    "    tfidf_vectorizer_path: str\n",
    "    base_dataset: Dataset\n",
    "    input_size: int\n",
    "\n",
    "DEFECTS4J_KNN_BASELINE = BaselineClassifier(\n",
    "    path=\"../ole/defects4j_knn_k_5000.pt\",\n",
    "    tfidf_vectorizer_path = \"../artifacts/vectorizer.pkl\",\n",
    "    base_dataset=DEFECT_DATASET,\n",
    "    input_size=5000,\n",
    ")\n",
    "GBUG_KNN_BASELINE = BaselineClassifier(\n",
    "    path=\"../ole/gbug_knn_k_5000.pt\",\n",
    "    tfidf_vectorizer_path = \"../artifacts/vectorizer.pkl\",\n",
    "    base_dataset=GBUG_DATASET,\n",
    "    input_size=5000,\n",
    ")\n",
    "HUMANEVAL_KNN_BASELINE = BaselineClassifier(\n",
    "    path=\"../ole/human_knn_k_5000.pt\",\n",
    "    tfidf_vectorizer_path = \"../artifacts/vectorizer.pkl\",\n",
    "    base_dataset=HUMAN_DATASET,\n",
    "    input_size=5000,\n",
    ")\n",
    "DEFECTS4J_RF_BASELINE = BaselineClassifier(\n",
    "    path=\"../ole/defects4j_random_forest_k_5000.pt\",\n",
    "    tfidf_vectorizer_path = \"../artifacts/vectorizer.pkl\",\n",
    "    base_dataset=DEFECT_DATASET,\n",
    "    input_size=5000,\n",
    ")\n",
    "GBUG_RF_BASELINE = BaselineClassifier(\n",
    "    path=\"../ole/gbug_random_forest_k_5000.pt\",\n",
    "    tfidf_vectorizer_path = \"../artifacts/vectorizer.pkl\",\n",
    "    base_dataset=GBUG_DATASET,\n",
    "    input_size=5000,\n",
    ")\n",
    "HUMANEVAL_RF_BASELINE = BaselineClassifier(\n",
    "    path=\"../ole/human_random_forest_k_5000.pt\",\n",
    "    tfidf_vectorizer_path = \"../artifacts/vectorizer.pkl\",\n",
    "    base_dataset=HUMAN_DATASET,\n",
    "    input_size=5000,\n",
    ")\n",
    "\n",
    "def load_baseline_classifier(classifier: BaselineClassifier):\n",
    "    with open(classifier.path, \"rb\") as f:\n",
    "        clf = pickle.load(f)\n",
    "    return clf\n",
    "\n",
    "def test_baseline_classifier(clf, \n",
    "                             vectorizer, \n",
    "                             df, \n",
    "                             train_indexes,\n",
    "                             before_func_col=\"func_before\", \n",
    "                             after_func_col=\"func_after\") -> Results:\n",
    "    \"\"\"\n",
    "    Test the baseline classifier on the test dataset.\n",
    "    \"\"\"\n",
    "\n",
    "    df[\"tokenized_before\"] = df[before_func_col].progress_apply(\n",
    "        lambda x: vectorizer.transform([x]).toarray()[0]\n",
    "    )\n",
    "    df[\"tokenized_after\"] = df[after_func_col].progress_apply(\n",
    "        lambda x: vectorizer.transform([x]).toarray()[0]\n",
    "    )\n",
    "    # Pad to 5000 tokens\n",
    "    df[\"tokenized_before\"] = df[\"tokenized_before\"].apply(\n",
    "        lambda x: x[:5000] + [0] * (5000 - len(x)) if len(x) < 5000 else x[:5000]\n",
    "    )\n",
    "    df[\"tokenized_after\"] = df[\"tokenized_after\"].apply(\n",
    "        lambda x: x[:5000] + [0] * (5000 - len(x)) if len(x) < 5000 else x[:5000]\n",
    "    )\n",
    "\n",
    "    df_test = df.drop(train_indexes)\n",
    "\n",
    "    df_classical_test = pd.DataFrame()\n",
    "    for row in df_test.iterrows():\n",
    "        row = row[1]\n",
    "        df_classical_test = pd.concat(\n",
    "            [\n",
    "                df_classical_test,\n",
    "                pd.DataFrame(\n",
    "                    {\"tokens\": [row[\"tokenized_before\"].tolist()], \"vuln\": 1}, index=[0]\n",
    "                ),\n",
    "            ]\n",
    "        )\n",
    "        df_classical_test = pd.concat(\n",
    "            [\n",
    "                df_classical_test,\n",
    "                pd.DataFrame(\n",
    "                    {\"tokens\": [row[\"tokenized_after\"].tolist()], \"vuln\": 0}, index=[0]\n",
    "                ),\n",
    "            ]\n",
    "        )\n",
    "\n",
    "    X_test = df_classical_test[\"tokens\"].values.tolist()\n",
    "    X_test = [torch.tensor(x) for x in X_test]\n",
    "    y_test = df_classical_test[\"vuln\"]\n",
    "\n",
    "    # Get the prediction\n",
    "    y_pred = clf.predict(X_test)\n",
    "    precision, recall, accuracy, f1 = get_metrics(y_pred, y_test)\n",
    "    logger.info(\n",
    "        \"Classification report:\",\n",
    "        precision=precision,\n",
    "        recall=recall,\n",
    "        accuracy=accuracy,\n",
    "        f1=f1,\n",
    "    )\n",
    "    return Results(\n",
    "        precision=precision,\n",
    "        recall=recall,\n",
    "        accuracy=accuracy,\n",
    "        f1=f1,\n",
    "    )\n",
    "    \n",
    "\n"
   ]
  },
  {
   "cell_type": "code",
   "execution_count": 13,
   "id": "1720f421",
   "metadata": {},
   "outputs": [
    {
     "name": "stderr",
     "output_type": "stream",
     "text": [
      "100%|██████████| 148/148 [00:00<00:00, 4899.19it/s]\n",
      "100%|██████████| 148/148 [00:00<00:00, 4828.09it/s]\n"
     ]
    },
    {
     "name": "stdout",
     "output_type": "stream",
     "text": [
      "\u001b[2m2025-05-05 18:12:36\u001b[0m [\u001b[32m\u001b[1minfo     \u001b[0m] \u001b[1mClassification report:        \u001b[0m \u001b[36maccuracy\u001b[0m=\u001b[35m0.6666666666666666\u001b[0m \u001b[36mf1\u001b[0m=\u001b[35m0.6774193548387096\u001b[0m \u001b[36mprecision\u001b[0m=\u001b[35m0.65625\u001b[0m \u001b[36mrecall\u001b[0m=\u001b[35m0.7\u001b[0m\n"
     ]
    },
    {
     "name": "stderr",
     "output_type": "stream",
     "text": [
      "100%|██████████| 465/465 [00:00<00:00, 3965.55it/s]\n",
      "100%|██████████| 465/465 [00:00<00:00, 5813.53it/s]\n"
     ]
    },
    {
     "name": "stdout",
     "output_type": "stream",
     "text": [
      "\u001b[2m2025-05-05 18:12:36\u001b[0m [\u001b[32m\u001b[1minfo     \u001b[0m] \u001b[1mClassification report:        \u001b[0m \u001b[36maccuracy\u001b[0m=\u001b[35m0.5\u001b[0m \u001b[36mf1\u001b[0m=\u001b[35m0.4431137724550898\u001b[0m \u001b[36mprecision\u001b[0m=\u001b[35m0.5\u001b[0m \u001b[36mrecall\u001b[0m=\u001b[35m0.3978494623655914\u001b[0m\n"
     ]
    },
    {
     "name": "stderr",
     "output_type": "stream",
     "text": [
      "100%|██████████| 162/162 [00:00<00:00, 7667.92it/s]\n",
      "100%|██████████| 162/162 [00:00<00:00, 7138.04it/s]\n"
     ]
    },
    {
     "name": "stdout",
     "output_type": "stream",
     "text": [
      "\u001b[2m2025-05-05 18:12:36\u001b[0m [\u001b[32m\u001b[1minfo     \u001b[0m] \u001b[1mClassification report:        \u001b[0m \u001b[36maccuracy\u001b[0m=\u001b[35m0.48484848484848486\u001b[0m \u001b[36mf1\u001b[0m=\u001b[35m0.43333333333333324\u001b[0m \u001b[36mprecision\u001b[0m=\u001b[35m0.48148148148148145\u001b[0m \u001b[36mrecall\u001b[0m=\u001b[35m0.3939393939393939\u001b[0m\n",
      "\u001b[2m2025-05-05 18:12:36\u001b[0m [\u001b[32m\u001b[1minfo     \u001b[0m] \u001b[1mResults saved to ../artifacts/transferability_results.jsonl\u001b[0m\n",
      "\u001b[2m2025-05-05 18:12:36\u001b[0m [\u001b[32m\u001b[1minfo     \u001b[0m] \u001b[1mResults saved to ../artifacts/transferability_results.jsonl\u001b[0m\n",
      "\u001b[2m2025-05-05 18:12:36\u001b[0m [\u001b[32m\u001b[1minfo     \u001b[0m] \u001b[1mResults saved to ../artifacts/transferability_results.jsonl\u001b[0m\n",
      "\u001b[2m2025-05-05 18:12:36\u001b[0m [\u001b[32m\u001b[1minfo     \u001b[0m] \u001b[1mResults saved to ../artifacts/transferability_results.jsonl\u001b[0m\n"
     ]
    }
   ],
   "source": [
    "\n",
    "results_gbug_knn = test_baseline_classifier(\n",
    "    load_baseline_classifier(GBUG_KNN_BASELINE),\n",
    "    load_tfidf_vectorizer(GBUG_KNN_BASELINE.tfidf_vectorizer_path),\n",
    "    pd.read_csv(GBUG_DATASET.dataset_path),\n",
    "    load_training_indexes(GBUG_DATASET.training_idx_path),\n",
    ")\n",
    "\n",
    "results_gbug_knn_defects = test_baseline_classifier(\n",
    "    load_baseline_classifier(GBUG_KNN_BASELINE),\n",
    "    load_tfidf_vectorizer(GBUG_KNN_BASELINE.tfidf_vectorizer_path),\n",
    "    pd.read_csv(DEFECT_DATASET.dataset_path),\n",
    "    load_training_indexes(DEFECT_DATASET.training_idx_path),\n",
    ")\n",
    "\n",
    "results_gbug_knn_human = test_baseline_classifier(\n",
    "    load_baseline_classifier(GBUG_KNN_BASELINE),\n",
    "    load_tfidf_vectorizer(GBUG_KNN_BASELINE.tfidf_vectorizer_path),\n",
    "    pd.read_csv(HUMAN_DATASET.dataset_path),\n",
    "    load_training_indexes(HUMAN_DATASET.training_idx_path),\n",
    ")\n",
    "\n",
    "\n",
    "transf_knn_gbug_on_defects= calculate_f1_shift(\n",
    "    results_gbug_knn_defects,\n",
    "    results_gbug_knn,\n",
    ")\n",
    "transf_knn_gbug_on_human= calculate_f1_shift(\n",
    "    results_gbug_knn_human,\n",
    "    results_gbug_knn,\n",
    ")\n",
    "\n",
    "transf_knn_gbug = TransferabilityPerformance(\n",
    "    on_defects=transf_knn_gbug_on_defects,\n",
    "    on_humaneval=transf_knn_gbug_on_human,\n",
    ")\n",
    "\n",
    "save_results(\"results_gbug_knn\", results_gbug_knn)\n",
    "save_results(\"results_gbug_knn_defects\", results_gbug_knn_defects)\n",
    "save_results(\"results_gbug_knn_human\", results_gbug_knn_human)\n",
    "save_results(\"transf_knn_gbug\", transf_knn_gbug)\n"
   ]
  },
  {
   "cell_type": "code",
   "execution_count": 14,
   "id": "ba69065f",
   "metadata": {},
   "outputs": [
    {
     "name": "stderr",
     "output_type": "stream",
     "text": [
      "100%|██████████| 148/148 [00:00<00:00, 3748.56it/s]\n",
      "100%|██████████| 148/148 [00:00<00:00, 4048.69it/s]\n"
     ]
    },
    {
     "name": "stdout",
     "output_type": "stream",
     "text": [
      "\u001b[2m2025-05-05 18:12:37\u001b[0m [\u001b[32m\u001b[1minfo     \u001b[0m] \u001b[1mClassification report:        \u001b[0m \u001b[36maccuracy\u001b[0m=\u001b[35m0.75\u001b[0m \u001b[36mf1\u001b[0m=\u001b[35m0.7058823529411764\u001b[0m \u001b[36mprecision\u001b[0m=\u001b[35m0.8571428571428571\u001b[0m \u001b[36mrecall\u001b[0m=\u001b[35m0.6\u001b[0m\n"
     ]
    },
    {
     "name": "stderr",
     "output_type": "stream",
     "text": [
      "100%|██████████| 465/465 [00:00<00:00, 6192.16it/s]\n",
      "100%|██████████| 465/465 [00:00<00:00, 6513.33it/s]\n"
     ]
    },
    {
     "name": "stdout",
     "output_type": "stream",
     "text": [
      "\u001b[2m2025-05-05 18:12:37\u001b[0m [\u001b[32m\u001b[1minfo     \u001b[0m] \u001b[1mClassification report:        \u001b[0m \u001b[36maccuracy\u001b[0m=\u001b[35m0.5161290322580645\u001b[0m \u001b[36mf1\u001b[0m=\u001b[35m0.1176470588235294\u001b[0m \u001b[36mprecision\u001b[0m=\u001b[35m0.6666666666666666\u001b[0m \u001b[36mrecall\u001b[0m=\u001b[35m0.06451612903225806\u001b[0m\n"
     ]
    },
    {
     "name": "stderr",
     "output_type": "stream",
     "text": [
      "100%|██████████| 162/162 [00:00<00:00, 7534.09it/s]\n",
      "100%|██████████| 162/162 [00:00<00:00, 7499.00it/s]\n"
     ]
    },
    {
     "name": "stdout",
     "output_type": "stream",
     "text": [
      "\u001b[2m2025-05-05 18:12:37\u001b[0m [\u001b[32m\u001b[1minfo     \u001b[0m] \u001b[1mClassification report:        \u001b[0m \u001b[36maccuracy\u001b[0m=\u001b[35m0.48484848484848486\u001b[0m \u001b[36mf1\u001b[0m=\u001b[35m0.43333333333333324\u001b[0m \u001b[36mprecision\u001b[0m=\u001b[35m0.48148148148148145\u001b[0m \u001b[36mrecall\u001b[0m=\u001b[35m0.3939393939393939\u001b[0m\n",
      "\u001b[2m2025-05-05 18:12:37\u001b[0m [\u001b[32m\u001b[1minfo     \u001b[0m] \u001b[1mResults saved to ../artifacts/transferability_results.jsonl\u001b[0m\n",
      "\u001b[2m2025-05-05 18:12:37\u001b[0m [\u001b[32m\u001b[1minfo     \u001b[0m] \u001b[1mResults saved to ../artifacts/transferability_results.jsonl\u001b[0m\n",
      "\u001b[2m2025-05-05 18:12:37\u001b[0m [\u001b[32m\u001b[1minfo     \u001b[0m] \u001b[1mResults saved to ../artifacts/transferability_results.jsonl\u001b[0m\n",
      "\u001b[2m2025-05-05 18:12:37\u001b[0m [\u001b[32m\u001b[1minfo     \u001b[0m] \u001b[1mResults saved to ../artifacts/transferability_results.jsonl\u001b[0m\n"
     ]
    }
   ],
   "source": [
    "### Random Forest from Gbug\n",
    "results_gbug_rf = test_baseline_classifier(\n",
    "    load_baseline_classifier(GBUG_RF_BASELINE),\n",
    "    load_tfidf_vectorizer(GBUG_RF_BASELINE.tfidf_vectorizer_path),\n",
    "    pd.read_csv(GBUG_DATASET.dataset_path),\n",
    "    load_training_indexes(GBUG_DATASET.training_idx_path),\n",
    ")\n",
    "\n",
    "results_gbug_rf_defects = test_baseline_classifier(\n",
    "    load_baseline_classifier(GBUG_RF_BASELINE),\n",
    "    load_tfidf_vectorizer(GBUG_RF_BASELINE.tfidf_vectorizer_path),\n",
    "    pd.read_csv(DEFECT_DATASET.dataset_path),\n",
    "    load_training_indexes(DEFECT_DATASET.training_idx_path),\n",
    ")\n",
    "\n",
    "results_gbug_rf_human = test_baseline_classifier(\n",
    "    load_baseline_classifier(GBUG_KNN_BASELINE),\n",
    "    load_tfidf_vectorizer(GBUG_KNN_BASELINE.tfidf_vectorizer_path),\n",
    "    pd.read_csv(HUMAN_DATASET.dataset_path),\n",
    "    load_training_indexes(HUMAN_DATASET.training_idx_path),\n",
    ")\n",
    "\n",
    "transf_rf_gbug_on_defects= calculate_f1_shift(\n",
    "    results_gbug_rf_defects,\n",
    "    results_gbug_rf,\n",
    ")\n",
    "transf_rf_gbug_on_human= calculate_f1_shift(\n",
    "    results_gbug_rf_human,\n",
    "    results_gbug_rf,\n",
    ")\n",
    "\n",
    "transf_rf_gbug = TransferabilityPerformance(\n",
    "    on_defects=transf_rf_gbug_on_defects,\n",
    "    on_humaneval=transf_rf_gbug_on_human,\n",
    ")\n",
    "\n",
    "save_results(\"results_gbug_rf\", results_gbug_rf)\n",
    "save_results(\"results_gbug_rf_defects\", results_gbug_rf_defects)\n",
    "save_results(\"results_gbug_rf_human\", results_gbug_rf_human)\n",
    "save_results(\"transf_rf_gbug\", transf_knn_gbug)"
   ]
  },
  {
   "cell_type": "code",
   "execution_count": 15,
   "id": "dfc67a72",
   "metadata": {},
   "outputs": [
    {
     "name": "stderr",
     "output_type": "stream",
     "text": [
      "100%|██████████| 465/465 [00:00<00:00, 4946.49it/s]\n",
      "100%|██████████| 465/465 [00:00<00:00, 6571.80it/s]\n"
     ]
    },
    {
     "name": "stdout",
     "output_type": "stream",
     "text": [
      "\u001b[2m2025-05-05 18:12:37\u001b[0m [\u001b[32m\u001b[1minfo     \u001b[0m] \u001b[1mClassification report:        \u001b[0m \u001b[36maccuracy\u001b[0m=\u001b[35m0.5376344086021505\u001b[0m \u001b[36mf1\u001b[0m=\u001b[35m0.35820895522388063\u001b[0m \u001b[36mprecision\u001b[0m=\u001b[35m0.5853658536585366\u001b[0m \u001b[36mrecall\u001b[0m=\u001b[35m0.25806451612903225\u001b[0m\n"
     ]
    },
    {
     "name": "stderr",
     "output_type": "stream",
     "text": [
      "100%|██████████| 148/148 [00:00<00:00, 5474.58it/s]\n",
      "100%|██████████| 148/148 [00:00<00:00, 5023.08it/s]"
     ]
    },
    {
     "name": "stdout",
     "output_type": "stream",
     "text": [
      "\u001b[2m2025-05-05 18:12:38\u001b[0m [\u001b[32m\u001b[1minfo     \u001b[0m] \u001b[1mClassification report:        \u001b[0m \u001b[36maccuracy\u001b[0m=\u001b[35m0.5333333333333333\u001b[0m \u001b[36mf1\u001b[0m=\u001b[35m0.43999999999999995\u001b[0m \u001b[36mprecision\u001b[0m=\u001b[35m0.55\u001b[0m \u001b[36mrecall\u001b[0m=\u001b[35m0.36666666666666664\u001b[0m\n"
     ]
    },
    {
     "name": "stderr",
     "output_type": "stream",
     "text": [
      "\n",
      "100%|██████████| 162/162 [00:00<00:00, 4598.99it/s]\n",
      "100%|██████████| 162/162 [00:00<00:00, 7087.26it/s]\n"
     ]
    },
    {
     "name": "stdout",
     "output_type": "stream",
     "text": [
      "\u001b[2m2025-05-05 18:12:38\u001b[0m [\u001b[32m\u001b[1minfo     \u001b[0m] \u001b[1mClassification report:        \u001b[0m \u001b[36maccuracy\u001b[0m=\u001b[35m0.5454545454545454\u001b[0m \u001b[36mf1\u001b[0m=\u001b[35m0.4642857142857143\u001b[0m \u001b[36mprecision\u001b[0m=\u001b[35m0.5652173913043478\u001b[0m \u001b[36mrecall\u001b[0m=\u001b[35m0.3939393939393939\u001b[0m\n",
      "\u001b[2m2025-05-05 18:12:38\u001b[0m [\u001b[32m\u001b[1minfo     \u001b[0m] \u001b[1mResults saved to ../artifacts/transferability_results.jsonl\u001b[0m\n",
      "\u001b[2m2025-05-05 18:12:38\u001b[0m [\u001b[32m\u001b[1minfo     \u001b[0m] \u001b[1mResults saved to ../artifacts/transferability_results.jsonl\u001b[0m\n",
      "\u001b[2m2025-05-05 18:12:38\u001b[0m [\u001b[32m\u001b[1minfo     \u001b[0m] \u001b[1mResults saved to ../artifacts/transferability_results.jsonl\u001b[0m\n",
      "\u001b[2m2025-05-05 18:12:38\u001b[0m [\u001b[32m\u001b[1minfo     \u001b[0m] \u001b[1mResults saved to ../artifacts/transferability_results.jsonl\u001b[0m\n"
     ]
    }
   ],
   "source": [
    "results_defects_knn = test_baseline_classifier(\n",
    "    load_baseline_classifier(DEFECTS4J_KNN_BASELINE),\n",
    "    load_tfidf_vectorizer(DEFECTS4J_KNN_BASELINE.tfidf_vectorizer_path),\n",
    "    pd.read_csv(DEFECT_DATASET.dataset_path),\n",
    "    load_training_indexes(DEFECT_DATASET.training_idx_path),\n",
    ")\n",
    "results_defects_knn_gbug = test_baseline_classifier(\n",
    "    load_baseline_classifier(DEFECTS4J_KNN_BASELINE),\n",
    "    load_tfidf_vectorizer(DEFECTS4J_KNN_BASELINE.tfidf_vectorizer_path),\n",
    "    pd.read_csv(GBUG_DATASET.dataset_path),\n",
    "    load_training_indexes(GBUG_DATASET.training_idx_path),\n",
    ")\n",
    "results_defects_knn_human = test_baseline_classifier(\n",
    "    load_baseline_classifier(DEFECTS4J_KNN_BASELINE),\n",
    "    load_tfidf_vectorizer(DEFECTS4J_KNN_BASELINE.tfidf_vectorizer_path),\n",
    "    pd.read_csv(HUMAN_DATASET.dataset_path),\n",
    "    load_training_indexes(HUMAN_DATASET.training_idx_path),\n",
    ")\n",
    "transf_knn_defects_on_gbug= calculate_f1_shift(\n",
    "    results_defects_knn_gbug,\n",
    "    results_defects_knn,\n",
    ")\n",
    "transf_knn_defects_on_human= calculate_f1_shift(\n",
    "    results_defects_knn_human,\n",
    "    results_defects_knn,\n",
    ")\n",
    "\n",
    "transf_knn_defects = TransferabilityPerformance(\n",
    "    on_gbug=transf_knn_defects_on_gbug,\n",
    "    on_humaneval=transf_knn_defects_on_human,\n",
    ")\n",
    "save_results(\"results_defects_knn\", results_defects_knn)\n",
    "save_results(\"results_defects_knn_gbug\", results_defects_knn_gbug)\n",
    "save_results(\"results_defects_knn_human\", results_defects_knn_human)\n",
    "save_results(\"transf_knn_defects\", transf_knn_defects)"
   ]
  },
  {
   "cell_type": "code",
   "execution_count": 16,
   "id": "d73cf0fd",
   "metadata": {},
   "outputs": [
    {
     "name": "stderr",
     "output_type": "stream",
     "text": [
      "100%|██████████| 465/465 [00:00<00:00, 5670.66it/s]\n",
      "100%|██████████| 465/465 [00:00<00:00, 6504.84it/s]\n"
     ]
    },
    {
     "name": "stdout",
     "output_type": "stream",
     "text": [
      "\u001b[2m2025-05-05 18:12:38\u001b[0m [\u001b[32m\u001b[1minfo     \u001b[0m] \u001b[1mClassification report:        \u001b[0m \u001b[36maccuracy\u001b[0m=\u001b[35m0.521505376344086\u001b[0m \u001b[36mf1\u001b[0m=\u001b[35m0.41830065359477125\u001b[0m \u001b[36mprecision\u001b[0m=\u001b[35m0.5333333333333333\u001b[0m \u001b[36mrecall\u001b[0m=\u001b[35m0.34408602150537637\u001b[0m\n"
     ]
    },
    {
     "name": "stderr",
     "output_type": "stream",
     "text": [
      "100%|██████████| 148/148 [00:00<00:00, 5387.49it/s]\n",
      "100%|██████████| 148/148 [00:00<00:00, 5395.12it/s]\n"
     ]
    },
    {
     "name": "stdout",
     "output_type": "stream",
     "text": [
      "\u001b[2m2025-05-05 18:12:38\u001b[0m [\u001b[32m\u001b[1minfo     \u001b[0m] \u001b[1mClassification report:        \u001b[0m \u001b[36maccuracy\u001b[0m=\u001b[35m0.5333333333333333\u001b[0m \u001b[36mf1\u001b[0m=\u001b[35m0.36363636363636365\u001b[0m \u001b[36mprecision\u001b[0m=\u001b[35m0.5714285714285714\u001b[0m \u001b[36mrecall\u001b[0m=\u001b[35m0.26666666666666666\u001b[0m\n"
     ]
    },
    {
     "name": "stderr",
     "output_type": "stream",
     "text": [
      "100%|██████████| 162/162 [00:00<00:00, 7687.52it/s]\n",
      "100%|██████████| 162/162 [00:00<00:00, 7254.72it/s]\n"
     ]
    },
    {
     "name": "stdout",
     "output_type": "stream",
     "text": [
      "\u001b[2m2025-05-05 18:12:38\u001b[0m [\u001b[32m\u001b[1minfo     \u001b[0m] \u001b[1mClassification report:        \u001b[0m \u001b[36maccuracy\u001b[0m=\u001b[35m0.5\u001b[0m \u001b[36mf1\u001b[0m=\u001b[35m0.6117647058823529\u001b[0m \u001b[36mprecision\u001b[0m=\u001b[35m0.5\u001b[0m \u001b[36mrecall\u001b[0m=\u001b[35m0.7878787878787878\u001b[0m\n",
      "\u001b[2m2025-05-05 18:12:38\u001b[0m [\u001b[32m\u001b[1minfo     \u001b[0m] \u001b[1mResults saved to ../artifacts/transferability_results.jsonl\u001b[0m\n",
      "\u001b[2m2025-05-05 18:12:38\u001b[0m [\u001b[32m\u001b[1minfo     \u001b[0m] \u001b[1mResults saved to ../artifacts/transferability_results.jsonl\u001b[0m\n",
      "\u001b[2m2025-05-05 18:12:38\u001b[0m [\u001b[32m\u001b[1minfo     \u001b[0m] \u001b[1mResults saved to ../artifacts/transferability_results.jsonl\u001b[0m\n",
      "\u001b[2m2025-05-05 18:12:38\u001b[0m [\u001b[32m\u001b[1minfo     \u001b[0m] \u001b[1mResults saved to ../artifacts/transferability_results.jsonl\u001b[0m\n"
     ]
    }
   ],
   "source": [
    "results_defects_rf = test_baseline_classifier(\n",
    "    load_baseline_classifier(DEFECTS4J_RF_BASELINE),\n",
    "    load_tfidf_vectorizer(DEFECTS4J_RF_BASELINE.tfidf_vectorizer_path),\n",
    "    pd.read_csv(DEFECT_DATASET.dataset_path),\n",
    "    load_training_indexes(DEFECT_DATASET.training_idx_path),\n",
    ")\n",
    "results_defects_rf_gbug = test_baseline_classifier(\n",
    "    load_baseline_classifier(DEFECTS4J_RF_BASELINE),\n",
    "    load_tfidf_vectorizer(DEFECTS4J_RF_BASELINE.tfidf_vectorizer_path),\n",
    "    pd.read_csv(GBUG_DATASET.dataset_path),\n",
    "    load_training_indexes(GBUG_DATASET.training_idx_path),\n",
    ")\n",
    "results_defects_rf_human = test_baseline_classifier(\n",
    "    load_baseline_classifier(DEFECTS4J_RF_BASELINE),\n",
    "    load_tfidf_vectorizer(DEFECTS4J_RF_BASELINE.tfidf_vectorizer_path),\n",
    "    pd.read_csv(HUMAN_DATASET.dataset_path),\n",
    "    load_training_indexes(HUMAN_DATASET.training_idx_path),\n",
    ")\n",
    "transf_rf_defects_on_gbug= calculate_f1_shift(\n",
    "    results_defects_rf_gbug,\n",
    "    results_defects_rf,\n",
    ")\n",
    "transf_rf_defects_on_human= calculate_f1_shift(\n",
    "    results_defects_rf_human,\n",
    "    results_defects_rf,\n",
    ")\n",
    "\n",
    "transf_rf_defects = TransferabilityPerformance(\n",
    "    on_gbug=transf_rf_defects_on_gbug,\n",
    "    on_humaneval=transf_rf_defects_on_human,\n",
    ")\n",
    "save_results(\"results_defects_rf\", results_defects_rf)\n",
    "save_results(\"results_defects_rf_gbug\", results_defects_rf_gbug)\n",
    "save_results(\"results_defects_rf_human\", results_defects_rf_human)\n",
    "save_results(\"transf_rf_defects\", transf_knn_defects)"
   ]
  },
  {
   "cell_type": "code",
   "execution_count": 17,
   "id": "8f920934",
   "metadata": {},
   "outputs": [
    {
     "name": "stderr",
     "output_type": "stream",
     "text": [
      "100%|██████████| 162/162 [00:00<00:00, 5474.23it/s]\n",
      "100%|██████████| 162/162 [00:00<00:00, 5345.46it/s]\n"
     ]
    },
    {
     "name": "stdout",
     "output_type": "stream",
     "text": [
      "\u001b[2m2025-05-05 18:12:38\u001b[0m [\u001b[32m\u001b[1minfo     \u001b[0m] \u001b[1mClassification report:        \u001b[0m \u001b[36maccuracy\u001b[0m=\u001b[35m0.5757575757575758\u001b[0m \u001b[36mf1\u001b[0m=\u001b[35m0.5625\u001b[0m \u001b[36mprecision\u001b[0m=\u001b[35m0.5806451612903226\u001b[0m \u001b[36mrecall\u001b[0m=\u001b[35m0.5454545454545454\u001b[0m\n"
     ]
    },
    {
     "name": "stderr",
     "output_type": "stream",
     "text": [
      "100%|██████████| 148/148 [00:00<00:00, 5048.78it/s]\n",
      "100%|██████████| 148/148 [00:00<00:00, 5140.89it/s]\n"
     ]
    },
    {
     "name": "stdout",
     "output_type": "stream",
     "text": [
      "\u001b[2m2025-05-05 18:12:39\u001b[0m [\u001b[32m\u001b[1minfo     \u001b[0m] \u001b[1mClassification report:        \u001b[0m \u001b[36maccuracy\u001b[0m=\u001b[35m0.48333333333333334\u001b[0m \u001b[36mf1\u001b[0m=\u001b[35m0.5373134328358209\u001b[0m \u001b[36mprecision\u001b[0m=\u001b[35m0.4864864864864865\u001b[0m \u001b[36mrecall\u001b[0m=\u001b[35m0.6\u001b[0m\n"
     ]
    },
    {
     "name": "stderr",
     "output_type": "stream",
     "text": [
      "100%|██████████| 465/465 [00:00<00:00, 6868.81it/s]\n",
      "100%|██████████| 465/465 [00:00<00:00, 6880.32it/s]\n"
     ]
    },
    {
     "name": "stdout",
     "output_type": "stream",
     "text": [
      "\u001b[2m2025-05-05 18:12:39\u001b[0m [\u001b[32m\u001b[1minfo     \u001b[0m] \u001b[1mClassification report:        \u001b[0m \u001b[36maccuracy\u001b[0m=\u001b[35m0.5053763440860215\u001b[0m \u001b[36mf1\u001b[0m=\u001b[35m0.5\u001b[0m \u001b[36mprecision\u001b[0m=\u001b[35m0.5054945054945055\u001b[0m \u001b[36mrecall\u001b[0m=\u001b[35m0.4946236559139785\u001b[0m\n",
      "\u001b[2m2025-05-05 18:12:39\u001b[0m [\u001b[32m\u001b[1minfo     \u001b[0m] \u001b[1mResults saved to ../artifacts/transferability_results.jsonl\u001b[0m\n",
      "\u001b[2m2025-05-05 18:12:39\u001b[0m [\u001b[32m\u001b[1minfo     \u001b[0m] \u001b[1mResults saved to ../artifacts/transferability_results.jsonl\u001b[0m\n",
      "\u001b[2m2025-05-05 18:12:39\u001b[0m [\u001b[32m\u001b[1minfo     \u001b[0m] \u001b[1mResults saved to ../artifacts/transferability_results.jsonl\u001b[0m\n",
      "TransferabilityPerformance(on_defects=-11.11111111111111, on_humaneval=None, on_gbug=-4.477611940298508)\n",
      "\u001b[2m2025-05-05 18:12:39\u001b[0m [\u001b[32m\u001b[1minfo     \u001b[0m] \u001b[1mResults saved to ../artifacts/transferability_results.jsonl\u001b[0m\n"
     ]
    }
   ],
   "source": [
    "results_humaneval_knn = test_baseline_classifier(\n",
    "    load_baseline_classifier(HUMANEVAL_KNN_BASELINE),\n",
    "    load_tfidf_vectorizer(HUMANEVAL_KNN_BASELINE.tfidf_vectorizer_path),\n",
    "    pd.read_csv(HUMAN_DATASET.dataset_path),\n",
    "    load_training_indexes(HUMAN_DATASET.training_idx_path),\n",
    ")\n",
    "results_humaneval_knn_gbug = test_baseline_classifier(\n",
    "    load_baseline_classifier(HUMANEVAL_KNN_BASELINE),\n",
    "    load_tfidf_vectorizer(HUMANEVAL_KNN_BASELINE.tfidf_vectorizer_path),\n",
    "    pd.read_csv(GBUG_DATASET.dataset_path),\n",
    "    load_training_indexes(GBUG_DATASET.training_idx_path),\n",
    ")\n",
    "results_humaneval_knn_defects = test_baseline_classifier(\n",
    "    load_baseline_classifier(HUMANEVAL_KNN_BASELINE),\n",
    "    load_tfidf_vectorizer(HUMANEVAL_KNN_BASELINE.tfidf_vectorizer_path),\n",
    "    pd.read_csv(DEFECT_DATASET.dataset_path),\n",
    "    load_training_indexes(DEFECT_DATASET.training_idx_path),\n",
    ")\n",
    "transf_knn_humaneval_on_gbug= calculate_f1_shift(\n",
    "    results_humaneval_knn_gbug,\n",
    "    results_humaneval_knn,\n",
    ")\n",
    "transf_knn_humaneval_on_defects= calculate_f1_shift(\n",
    "    results_humaneval_knn_defects,\n",
    "    results_humaneval_knn,\n",
    ")\n",
    "\n",
    "save_results(\"results_humaneval_knn\", results_humaneval_knn)\n",
    "save_results(\"results_humaneval_knn_gbug\", results_humaneval_knn_gbug)\n",
    "save_results(\"results_humaneval_knn_defects\", results_humaneval_knn_defects)\n",
    "\n",
    "transf_knn_humaneval = TransferabilityPerformance(\n",
    "    on_gbug=transf_knn_humaneval_on_gbug,\n",
    "    on_defects=transf_knn_humaneval_on_defects,\n",
    "    on_humaneval=None,\n",
    ")\n",
    "print(transf_knn_humaneval)\n",
    "save_results(\"transf_knn_humaneval\", transf_knn_humaneval)"
   ]
  },
  {
   "cell_type": "code",
   "execution_count": 18,
   "id": "a3ff3b35",
   "metadata": {},
   "outputs": [
    {
     "name": "stderr",
     "output_type": "stream",
     "text": [
      "100%|██████████| 162/162 [00:00<00:00, 3279.17it/s]\n",
      "100%|██████████| 162/162 [00:00<00:00, 7143.44it/s]\n"
     ]
    },
    {
     "name": "stdout",
     "output_type": "stream",
     "text": [
      "\u001b[2m2025-05-05 18:12:39\u001b[0m [\u001b[32m\u001b[1minfo     \u001b[0m] \u001b[1mClassification report:        \u001b[0m \u001b[36maccuracy\u001b[0m=\u001b[35m0.5606060606060606\u001b[0m \u001b[36mf1\u001b[0m=\u001b[35m0.4912280701754386\u001b[0m \u001b[36mprecision\u001b[0m=\u001b[35m0.5833333333333334\u001b[0m \u001b[36mrecall\u001b[0m=\u001b[35m0.42424242424242425\u001b[0m\n"
     ]
    },
    {
     "name": "stderr",
     "output_type": "stream",
     "text": [
      "100%|██████████| 148/148 [00:00<00:00, 5133.02it/s]\n",
      "100%|██████████| 148/148 [00:00<00:00, 5280.84it/s]\n"
     ]
    },
    {
     "name": "stdout",
     "output_type": "stream",
     "text": [
      "\u001b[2m2025-05-05 18:12:39\u001b[0m [\u001b[32m\u001b[1minfo     \u001b[0m] \u001b[1mClassification report:        \u001b[0m \u001b[36maccuracy\u001b[0m=\u001b[35m0.5\u001b[0m \u001b[36mf1\u001b[0m=\u001b[35m0.16666666666666669\u001b[0m \u001b[36mprecision\u001b[0m=\u001b[35m0.5\u001b[0m \u001b[36mrecall\u001b[0m=\u001b[35m0.1\u001b[0m\n"
     ]
    },
    {
     "name": "stderr",
     "output_type": "stream",
     "text": [
      "100%|██████████| 465/465 [00:00<00:00, 6756.24it/s]\n",
      "100%|██████████| 465/465 [00:00<00:00, 5855.19it/s]\n"
     ]
    },
    {
     "name": "stdout",
     "output_type": "stream",
     "text": [
      "\u001b[2m2025-05-05 18:12:39\u001b[0m [\u001b[32m\u001b[1minfo     \u001b[0m] \u001b[1mClassification report:        \u001b[0m \u001b[36maccuracy\u001b[0m=\u001b[35m0.4946236559139785\u001b[0m \u001b[36mf1\u001b[0m=\u001b[35m0.11320754716981131\u001b[0m \u001b[36mprecision\u001b[0m=\u001b[35m0.46153846153846156\u001b[0m \u001b[36mrecall\u001b[0m=\u001b[35m0.06451612903225806\u001b[0m\n",
      "\u001b[2m2025-05-05 18:12:39\u001b[0m [\u001b[32m\u001b[1minfo     \u001b[0m] \u001b[1mResults saved to ../artifacts/transferability_results.jsonl\u001b[0m\n",
      "\u001b[2m2025-05-05 18:12:39\u001b[0m [\u001b[32m\u001b[1minfo     \u001b[0m] \u001b[1mResults saved to ../artifacts/transferability_results.jsonl\u001b[0m\n",
      "\u001b[2m2025-05-05 18:12:39\u001b[0m [\u001b[32m\u001b[1minfo     \u001b[0m] \u001b[1mResults saved to ../artifacts/transferability_results.jsonl\u001b[0m\n",
      "\u001b[2m2025-05-05 18:12:39\u001b[0m [\u001b[32m\u001b[1minfo     \u001b[0m] \u001b[1mResults saved to ../artifacts/transferability_results.jsonl\u001b[0m\n"
     ]
    }
   ],
   "source": [
    "results_humaneval_rf = test_baseline_classifier(\n",
    "    load_baseline_classifier(HUMANEVAL_RF_BASELINE),\n",
    "    load_tfidf_vectorizer(HUMANEVAL_RF_BASELINE.tfidf_vectorizer_path),\n",
    "    pd.read_csv(HUMAN_DATASET.dataset_path),\n",
    "    load_training_indexes(HUMAN_DATASET.training_idx_path),\n",
    ")\n",
    "results_humaneval_rf_gbug = test_baseline_classifier(\n",
    "    load_baseline_classifier(HUMANEVAL_RF_BASELINE),\n",
    "    load_tfidf_vectorizer(HUMANEVAL_RF_BASELINE.tfidf_vectorizer_path),\n",
    "    pd.read_csv(GBUG_DATASET.dataset_path),\n",
    "    load_training_indexes(GBUG_DATASET.training_idx_path),\n",
    ")\n",
    "results_humaneval_rf_defects = test_baseline_classifier(\n",
    "    load_baseline_classifier(HUMANEVAL_RF_BASELINE),\n",
    "    load_tfidf_vectorizer(HUMANEVAL_RF_BASELINE.tfidf_vectorizer_path),\n",
    "    pd.read_csv(DEFECT_DATASET.dataset_path),\n",
    "    load_training_indexes(DEFECT_DATASET.training_idx_path),\n",
    ")\n",
    "transf_rf_humaneval_on_gbug= calculate_f1_shift(\n",
    "    results_humaneval_rf_gbug,\n",
    "    results_humaneval_rf,\n",
    ")\n",
    "transf_rf_humaneval_on_defects= calculate_f1_shift(\n",
    "    results_humaneval_rf_defects,\n",
    "    results_humaneval_rf,\n",
    ")\n",
    "transf_rf_humaneval = TransferabilityPerformance(\n",
    "    on_defects=transf_rf_humaneval_on_defects,\n",
    "    on_gbug=transf_rf_humaneval_on_gbug,\n",
    ")\n",
    "save_results(\"results_humaneval_rf\", results_humaneval_rf)\n",
    "save_results(\"results_humaneval_rf_gbug\", results_humaneval_rf_gbug)\n",
    "save_results(\"results_humaneval_rf_defects\", results_humaneval_rf_defects)\n",
    "save_results(\"transf_rf_humaneval\", transf_rf_humaneval)"
   ]
  },
  {
   "cell_type": "markdown",
   "id": "a93a8048",
   "metadata": {},
   "source": [
    "# Baselines with BERT-based model"
   ]
  },
  {
   "cell_type": "code",
   "execution_count": 25,
   "id": "7d7359fe",
   "metadata": {},
   "outputs": [],
   "source": [
    "@dataclass\n",
    "class BERT_CLASSIFIER:\n",
    "    path: str\n",
    "    \n",
    "MODERN_BERT_BASE_GBUG = BERT_CLASSIFIER(\n",
    "    path=\"../answerdotai_ModernBERT-base_artifacts_gbug-java.csv_best_model\",\n",
    ")\n",
    "\n",
    "MODERN_BERT_BASE_DEFECTS = BERT_CLASSIFIER(\n",
    "    path=\"../answerdotai_ModernBERT-base_artifacts_defects4j.csv_best_model\",\n",
    ")\n",
    "MODERN_BERT_BASE_HUMAN = BERT_CLASSIFIER(\n",
    "    path=\"../answerdotai_ModernBERT-base_artifacts_humaneval.csv_best_model\",\n",
    ")\n",
    "MODERN_BERT_LARGE_GBUG = BERT_CLASSIFIER(\n",
    "    path=\"../answerdotai_ModernBERT-large_artifacts_gbug-java.csv_best_model\",\n",
    ")\n",
    "MODERN_BERT_LARGE_DEFECTS = BERT_CLASSIFIER(\n",
    "    path=\"../answerdotai_ModernBERT-large_artifacts_defects4j.csv_best_model\",\n",
    ")\n",
    "MODERN_BERT_LARGE_HUMAN = BERT_CLASSIFIER(\n",
    "    path=\"../answerdotai_ModernBERT-large_artifacts_humaneval.csv_best_model\",\n",
    ")\n",
    "GRAPH_CODE_BERT_GBUG = BERT_CLASSIFIER(\n",
    "    path=\"../microsoft_graphcodebert-base_artifacts_gbug-java.csv_best_model\",\n",
    ")\n",
    "GRAPH_CODE_BERT_DEFECTS = BERT_CLASSIFIER(\n",
    "    path=\"../microsoft_graphcodebert-base_artifacts_defects4j.csv_best_model\",\n",
    ")\n",
    "GRAPH_CODE_BERT_HUMAN = BERT_CLASSIFIER(\n",
    "    path=\"../microsoft_graphcodebert-base_artifacts_humaneval.csv_best_model\",\n",
    ")\n"
   ]
  },
  {
   "cell_type": "code",
   "execution_count": 26,
   "id": "67ec6b15",
   "metadata": {},
   "outputs": [],
   "source": [
    "from transformers import AutoModelForSequenceClassification, AutoTokenizer\n",
    "def load_bert_model(model_path: str):\n",
    "    \"\"\"\n",
    "    Load the BERT model from the given path.\n",
    "    \"\"\"\n",
    "    model = AutoModelForSequenceClassification.from_pretrained(model_path,  trust_remote_code=True)\n",
    "    tokenizer = AutoTokenizer.from_pretrained(model_path)\n",
    "    return model, tokenizer\n",
    "\n",
    "def test_bert_model(model, tokenizer, df, train_indexes):\n",
    "    \"\"\"\n",
    "    Test the BERT model on the test dataset.\n",
    "    \"\"\"\n",
    "    df_test = df.drop(train_indexes)\n",
    "\n",
    "    X_test = df_test[\"func_before\"].tolist() + df_test[\"func_after\"].tolist()\n",
    "    y_test = [1] * len(df_test) + [0] * len(df_test)\n",
    "\n",
    "    y_pred_all = []\n",
    "\n",
    "    for i in trange(len(X_test)):\n",
    "        inputs = tokenizer(\n",
    "            X_test[i],\n",
    "            padding=True,\n",
    "            truncation=True,\n",
    "            return_tensors=\"pt\",\n",
    "        )\n",
    "\n",
    "        outputs = model(**inputs)\n",
    "        logits = outputs.logits\n",
    "        y_pred = torch.argmax(logits, dim=1)\n",
    "        y_pred_all.append(y_pred.item())\n",
    "        \n",
    "    \n",
    "    precision, recall, accuracy, f1 = get_metrics(y_pred_all, y_test)\n",
    "    logger.info(\n",
    "        \"Classification report:\",\n",
    "        precision=precision,\n",
    "        recall=recall,\n",
    "        accuracy=accuracy,\n",
    "        f1=f1,\n",
    "    )\n",
    "    return Results(\n",
    "        precision=precision,\n",
    "        recall=recall,\n",
    "        accuracy=accuracy,\n",
    "        f1=f1,\n",
    "    )\n"
   ]
  },
  {
   "cell_type": "code",
   "execution_count": 27,
   "id": "68eedc3f",
   "metadata": {},
   "outputs": [
    {
     "name": "stderr",
     "output_type": "stream",
     "text": [
      "  0%|          | 0/60 [00:00<?, ?it/s]Compiling the model with `torch.compile` and using a `torch.cpu` device is not supported. Falling back to non-compiled mode.\n",
      "100%|██████████| 60/60 [00:53<00:00,  1.11it/s]"
     ]
    },
    {
     "name": "stdout",
     "output_type": "stream",
     "text": [
      "\u001b[2m2025-05-05 18:15:33\u001b[0m [\u001b[32m\u001b[1minfo     \u001b[0m] \u001b[1mClassification report:        \u001b[0m \u001b[36maccuracy\u001b[0m=\u001b[35m0.7\u001b[0m \u001b[36mf1\u001b[0m=\u001b[35m0.71875\u001b[0m \u001b[36mprecision\u001b[0m=\u001b[35m0.6764705882352942\u001b[0m \u001b[36mrecall\u001b[0m=\u001b[35m0.7666666666666667\u001b[0m\n"
     ]
    },
    {
     "name": "stderr",
     "output_type": "stream",
     "text": [
      "\n",
      "100%|██████████| 186/186 [02:09<00:00,  1.43it/s]"
     ]
    },
    {
     "name": "stdout",
     "output_type": "stream",
     "text": [
      "\u001b[2m2025-05-05 18:17:44\u001b[0m [\u001b[32m\u001b[1minfo     \u001b[0m] \u001b[1mClassification report:        \u001b[0m \u001b[36maccuracy\u001b[0m=\u001b[35m0.553763440860215\u001b[0m \u001b[36mf1\u001b[0m=\u001b[35m0.5464480874316939\u001b[0m \u001b[36mprecision\u001b[0m=\u001b[35m0.5555555555555556\u001b[0m \u001b[36mrecall\u001b[0m=\u001b[35m0.5376344086021505\u001b[0m\n"
     ]
    },
    {
     "name": "stderr",
     "output_type": "stream",
     "text": [
      "\n",
      "100%|██████████| 66/66 [00:13<00:00,  4.72it/s]"
     ]
    },
    {
     "name": "stdout",
     "output_type": "stream",
     "text": [
      "\u001b[2m2025-05-05 18:17:58\u001b[0m [\u001b[32m\u001b[1minfo     \u001b[0m] \u001b[1mClassification report:        \u001b[0m \u001b[36maccuracy\u001b[0m=\u001b[35m0.5151515151515151\u001b[0m \u001b[36mf1\u001b[0m=\u001b[35m0.5999999999999999\u001b[0m \u001b[36mprecision\u001b[0m=\u001b[35m0.5106382978723404\u001b[0m \u001b[36mrecall\u001b[0m=\u001b[35m0.7272727272727273\u001b[0m\n",
      "\u001b[2m2025-05-05 18:17:58\u001b[0m [\u001b[32m\u001b[1minfo     \u001b[0m] \u001b[1mResults saved to ../artifacts/transferability_results.jsonl\u001b[0m\n",
      "\u001b[2m2025-05-05 18:17:58\u001b[0m [\u001b[32m\u001b[1minfo     \u001b[0m] \u001b[1mResults saved to ../artifacts/transferability_results.jsonl\u001b[0m\n",
      "\u001b[2m2025-05-05 18:17:58\u001b[0m [\u001b[32m\u001b[1minfo     \u001b[0m] \u001b[1mResults saved to ../artifacts/transferability_results.jsonl\u001b[0m\n"
     ]
    },
    {
     "name": "stderr",
     "output_type": "stream",
     "text": [
      "\n"
     ]
    }
   ],
   "source": [
    "results_modern_bert_large_gbug = test_bert_model(\n",
    "    *load_bert_model(MODERN_BERT_LARGE_GBUG.path),\n",
    "    pd.read_csv(GBUG_DATASET.dataset_path),\n",
    "    load_training_indexes(GBUG_DATASET.training_idx_path),\n",
    ")\n",
    "results_modern_bert_large_gbug_on_defects = test_bert_model(\n",
    "    *load_bert_model(MODERN_BERT_LARGE_GBUG.path),\n",
    "    pd.read_csv(DEFECT_DATASET.dataset_path),\n",
    "    load_training_indexes(DEFECT_DATASET.training_idx_path),\n",
    ")\n",
    "\n",
    "results_modern_bert_large_gbug_on_human = test_bert_model(\n",
    "    *load_bert_model(MODERN_BERT_LARGE_GBUG.path),\n",
    "    pd.read_csv(HUMAN_DATASET.dataset_path),\n",
    "    load_training_indexes(HUMAN_DATASET.training_idx_path),\n",
    ")\n",
    "transf_modern_bert_large_gbug_on_defects= calculate_f1_shift(\n",
    "    results_modern_bert_large_gbug_on_defects,\n",
    "    results_modern_bert_large_gbug,\n",
    ")\n",
    "transf_modern_bert_large_gbug_on_human= calculate_f1_shift(\n",
    "    results_modern_bert_large_gbug_on_human,\n",
    "    results_modern_bert_large_gbug,\n",
    ")\n",
    "\n",
    "# Save the results\n",
    "save_results(\n",
    "    \"results_modern_bert_large_gbug\",\n",
    "    results_modern_bert_large_gbug,\n",
    ")\n",
    "save_results(\n",
    "    \"results_modern_bert_large_gbug_on_defects\",\n",
    "    results_modern_bert_large_gbug_on_defects,\n",
    ")\n",
    "save_results(\n",
    "    \"results_modern_bert_large_gbug_on_human\",\n",
    "    results_modern_bert_large_gbug_on_human,\n",
    ")"
   ]
  },
  {
   "cell_type": "code",
   "execution_count": 28,
   "id": "d55e919c",
   "metadata": {},
   "outputs": [
    {
     "name": "stdout",
     "output_type": "stream",
     "text": [
      "\u001b[2m2025-05-05 18:17:58\u001b[0m [\u001b[32m\u001b[1minfo     \u001b[0m] \u001b[1mResults saved to ../artifacts/transferability_results.jsonl\u001b[0m\n"
     ]
    }
   ],
   "source": [
    "transf_modern_bert_large_gbug = TransferabilityPerformance(\n",
    "    on_defects=transf_modern_bert_large_gbug_on_defects,\n",
    "    on_humaneval=transf_modern_bert_large_gbug_on_human,\n",
    ")\n",
    "save_results(\"transf_modern_bert_large_gbug\", transf_modern_bert_large_gbug)"
   ]
  },
  {
   "cell_type": "code",
   "execution_count": 44,
   "id": "17b03b21",
   "metadata": {},
   "outputs": [
    {
     "name": "stderr",
     "output_type": "stream",
     "text": [
      "100%|██████████| 186/186 [02:12<00:00,  1.41it/s]"
     ]
    },
    {
     "name": "stdout",
     "output_type": "stream",
     "text": [
      "\u001b[2m2025-05-05 18:22:01\u001b[0m [\u001b[32m\u001b[1minfo     \u001b[0m] \u001b[1mClassification report:        \u001b[0m \u001b[36maccuracy\u001b[0m=\u001b[35m0.5268817204301075\u001b[0m \u001b[36mf1\u001b[0m=\u001b[35m0.5510204081632653\u001b[0m \u001b[36mprecision\u001b[0m=\u001b[35m0.5242718446601942\u001b[0m \u001b[36mrecall\u001b[0m=\u001b[35m0.5806451612903226\u001b[0m\n"
     ]
    },
    {
     "name": "stderr",
     "output_type": "stream",
     "text": [
      "\n",
      "100%|██████████| 60/60 [00:51<00:00,  1.16it/s]"
     ]
    },
    {
     "name": "stdout",
     "output_type": "stream",
     "text": [
      "\u001b[2m2025-05-05 18:22:53\u001b[0m [\u001b[32m\u001b[1minfo     \u001b[0m] \u001b[1mClassification report:        \u001b[0m \u001b[36maccuracy\u001b[0m=\u001b[35m0.5166666666666667\u001b[0m \u001b[36mf1\u001b[0m=\u001b[35m0.5671641791044775\u001b[0m \u001b[36mprecision\u001b[0m=\u001b[35m0.5135135135135135\u001b[0m \u001b[36mrecall\u001b[0m=\u001b[35m0.6333333333333333\u001b[0m\n"
     ]
    },
    {
     "name": "stderr",
     "output_type": "stream",
     "text": [
      "\n",
      "100%|██████████| 66/66 [00:13<00:00,  5.06it/s]"
     ]
    },
    {
     "name": "stdout",
     "output_type": "stream",
     "text": [
      "\u001b[2m2025-05-05 18:23:06\u001b[0m [\u001b[32m\u001b[1minfo     \u001b[0m] \u001b[1mClassification report:        \u001b[0m \u001b[36maccuracy\u001b[0m=\u001b[35m0.5303030303030303\u001b[0m \u001b[36mf1\u001b[0m=\u001b[35m0.5753424657534246\u001b[0m \u001b[36mprecision\u001b[0m=\u001b[35m0.525\u001b[0m \u001b[36mrecall\u001b[0m=\u001b[35m0.6363636363636364\u001b[0m\n",
      "\u001b[2m2025-05-05 18:23:06\u001b[0m [\u001b[32m\u001b[1minfo     \u001b[0m] \u001b[1mResults saved to ../artifacts/transferability_results.jsonl\u001b[0m\n",
      "\u001b[2m2025-05-05 18:23:06\u001b[0m [\u001b[32m\u001b[1minfo     \u001b[0m] \u001b[1mResults saved to ../artifacts/transferability_results.jsonl\u001b[0m\n",
      "\u001b[2m2025-05-05 18:23:06\u001b[0m [\u001b[32m\u001b[1minfo     \u001b[0m] \u001b[1mResults saved to ../artifacts/transferability_results.jsonl\u001b[0m\n"
     ]
    },
    {
     "name": "stderr",
     "output_type": "stream",
     "text": [
      "\n"
     ]
    }
   ],
   "source": [
    "results_modern_bert_large_defects = test_bert_model(\n",
    "    *load_bert_model(MODERN_BERT_LARGE_DEFECTS.path),\n",
    "    pd.read_csv(DEFECT_DATASET.dataset_path),\n",
    "    load_training_indexes(DEFECT_DATASET.training_idx_path),\n",
    ")\n",
    "results_modern_bert_large_defects_on_gbug = test_bert_model(\n",
    "    *load_bert_model(MODERN_BERT_LARGE_DEFECTS.path),\n",
    "    pd.read_csv(GBUG_DATASET.dataset_path),\n",
    "    load_training_indexes(GBUG_DATASET.training_idx_path),\n",
    ")\n",
    "results_modern_bert_large_defects_on_human = test_bert_model(\n",
    "    *load_bert_model(MODERN_BERT_LARGE_DEFECTS.path),\n",
    "    pd.read_csv(HUMAN_DATASET.dataset_path),\n",
    "    load_training_indexes(HUMAN_DATASET.training_idx_path),\n",
    ")\n",
    "transf_modern_bert_large_defects_on_gbug= calculate_f1_shift(\n",
    "    results_modern_bert_large_defects_on_gbug,\n",
    "    results_modern_bert_large_defects,\n",
    ")\n",
    "transf_modern_bert_large_defects_on_human= calculate_f1_shift(\n",
    "    results_modern_bert_large_defects_on_human,\n",
    "    results_modern_bert_large_defects,\n",
    ")\n",
    "# Save the results\n",
    "save_results(\n",
    "    \"results_modern_bert_large_defects\",\n",
    "    results_modern_bert_large_defects,\n",
    ")\n",
    "save_results(\n",
    "    \"results_modern_bert_large_defects_on_gbug\",\n",
    "    results_modern_bert_large_defects_on_gbug,\n",
    ")\n",
    "save_results(\n",
    "    \"results_modern_bert_large_defects_on_human\",\n",
    "    results_modern_bert_large_defects_on_human,\n",
    ")"
   ]
  },
  {
   "cell_type": "code",
   "execution_count": 45,
   "id": "695e99bc",
   "metadata": {},
   "outputs": [
    {
     "name": "stdout",
     "output_type": "stream",
     "text": [
      "\u001b[2m2025-05-05 18:23:06\u001b[0m [\u001b[32m\u001b[1minfo     \u001b[0m] \u001b[1mResults saved to ../artifacts/transferability_results.jsonl\u001b[0m\n"
     ]
    }
   ],
   "source": [
    "transf_modern_bert_large_defects = TransferabilityPerformance(\n",
    "    on_defects=transf_modern_bert_large_defects_on_gbug,\n",
    "    on_humaneval=transf_modern_bert_large_defects_on_human,\n",
    ")\n",
    "save_results(\"transf_modern_bert_large_defects\", transf_modern_bert_large_defects)"
   ]
  },
  {
   "cell_type": "code",
   "execution_count": 46,
   "id": "39d592bf",
   "metadata": {},
   "outputs": [
    {
     "name": "stderr",
     "output_type": "stream",
     "text": [
      "100%|██████████| 66/66 [00:16<00:00,  3.90it/s]"
     ]
    },
    {
     "name": "stdout",
     "output_type": "stream",
     "text": [
      "\u001b[2m2025-05-05 18:23:24\u001b[0m [\u001b[32m\u001b[1minfo     \u001b[0m] \u001b[1mClassification report:        \u001b[0m \u001b[36maccuracy\u001b[0m=\u001b[35m0.5606060606060606\u001b[0m \u001b[36mf1\u001b[0m=\u001b[35m0.5797101449275361\u001b[0m \u001b[36mprecision\u001b[0m=\u001b[35m0.5555555555555556\u001b[0m \u001b[36mrecall\u001b[0m=\u001b[35m0.6060606060606061\u001b[0m\n"
     ]
    },
    {
     "name": "stderr",
     "output_type": "stream",
     "text": [
      "\n",
      "100%|██████████| 60/60 [00:46<00:00,  1.28it/s]"
     ]
    },
    {
     "name": "stdout",
     "output_type": "stream",
     "text": [
      "\u001b[2m2025-05-05 18:24:11\u001b[0m [\u001b[32m\u001b[1minfo     \u001b[0m] \u001b[1mClassification report:        \u001b[0m \u001b[36maccuracy\u001b[0m=\u001b[35m0.5\u001b[0m \u001b[36mf1\u001b[0m=\u001b[35m0.37499999999999994\u001b[0m \u001b[36mprecision\u001b[0m=\u001b[35m0.5\u001b[0m \u001b[36mrecall\u001b[0m=\u001b[35m0.3\u001b[0m\n"
     ]
    },
    {
     "name": "stderr",
     "output_type": "stream",
     "text": [
      "\n",
      "100%|██████████| 186/186 [02:05<00:00,  1.48it/s]"
     ]
    },
    {
     "name": "stdout",
     "output_type": "stream",
     "text": [
      "\u001b[2m2025-05-05 18:26:17\u001b[0m [\u001b[32m\u001b[1minfo     \u001b[0m] \u001b[1mClassification report:        \u001b[0m \u001b[36maccuracy\u001b[0m=\u001b[35m0.553763440860215\u001b[0m \u001b[36mf1\u001b[0m=\u001b[35m0.4429530201342282\u001b[0m \u001b[36mprecision\u001b[0m=\u001b[35m0.5892857142857143\u001b[0m \u001b[36mrecall\u001b[0m=\u001b[35m0.3548387096774194\u001b[0m\n",
      "\u001b[2m2025-05-05 18:26:17\u001b[0m [\u001b[32m\u001b[1minfo     \u001b[0m] \u001b[1mResults saved to ../artifacts/transferability_results.jsonl\u001b[0m\n",
      "\u001b[2m2025-05-05 18:26:18\u001b[0m [\u001b[32m\u001b[1minfo     \u001b[0m] \u001b[1mResults saved to ../artifacts/transferability_results.jsonl\u001b[0m\n"
     ]
    },
    {
     "name": "stderr",
     "output_type": "stream",
     "text": [
      "\n"
     ]
    }
   ],
   "source": [
    "results_modern_bert_large_humaneval = test_bert_model(\n",
    "    *load_bert_model(MODERN_BERT_LARGE_HUMAN.path),\n",
    "    pd.read_csv(HUMAN_DATASET.dataset_path),\n",
    "    load_training_indexes(HUMAN_DATASET.training_idx_path),\n",
    ")\n",
    "results_modern_bert_large_humaneval_on_gbug = test_bert_model(\n",
    "    *load_bert_model(MODERN_BERT_LARGE_HUMAN.path),\n",
    "    pd.read_csv(GBUG_DATASET.dataset_path),\n",
    "    load_training_indexes(GBUG_DATASET.training_idx_path),\n",
    ")\n",
    "results_modern_bert_large_humaneval_on_defects = test_bert_model(\n",
    "    *load_bert_model(MODERN_BERT_LARGE_HUMAN.path),\n",
    "    pd.read_csv(DEFECT_DATASET.dataset_path),\n",
    "    load_training_indexes(DEFECT_DATASET.training_idx_path),\n",
    ")\n",
    "transf_modern_bert_large_humaneval_on_gbug= calculate_f1_shift(\n",
    "    results_modern_bert_large_humaneval_on_gbug,\n",
    "    results_modern_bert_large_humaneval,\n",
    ")\n",
    "transf_modern_bert_large_humaneval_on_defects= calculate_f1_shift(\n",
    "    results_modern_bert_large_humaneval_on_defects,\n",
    "    results_modern_bert_large_humaneval,\n",
    ")\n",
    "# Save the results\n",
    "save_results(\n",
    "    \"results_modern_bert_large_humaneval\",\n",
    "    results_modern_bert_large_humaneval,\n",
    ")\n",
    "save_results(\n",
    "    \"results_modern_bert_large_humaneval_on_gbug\",\n",
    "    results_modern_bert_large_humaneval_on_gbug,\n",
    ")"
   ]
  },
  {
   "cell_type": "code",
   "execution_count": 47,
   "id": "80bfeca0",
   "metadata": {},
   "outputs": [
    {
     "name": "stdout",
     "output_type": "stream",
     "text": [
      "\u001b[2m2025-05-05 18:26:18\u001b[0m [\u001b[32m\u001b[1minfo     \u001b[0m] \u001b[1mResults saved to ../artifacts/transferability_results.jsonl\u001b[0m\n"
     ]
    }
   ],
   "source": [
    "transf_modern_bert_large_humaneval = TransferabilityPerformance(\n",
    "    on_defects=transf_modern_bert_large_humaneval_on_defects,\n",
    "    on_gbug=transf_modern_bert_large_humaneval_on_gbug,\n",
    ")\n",
    "save_results(\n",
    "    \"transf_modern_bert_large_humaneval\",\n",
    "    transf_modern_bert_large_humaneval,\n",
    ")"
   ]
  },
  {
   "cell_type": "code",
   "execution_count": 48,
   "id": "08d0b080",
   "metadata": {},
   "outputs": [
    {
     "name": "stderr",
     "output_type": "stream",
     "text": [
      "100%|██████████| 60/60 [00:24<00:00,  2.46it/s]"
     ]
    },
    {
     "name": "stdout",
     "output_type": "stream",
     "text": [
      "\u001b[2m2025-05-05 18:26:42\u001b[0m [\u001b[32m\u001b[1minfo     \u001b[0m] \u001b[1mClassification report:        \u001b[0m \u001b[36maccuracy\u001b[0m=\u001b[35m0.6666666666666666\u001b[0m \u001b[36mf1\u001b[0m=\u001b[35m0.7142857142857143\u001b[0m \u001b[36mprecision\u001b[0m=\u001b[35m0.625\u001b[0m \u001b[36mrecall\u001b[0m=\u001b[35m0.8333333333333334\u001b[0m\n"
     ]
    },
    {
     "name": "stderr",
     "output_type": "stream",
     "text": [
      "\n",
      "100%|██████████| 186/186 [01:00<00:00,  3.09it/s]"
     ]
    },
    {
     "name": "stdout",
     "output_type": "stream",
     "text": [
      "\u001b[2m2025-05-05 18:27:43\u001b[0m [\u001b[32m\u001b[1minfo     \u001b[0m] \u001b[1mClassification report:        \u001b[0m \u001b[36maccuracy\u001b[0m=\u001b[35m0.532258064516129\u001b[0m \u001b[36mf1\u001b[0m=\u001b[35m0.42384105960264906\u001b[0m \u001b[36mprecision\u001b[0m=\u001b[35m0.5517241379310345\u001b[0m \u001b[36mrecall\u001b[0m=\u001b[35m0.34408602150537637\u001b[0m\n"
     ]
    },
    {
     "name": "stderr",
     "output_type": "stream",
     "text": [
      "\n",
      "100%|██████████| 66/66 [00:06<00:00, 10.07it/s]"
     ]
    },
    {
     "name": "stdout",
     "output_type": "stream",
     "text": [
      "\u001b[2m2025-05-05 18:27:49\u001b[0m [\u001b[32m\u001b[1minfo     \u001b[0m] \u001b[1mClassification report:        \u001b[0m \u001b[36maccuracy\u001b[0m=\u001b[35m0.5757575757575758\u001b[0m \u001b[36mf1\u001b[0m=\u001b[35m0.5172413793103449\u001b[0m \u001b[36mprecision\u001b[0m=\u001b[35m0.6\u001b[0m \u001b[36mrecall\u001b[0m=\u001b[35m0.45454545454545453\u001b[0m\n",
      "\u001b[2m2025-05-05 18:27:49\u001b[0m [\u001b[32m\u001b[1minfo     \u001b[0m] \u001b[1mResults saved to ../artifacts/transferability_results.jsonl\u001b[0m\n",
      "\u001b[2m2025-05-05 18:27:49\u001b[0m [\u001b[32m\u001b[1minfo     \u001b[0m] \u001b[1mResults saved to ../artifacts/transferability_results.jsonl\u001b[0m\n",
      "\u001b[2m2025-05-05 18:27:49\u001b[0m [\u001b[32m\u001b[1minfo     \u001b[0m] \u001b[1mResults saved to ../artifacts/transferability_results.jsonl\u001b[0m\n",
      "\u001b[2m2025-05-05 18:27:49\u001b[0m [\u001b[32m\u001b[1minfo     \u001b[0m] \u001b[1mResults saved to ../artifacts/transferability_results.jsonl\u001b[0m\n"
     ]
    },
    {
     "name": "stderr",
     "output_type": "stream",
     "text": [
      "\n"
     ]
    }
   ],
   "source": [
    "results_modern_bert_base_gbug = test_bert_model(\n",
    "    *load_bert_model(MODERN_BERT_BASE_GBUG.path),\n",
    "    pd.read_csv(GBUG_DATASET.dataset_path),\n",
    "    load_training_indexes(GBUG_DATASET.training_idx_path),\n",
    ")\n",
    "\n",
    "results_modern_bert_base_gbug_on_defects = test_bert_model(\n",
    "    *load_bert_model(MODERN_BERT_BASE_GBUG.path),\n",
    "    pd.read_csv(DEFECT_DATASET.dataset_path),\n",
    "    load_training_indexes(DEFECT_DATASET.training_idx_path),\n",
    ")\n",
    "results_modern_bert_base_gbug_on_human = test_bert_model(\n",
    "    *load_bert_model(MODERN_BERT_BASE_GBUG.path),\n",
    "    pd.read_csv(HUMAN_DATASET.dataset_path),\n",
    "    load_training_indexes(HUMAN_DATASET.training_idx_path),\n",
    ")\n",
    "transf_modern_bert_base_gbug_on_defects= calculate_f1_shift(\n",
    "    results_modern_bert_base_gbug_on_defects,\n",
    "    results_modern_bert_base_gbug,\n",
    ")\n",
    "transf_modern_bert_base_gbug_on_human= calculate_f1_shift(\n",
    "    results_modern_bert_base_gbug_on_human,\n",
    "    results_modern_bert_base_gbug,\n",
    ")\n",
    "# Save the results\n",
    "save_results(\n",
    "    \"results_modern_bert_base_gbug\",\n",
    "    results_modern_bert_base_gbug,\n",
    ")\n",
    "save_results(\n",
    "    \"results_modern_bert_base_gbug_on_defects\",\n",
    "    results_modern_bert_base_gbug_on_defects,\n",
    ")\n",
    "save_results(\n",
    "    \"results_modern_bert_base_gbug_on_human\",\n",
    "    results_modern_bert_base_gbug_on_human,\n",
    ")\n",
    "transf_modern_bert_base_gbug = TransferabilityPerformance(\n",
    "    on_defects=transf_modern_bert_base_gbug_on_defects,\n",
    "    on_humaneval=transf_modern_bert_base_gbug_on_human,\n",
    ")\n",
    "save_results(\"transf_modern_bert_base_gbug\", transf_modern_bert_base_gbug)"
   ]
  },
  {
   "cell_type": "code",
   "execution_count": 49,
   "id": "5fe90174",
   "metadata": {},
   "outputs": [
    {
     "name": "stderr",
     "output_type": "stream",
     "text": [
      "100%|██████████| 186/186 [01:05<00:00,  2.85it/s]"
     ]
    },
    {
     "name": "stdout",
     "output_type": "stream",
     "text": [
      "\u001b[2m2025-05-05 18:28:55\u001b[0m [\u001b[32m\u001b[1minfo     \u001b[0m] \u001b[1mClassification report:        \u001b[0m \u001b[36maccuracy\u001b[0m=\u001b[35m0.553763440860215\u001b[0m \u001b[36mf1\u001b[0m=\u001b[35m0.48447204968944096\u001b[0m \u001b[36mprecision\u001b[0m=\u001b[35m0.5735294117647058\u001b[0m \u001b[36mrecall\u001b[0m=\u001b[35m0.41935483870967744\u001b[0m\n"
     ]
    },
    {
     "name": "stderr",
     "output_type": "stream",
     "text": [
      "\n",
      "100%|██████████| 60/60 [00:23<00:00,  2.52it/s]"
     ]
    },
    {
     "name": "stdout",
     "output_type": "stream",
     "text": [
      "\u001b[2m2025-05-05 18:29:19\u001b[0m [\u001b[32m\u001b[1minfo     \u001b[0m] \u001b[1mClassification report:        \u001b[0m \u001b[36maccuracy\u001b[0m=\u001b[35m0.5333333333333333\u001b[0m \u001b[36mf1\u001b[0m=\u001b[35m0.5172413793103449\u001b[0m \u001b[36mprecision\u001b[0m=\u001b[35m0.5357142857142857\u001b[0m \u001b[36mrecall\u001b[0m=\u001b[35m0.5\u001b[0m\n"
     ]
    },
    {
     "name": "stderr",
     "output_type": "stream",
     "text": [
      "\n",
      "100%|██████████| 66/66 [00:06<00:00,  9.69it/s]"
     ]
    },
    {
     "name": "stdout",
     "output_type": "stream",
     "text": [
      "\u001b[2m2025-05-05 18:29:26\u001b[0m [\u001b[32m\u001b[1minfo     \u001b[0m] \u001b[1mClassification report:        \u001b[0m \u001b[36maccuracy\u001b[0m=\u001b[35m0.5\u001b[0m \u001b[36mf1\u001b[0m=\u001b[35m0.5714285714285715\u001b[0m \u001b[36mprecision\u001b[0m=\u001b[35m0.5\u001b[0m \u001b[36mrecall\u001b[0m=\u001b[35m0.6666666666666666\u001b[0m\n",
      "\u001b[2m2025-05-05 18:29:26\u001b[0m [\u001b[32m\u001b[1minfo     \u001b[0m] \u001b[1mResults saved to ../artifacts/transferability_results.jsonl\u001b[0m\n",
      "\u001b[2m2025-05-05 18:29:26\u001b[0m [\u001b[32m\u001b[1minfo     \u001b[0m] \u001b[1mResults saved to ../artifacts/transferability_results.jsonl\u001b[0m\n",
      "\u001b[2m2025-05-05 18:29:26\u001b[0m [\u001b[32m\u001b[1minfo     \u001b[0m] \u001b[1mResults saved to ../artifacts/transferability_results.jsonl\u001b[0m\n"
     ]
    },
    {
     "name": "stderr",
     "output_type": "stream",
     "text": [
      "\n"
     ]
    }
   ],
   "source": [
    "results_modern_bert_base_defects = test_bert_model(\n",
    "    *load_bert_model(MODERN_BERT_BASE_DEFECTS.path),\n",
    "    pd.read_csv(DEFECT_DATASET.dataset_path),\n",
    "    load_training_indexes(DEFECT_DATASET.training_idx_path),\n",
    ")\n",
    "results_modern_bert_base_defects_on_gbug = test_bert_model(\n",
    "    *load_bert_model(MODERN_BERT_BASE_DEFECTS.path),\n",
    "    pd.read_csv(GBUG_DATASET.dataset_path),\n",
    "    load_training_indexes(GBUG_DATASET.training_idx_path),\n",
    ")\n",
    "results_modern_bert_base_defects_on_human = test_bert_model(\n",
    "    *load_bert_model(MODERN_BERT_BASE_DEFECTS.path),\n",
    "    pd.read_csv(HUMAN_DATASET.dataset_path),\n",
    "    load_training_indexes(HUMAN_DATASET.training_idx_path),\n",
    ")\n",
    "transf_modern_bert_base_defects_on_gbug= calculate_f1_shift(\n",
    "    results_modern_bert_base_defects_on_gbug,\n",
    "    results_modern_bert_base_defects,\n",
    ")\n",
    "transf_modern_bert_base_defects_on_human= calculate_f1_shift(\n",
    "    results_modern_bert_base_defects_on_human,\n",
    "    results_modern_bert_base_defects,\n",
    ")\n",
    "# Save the results\n",
    "save_results(\n",
    "    \"results_modern_bert_base_defects\",\n",
    "    results_modern_bert_base_defects,\n",
    ")\n",
    "save_results(\n",
    "    \"results_modern_bert_base_defects_on_gbug\",\n",
    "    results_modern_bert_base_defects_on_gbug,\n",
    ")\n",
    "save_results(\n",
    "    \"results_modern_bert_base_defects_on_human\",\n",
    "    results_modern_bert_base_defects_on_human,\n",
    ")"
   ]
  },
  {
   "cell_type": "code",
   "execution_count": 50,
   "id": "b3f1333d",
   "metadata": {},
   "outputs": [
    {
     "name": "stdout",
     "output_type": "stream",
     "text": [
      "\u001b[2m2025-05-05 18:29:26\u001b[0m [\u001b[32m\u001b[1minfo     \u001b[0m] \u001b[1mResults saved to ../artifacts/transferability_results.jsonl\u001b[0m\n"
     ]
    }
   ],
   "source": [
    "\n",
    "transf_modern_bert_base_defects = TransferabilityPerformance(\n",
    "    on_gbug=transf_modern_bert_base_defects_on_gbug,\n",
    "    on_humaneval=transf_modern_bert_base_defects_on_human,\n",
    ")\n",
    "save_results(\"transf_modern_bert_base_defects\", transf_modern_bert_base_defects)"
   ]
  },
  {
   "cell_type": "code",
   "execution_count": 52,
   "id": "798f28fa",
   "metadata": {},
   "outputs": [
    {
     "name": "stderr",
     "output_type": "stream",
     "text": [
      "100%|██████████| 66/66 [00:07<00:00,  8.53it/s]"
     ]
    },
    {
     "name": "stdout",
     "output_type": "stream",
     "text": [
      "\u001b[2m2025-05-05 19:02:09\u001b[0m [\u001b[32m\u001b[1minfo     \u001b[0m] \u001b[1mClassification report:        \u001b[0m \u001b[36maccuracy\u001b[0m=\u001b[35m0.6060606060606061\u001b[0m \u001b[36mf1\u001b[0m=\u001b[35m0.6285714285714286\u001b[0m \u001b[36mprecision\u001b[0m=\u001b[35m0.5945945945945946\u001b[0m \u001b[36mrecall\u001b[0m=\u001b[35m0.6666666666666666\u001b[0m\n"
     ]
    },
    {
     "name": "stderr",
     "output_type": "stream",
     "text": [
      "\n",
      "100%|██████████| 60/60 [00:23<00:00,  2.59it/s]"
     ]
    },
    {
     "name": "stdout",
     "output_type": "stream",
     "text": [
      "\u001b[2m2025-05-05 19:02:33\u001b[0m [\u001b[32m\u001b[1minfo     \u001b[0m] \u001b[1mClassification report:        \u001b[0m \u001b[36maccuracy\u001b[0m=\u001b[35m0.5166666666666667\u001b[0m \u001b[36mf1\u001b[0m=\u001b[35m0.4081632653061224\u001b[0m \u001b[36mprecision\u001b[0m=\u001b[35m0.5263157894736842\u001b[0m \u001b[36mrecall\u001b[0m=\u001b[35m0.3333333333333333\u001b[0m\n"
     ]
    },
    {
     "name": "stderr",
     "output_type": "stream",
     "text": [
      "\n",
      "100%|██████████| 186/186 [00:59<00:00,  3.11it/s]"
     ]
    },
    {
     "name": "stdout",
     "output_type": "stream",
     "text": [
      "\u001b[2m2025-05-05 19:03:33\u001b[0m [\u001b[32m\u001b[1minfo     \u001b[0m] \u001b[1mClassification report:        \u001b[0m \u001b[36maccuracy\u001b[0m=\u001b[35m0.5698924731182796\u001b[0m \u001b[36mf1\u001b[0m=\u001b[35m0.47368421052631576\u001b[0m \u001b[36mprecision\u001b[0m=\u001b[35m0.6101694915254238\u001b[0m \u001b[36mrecall\u001b[0m=\u001b[35m0.3870967741935484\u001b[0m\n",
      "\u001b[2m2025-05-05 19:03:33\u001b[0m [\u001b[32m\u001b[1minfo     \u001b[0m] \u001b[1mResults saved to ../artifacts/transferability_results.jsonl\u001b[0m\n",
      "\u001b[2m2025-05-05 19:03:33\u001b[0m [\u001b[32m\u001b[1minfo     \u001b[0m] \u001b[1mResults saved to ../artifacts/transferability_results.jsonl\u001b[0m\n",
      "\u001b[2m2025-05-05 19:03:33\u001b[0m [\u001b[32m\u001b[1minfo     \u001b[0m] \u001b[1mResults saved to ../artifacts/transferability_results.jsonl\u001b[0m\n",
      "\u001b[2m2025-05-05 19:03:33\u001b[0m [\u001b[32m\u001b[1minfo     \u001b[0m] \u001b[1mResults saved to ../artifacts/transferability_results.jsonl\u001b[0m\n"
     ]
    },
    {
     "name": "stderr",
     "output_type": "stream",
     "text": [
      "\n"
     ]
    }
   ],
   "source": [
    "results_modern_bert_base_humaneval = test_bert_model(\n",
    "    *load_bert_model(MODERN_BERT_BASE_HUMAN.path),\n",
    "    pd.read_csv(HUMAN_DATASET.dataset_path),\n",
    "    load_training_indexes(HUMAN_DATASET.training_idx_path),\n",
    ")\n",
    "results_modern_bert_base_humaneval_on_gbug = test_bert_model(\n",
    "    *load_bert_model(MODERN_BERT_BASE_HUMAN.path),\n",
    "    pd.read_csv(GBUG_DATASET.dataset_path),\n",
    "    load_training_indexes(GBUG_DATASET.training_idx_path),\n",
    ")\n",
    "results_modern_bert_base_humaneval_on_defects = test_bert_model(\n",
    "    *load_bert_model(MODERN_BERT_BASE_HUMAN.path),\n",
    "    pd.read_csv(DEFECT_DATASET.dataset_path),\n",
    "    load_training_indexes(DEFECT_DATASET.training_idx_path),\n",
    ")\n",
    "transf_modern_bert_base_humaneval_on_gbug= calculate_f1_shift(\n",
    "    results_modern_bert_base_humaneval_on_gbug,\n",
    "    results_modern_bert_base_humaneval,\n",
    ")\n",
    "transf_modern_bert_base_humaneval_on_defects= calculate_f1_shift(\n",
    "    results_modern_bert_base_humaneval_on_defects,\n",
    "    results_modern_bert_base_humaneval,\n",
    ")\n",
    "\n",
    "# Save the results\n",
    "save_results(\n",
    "    \"results_modern_bert_base_humaneval\",\n",
    "    results_modern_bert_base_humaneval,\n",
    ")\n",
    "save_results(\n",
    "    \"results_modern_bert_base_humaneval_on_gbug\",\n",
    "    results_modern_bert_base_humaneval_on_gbug,\n",
    ")\n",
    "save_results(\n",
    "    \"results_modern_bert_base_humaneval_on_defects\",\n",
    "    results_modern_bert_base_humaneval_on_defects,\n",
    ")\n",
    "transf_modern_bert_base_humaneval = TransferabilityPerformance(\n",
    "    on_defects=transf_modern_bert_base_humaneval_on_defects,\n",
    "    on_gbug=transf_modern_bert_base_humaneval_on_gbug,\n",
    ")\n",
    "save_results(\n",
    "    \"transf_modern_bert_base_humaneval\",\n",
    "    transf_modern_bert_base_humaneval,\n",
    ")"
   ]
  },
  {
   "cell_type": "code",
   "execution_count": 53,
   "id": "875fb801",
   "metadata": {},
   "outputs": [
    {
     "name": "stderr",
     "output_type": "stream",
     "text": [
      "100%|██████████| 60/60 [00:08<00:00,  7.29it/s]"
     ]
    },
    {
     "name": "stdout",
     "output_type": "stream",
     "text": [
      "\u001b[2m2025-05-05 19:03:41\u001b[0m [\u001b[32m\u001b[1minfo     \u001b[0m] \u001b[1mClassification report:        \u001b[0m \u001b[36maccuracy\u001b[0m=\u001b[35m0.6333333333333333\u001b[0m \u001b[36mf1\u001b[0m=\u001b[35m0.6451612903225806\u001b[0m \u001b[36mprecision\u001b[0m=\u001b[35m0.625\u001b[0m \u001b[36mrecall\u001b[0m=\u001b[35m0.6666666666666666\u001b[0m\n"
     ]
    },
    {
     "name": "stderr",
     "output_type": "stream",
     "text": [
      "\n",
      "100%|██████████| 186/186 [00:24<00:00,  7.72it/s]"
     ]
    },
    {
     "name": "stdout",
     "output_type": "stream",
     "text": [
      "\u001b[2m2025-05-05 19:04:06\u001b[0m [\u001b[32m\u001b[1minfo     \u001b[0m] \u001b[1mClassification report:        \u001b[0m \u001b[36maccuracy\u001b[0m=\u001b[35m0.5053763440860215\u001b[0m \u001b[36mf1\u001b[0m=\u001b[35m0.5208333333333333\u001b[0m \u001b[36mprecision\u001b[0m=\u001b[35m0.5050505050505051\u001b[0m \u001b[36mrecall\u001b[0m=\u001b[35m0.5376344086021505\u001b[0m\n"
     ]
    },
    {
     "name": "stderr",
     "output_type": "stream",
     "text": [
      "\n",
      "100%|██████████| 66/66 [00:05<00:00, 12.85it/s]"
     ]
    },
    {
     "name": "stdout",
     "output_type": "stream",
     "text": [
      "\u001b[2m2025-05-05 19:04:11\u001b[0m [\u001b[32m\u001b[1minfo     \u001b[0m] \u001b[1mClassification report:        \u001b[0m \u001b[36maccuracy\u001b[0m=\u001b[35m0.5151515151515151\u001b[0m \u001b[36mf1\u001b[0m=\u001b[35m0.6521739130434782\u001b[0m \u001b[36mprecision\u001b[0m=\u001b[35m0.5084745762711864\u001b[0m \u001b[36mrecall\u001b[0m=\u001b[35m0.9090909090909091\u001b[0m\n",
      "\u001b[2m2025-05-05 19:04:11\u001b[0m [\u001b[32m\u001b[1minfo     \u001b[0m] \u001b[1mResults saved to ../artifacts/transferability_results.jsonl\u001b[0m\n",
      "\u001b[2m2025-05-05 19:04:11\u001b[0m [\u001b[32m\u001b[1minfo     \u001b[0m] \u001b[1mResults saved to ../artifacts/transferability_results.jsonl\u001b[0m\n",
      "\u001b[2m2025-05-05 19:04:11\u001b[0m [\u001b[32m\u001b[1minfo     \u001b[0m] \u001b[1mResults saved to ../artifacts/transferability_results.jsonl\u001b[0m\n",
      "\u001b[2m2025-05-05 19:04:11\u001b[0m [\u001b[32m\u001b[1minfo     \u001b[0m] \u001b[1mResults saved to ../artifacts/transferability_results.jsonl\u001b[0m\n"
     ]
    },
    {
     "name": "stderr",
     "output_type": "stream",
     "text": [
      "\n"
     ]
    }
   ],
   "source": [
    "results_graph_code_bert_gbug = test_bert_model(\n",
    "    *load_bert_model(GRAPH_CODE_BERT_GBUG.path),\n",
    "    pd.read_csv(GBUG_DATASET.dataset_path),\n",
    "    load_training_indexes(GBUG_DATASET.training_idx_path),\n",
    ")\n",
    "results_graph_code_bert_gbug_on_defects = test_bert_model(\n",
    "    *load_bert_model(GRAPH_CODE_BERT_GBUG.path),\n",
    "    pd.read_csv(DEFECT_DATASET.dataset_path),\n",
    "    load_training_indexes(DEFECT_DATASET.training_idx_path),\n",
    ")\n",
    "results_graph_code_bert_gbug_on_human = test_bert_model(\n",
    "    *load_bert_model(GRAPH_CODE_BERT_GBUG.path),\n",
    "    pd.read_csv(HUMAN_DATASET.dataset_path),\n",
    "    load_training_indexes(HUMAN_DATASET.training_idx_path),\n",
    ")\n",
    "transf_graph_code_bert_gbug_on_defects= calculate_f1_shift(\n",
    "    results_graph_code_bert_gbug_on_defects,\n",
    "    results_graph_code_bert_gbug,\n",
    ")\n",
    "transf_graph_code_bert_gbug_on_human= calculate_f1_shift(\n",
    "    results_graph_code_bert_gbug_on_human,\n",
    "    results_graph_code_bert_gbug,\n",
    ")\n",
    "# Save the results\n",
    "save_results(\n",
    "    \"results_graph_code_bert_gbug\",\n",
    "    results_graph_code_bert_gbug,\n",
    ")\n",
    "save_results(\n",
    "    \"results_graph_code_bert_gbug_on_defects\",\n",
    "    results_graph_code_bert_gbug_on_defects,\n",
    ")\n",
    "save_results(\n",
    "    \"results_graph_code_bert_gbug_on_human\",\n",
    "    results_graph_code_bert_gbug_on_human,\n",
    ")\n",
    "transf_graph_code_bert_gbug = TransferabilityPerformance(\n",
    "    on_defects=transf_graph_code_bert_gbug_on_defects,\n",
    "    on_humaneval=transf_graph_code_bert_gbug_on_human,\n",
    ")\n",
    "save_results(\"transf_graph_code_bert_gbug\", transf_graph_code_bert_gbug)"
   ]
  },
  {
   "cell_type": "code",
   "execution_count": 54,
   "id": "759d09b3",
   "metadata": {},
   "outputs": [
    {
     "name": "stderr",
     "output_type": "stream",
     "text": [
      "100%|██████████| 186/186 [00:24<00:00,  7.46it/s]"
     ]
    },
    {
     "name": "stdout",
     "output_type": "stream",
     "text": [
      "\u001b[2m2025-05-05 19:04:36\u001b[0m [\u001b[32m\u001b[1minfo     \u001b[0m] \u001b[1mClassification report:        \u001b[0m \u001b[36maccuracy\u001b[0m=\u001b[35m0.543010752688172\u001b[0m \u001b[36mf1\u001b[0m=\u001b[35m0.5142857142857143\u001b[0m \u001b[36mprecision\u001b[0m=\u001b[35m0.5487804878048781\u001b[0m \u001b[36mrecall\u001b[0m=\u001b[35m0.4838709677419355\u001b[0m\n"
     ]
    },
    {
     "name": "stderr",
     "output_type": "stream",
     "text": [
      "\n",
      "100%|██████████| 60/60 [00:07<00:00,  8.15it/s]"
     ]
    },
    {
     "name": "stdout",
     "output_type": "stream",
     "text": [
      "\u001b[2m2025-05-05 19:04:44\u001b[0m [\u001b[32m\u001b[1minfo     \u001b[0m] \u001b[1mClassification report:        \u001b[0m \u001b[36maccuracy\u001b[0m=\u001b[35m0.5333333333333333\u001b[0m \u001b[36mf1\u001b[0m=\u001b[35m0.4814814814814815\u001b[0m \u001b[36mprecision\u001b[0m=\u001b[35m0.5416666666666666\u001b[0m \u001b[36mrecall\u001b[0m=\u001b[35m0.43333333333333335\u001b[0m\n"
     ]
    },
    {
     "name": "stderr",
     "output_type": "stream",
     "text": [
      "\n",
      "100%|██████████| 66/66 [00:05<00:00, 12.22it/s]"
     ]
    },
    {
     "name": "stdout",
     "output_type": "stream",
     "text": [
      "\u001b[2m2025-05-05 19:04:49\u001b[0m [\u001b[32m\u001b[1minfo     \u001b[0m] \u001b[1mClassification report:        \u001b[0m \u001b[36maccuracy\u001b[0m=\u001b[35m0.48484848484848486\u001b[0m \u001b[36mf1\u001b[0m=\u001b[35m0.45161290322580644\u001b[0m \u001b[36mprecision\u001b[0m=\u001b[35m0.4827586206896552\u001b[0m \u001b[36mrecall\u001b[0m=\u001b[35m0.42424242424242425\u001b[0m\n",
      "\u001b[2m2025-05-05 19:04:49\u001b[0m [\u001b[32m\u001b[1minfo     \u001b[0m] \u001b[1mResults saved to ../artifacts/transferability_results.jsonl\u001b[0m\n",
      "\u001b[2m2025-05-05 19:04:49\u001b[0m [\u001b[32m\u001b[1minfo     \u001b[0m] \u001b[1mResults saved to ../artifacts/transferability_results.jsonl\u001b[0m\n",
      "\u001b[2m2025-05-05 19:04:49\u001b[0m [\u001b[32m\u001b[1minfo     \u001b[0m] \u001b[1mResults saved to ../artifacts/transferability_results.jsonl\u001b[0m\n"
     ]
    },
    {
     "name": "stderr",
     "output_type": "stream",
     "text": [
      "\n"
     ]
    }
   ],
   "source": [
    "results_graph_code_bert_defects = test_bert_model(\n",
    "    *load_bert_model(GRAPH_CODE_BERT_DEFECTS.path),\n",
    "    pd.read_csv(DEFECT_DATASET.dataset_path),\n",
    "    load_training_indexes(DEFECT_DATASET.training_idx_path),\n",
    ")\n",
    "results_graph_code_bert_defects_on_gbug = test_bert_model(\n",
    "    *load_bert_model(GRAPH_CODE_BERT_DEFECTS.path),\n",
    "    pd.read_csv(GBUG_DATASET.dataset_path),\n",
    "    load_training_indexes(GBUG_DATASET.training_idx_path),\n",
    ")\n",
    "results_graph_code_bert_defects_on_human = test_bert_model(\n",
    "    *load_bert_model(GRAPH_CODE_BERT_DEFECTS.path),\n",
    "    pd.read_csv(HUMAN_DATASET.dataset_path),\n",
    "    load_training_indexes(HUMAN_DATASET.training_idx_path),\n",
    ")\n",
    "transf_graph_code_bert_defects_on_gbug= calculate_f1_shift(\n",
    "    results_graph_code_bert_defects_on_gbug,\n",
    "    results_graph_code_bert_defects,\n",
    ")\n",
    "transf_graph_code_bert_defects_on_human= calculate_f1_shift(\n",
    "    results_graph_code_bert_defects_on_human,\n",
    "    results_graph_code_bert_defects,\n",
    ")\n",
    "# Save the results\n",
    "save_results(\n",
    "    \"results_graph_code_bert_defects\",\n",
    "    results_graph_code_bert_defects,\n",
    ")\n",
    "save_results(\n",
    "    \"results_graph_code_bert_defects_on_gbug\",\n",
    "    results_graph_code_bert_defects_on_gbug,\n",
    ")\n",
    "save_results(\n",
    "    \"results_graph_code_bert_defects_on_human\",\n",
    "    results_graph_code_bert_defects_on_human,\n",
    ")"
   ]
  },
  {
   "cell_type": "code",
   "execution_count": 55,
   "id": "2474c7ab",
   "metadata": {},
   "outputs": [
    {
     "name": "stdout",
     "output_type": "stream",
     "text": [
      "\u001b[2m2025-05-05 19:04:49\u001b[0m [\u001b[32m\u001b[1minfo     \u001b[0m] \u001b[1mResults saved to ../artifacts/transferability_results.jsonl\u001b[0m\n"
     ]
    }
   ],
   "source": [
    "\n",
    "transf_graph_code_bert_defects = TransferabilityPerformance(\n",
    "    on_gbug=transf_graph_code_bert_defects_on_gbug,\n",
    "    on_humaneval=transf_graph_code_bert_defects_on_human,\n",
    ")\n",
    "save_results(\"transf_graph_code_bert_defects\", transf_graph_code_bert_defects)"
   ]
  },
  {
   "cell_type": "code",
   "execution_count": 56,
   "id": "a6580e66",
   "metadata": {},
   "outputs": [
    {
     "name": "stderr",
     "output_type": "stream",
     "text": [
      "100%|██████████| 66/66 [00:06<00:00, 10.36it/s]"
     ]
    },
    {
     "name": "stdout",
     "output_type": "stream",
     "text": [
      "\u001b[2m2025-05-05 19:04:56\u001b[0m [\u001b[32m\u001b[1minfo     \u001b[0m] \u001b[1mClassification report:        \u001b[0m \u001b[36maccuracy\u001b[0m=\u001b[35m0.5606060606060606\u001b[0m \u001b[36mf1\u001b[0m=\u001b[35m0.5245901639344263\u001b[0m \u001b[36mprecision\u001b[0m=\u001b[35m0.5714285714285714\u001b[0m \u001b[36mrecall\u001b[0m=\u001b[35m0.48484848484848486\u001b[0m\n"
     ]
    },
    {
     "name": "stderr",
     "output_type": "stream",
     "text": [
      "\n",
      "100%|██████████| 60/60 [00:08<00:00,  7.22it/s]"
     ]
    },
    {
     "name": "stdout",
     "output_type": "stream",
     "text": [
      "\u001b[2m2025-05-05 19:05:05\u001b[0m [\u001b[32m\u001b[1minfo     \u001b[0m] \u001b[1mClassification report:        \u001b[0m \u001b[36maccuracy\u001b[0m=\u001b[35m0.5166666666666667\u001b[0m \u001b[36mf1\u001b[0m=\u001b[35m0.29268292682926833\u001b[0m \u001b[36mprecision\u001b[0m=\u001b[35m0.5454545454545454\u001b[0m \u001b[36mrecall\u001b[0m=\u001b[35m0.2\u001b[0m\n"
     ]
    },
    {
     "name": "stderr",
     "output_type": "stream",
     "text": [
      "\n",
      "100%|██████████| 186/186 [00:23<00:00,  7.91it/s]"
     ]
    },
    {
     "name": "stdout",
     "output_type": "stream",
     "text": [
      "\u001b[2m2025-05-05 19:05:29\u001b[0m [\u001b[32m\u001b[1minfo     \u001b[0m] \u001b[1mClassification report:        \u001b[0m \u001b[36maccuracy\u001b[0m=\u001b[35m0.5161290322580645\u001b[0m \u001b[36mf1\u001b[0m=\u001b[35m0.296875\u001b[0m \u001b[36mprecision\u001b[0m=\u001b[35m0.5428571428571428\u001b[0m \u001b[36mrecall\u001b[0m=\u001b[35m0.20430107526881722\u001b[0m\n"
     ]
    },
    {
     "name": "stderr",
     "output_type": "stream",
     "text": [
      "\n"
     ]
    },
    {
     "name": "stdout",
     "output_type": "stream",
     "text": [
      "\u001b[2m2025-05-05 19:05:29\u001b[0m [\u001b[32m\u001b[1minfo     \u001b[0m] \u001b[1mResults saved to ../artifacts/transferability_results.jsonl\u001b[0m\n",
      "\u001b[2m2025-05-05 19:05:29\u001b[0m [\u001b[32m\u001b[1minfo     \u001b[0m] \u001b[1mResults saved to ../artifacts/transferability_results.jsonl\u001b[0m\n",
      "\u001b[2m2025-05-05 19:05:29\u001b[0m [\u001b[32m\u001b[1minfo     \u001b[0m] \u001b[1mResults saved to ../artifacts/transferability_results.jsonl\u001b[0m\n",
      "\u001b[2m2025-05-05 19:05:29\u001b[0m [\u001b[32m\u001b[1minfo     \u001b[0m] \u001b[1mResults saved to ../artifacts/transferability_results.jsonl\u001b[0m\n"
     ]
    }
   ],
   "source": [
    "results_graph_code_bert_humaneval = test_bert_model(\n",
    "    *load_bert_model(GRAPH_CODE_BERT_HUMAN.path),\n",
    "    pd.read_csv(HUMAN_DATASET.dataset_path),\n",
    "    load_training_indexes(HUMAN_DATASET.training_idx_path),\n",
    ")\n",
    "results_graph_code_bert_humaneval_on_gbug = test_bert_model(\n",
    "    *load_bert_model(GRAPH_CODE_BERT_HUMAN.path),\n",
    "    pd.read_csv(GBUG_DATASET.dataset_path),\n",
    "    load_training_indexes(GBUG_DATASET.training_idx_path),\n",
    ")\n",
    "results_graph_code_bert_humaneval_on_defects = test_bert_model(\n",
    "    *load_bert_model(GRAPH_CODE_BERT_HUMAN.path),\n",
    "    pd.read_csv(DEFECT_DATASET.dataset_path),\n",
    "    load_training_indexes(DEFECT_DATASET.training_idx_path),\n",
    ")\n",
    "transf_graph_code_bert_humaneval_on_gbug= calculate_f1_shift(\n",
    "    results_graph_code_bert_humaneval_on_gbug,\n",
    "    results_graph_code_bert_humaneval,\n",
    ")\n",
    "transf_graph_code_bert_humaneval_on_defects= calculate_f1_shift(\n",
    "    results_graph_code_bert_humaneval_on_defects,\n",
    "    results_graph_code_bert_humaneval,\n",
    ")\n",
    "# Save the results\n",
    "save_results(\n",
    "    \"results_graph_code_bert_humaneval\",\n",
    "    results_graph_code_bert_humaneval,\n",
    ")\n",
    "save_results(\n",
    "    \"results_graph_code_bert_humaneval_on_gbug\",\n",
    "    results_graph_code_bert_humaneval_on_gbug,\n",
    ")\n",
    "save_results(\n",
    "    \"results_graph_code_bert_humaneval_on_defects\",\n",
    "    results_graph_code_bert_humaneval_on_defects,\n",
    ")\n",
    "\n",
    "transf_graph_code_bert_humaneval = TransferabilityPerformance(\n",
    "    on_defects=transf_graph_code_bert_humaneval_on_defects,\n",
    "    on_gbug=transf_graph_code_bert_humaneval_on_gbug,\n",
    ")\n",
    "save_results(\n",
    "    \"transf_graph_code_bert_humaneval\",\n",
    "    transf_graph_code_bert_humaneval,\n",
    ")"
   ]
  },
  {
   "cell_type": "markdown",
   "id": "48b95cb4",
   "metadata": {},
   "source": [
    "# Feature Importance"
   ]
  },
  {
   "cell_type": "code",
   "execution_count": null,
   "id": "4f17de2f",
   "metadata": {},
   "outputs": [],
   "source": [
    "N_FEATURES_IMPORTANCE = 50\n",
    "\n",
    "SAE_ACTIVATIONS_GBUG_GPT2_FEATURE_IMPORTANCE = SAE_ACTIVATIONS(\n",
    "    layer=0,\n",
    "    top_k=N_FEATURES_IMPORTANCE,\n",
    "    original_dataset_path=\"../gpt2_gbug-java/\",\n",
    ")\n",
    "SAE_ACTIVATIONS_DEFECTS4J_FEATURE_IMPORTANCE = SAE_ACTIVATIONS(\n",
    "    layer=0,\n",
    "    top_k=N_FEATURES_IMPORTANCE,\n",
    "    original_dataset_path=\"../gpt2_defects4j/\",\n",
    ")\n",
    "SAE_ACTIVATIONS_HUMANEVL_FEATURE_IMPORTANCE = SAE_ACTIVATIONS(\n",
    "    layer=0,\n",
    "    top_k=N_FEATURES_IMPORTANCE,\n",
    "    original_dataset_path=\"../gpt2_humaneval/\",\n",
    ")\n",
    "\n",
    "import numpy as np\n",
    "import matplotlib.pyplot as plt\n",
    "\n",
    "# Load models and settings\n",
    "clf_gbug, top_k_gbug = load_sae_clf_settings(SAE_ACTIVATIONS_GBUG_GPT2_FEATURE_IMPORTANCE)\n",
    "clf_defects4j, top_k_defects4j = load_sae_clf_settings(SAE_ACTIVATIONS_DEFECTS4J_FEATURE_IMPORTANCE)\n",
    "clf_humaneval, top_k_humaneval = load_sae_clf_settings(SAE_ACTIVATIONS_HUMANEVL_FEATURE_IMPORTANCE)\n",
    "\n",
    "# Get feature importances and compute cumulative sums\n",
    "importances_gbug = np.cumsum(np.sort(clf_gbug.best_estimator_.feature_importances_)[::-1])\n",
    "importances_defects4j = np.cumsum(np.sort(clf_defects4j.best_estimator_.feature_importances_)[::-1])\n",
    "importances_humaneval = np.cumsum(np.sort(clf_humaneval.best_estimator_.feature_importances_)[::-1])\n",
    "\n",
    "# Define x-axis labels\n",
    "x_labels = [f\"{i+1}st\" if i == 0 else (f\"{i+1}nd\" if i == 1 else (f\"{i+1}rd\" if i == 2 else f\"{i+1}th\")) for i in range(N_FEATURES_IMPORTANCE)]\n",
    "\n",
    "# Define custom color palette\n",
    "color_gbug = \"#d3dee3\"      # Soft Blue-Grey\n",
    "color_defects4j = \"#fdf3d1\"  # Light Yellow\n",
    "color_humaneval = \"#b8b09c\"  # Neutral Grey\n",
    "background_color = \"#ffffff\"  # White background for clarity\n",
    "\n",
    "# Plotting\n",
    "plt.figure(figsize=(16, 8))\n",
    "plt.gca().set_facecolor(background_color)\n",
    "\n",
    "plt.plot(importances_gbug, label=\"GBUG-Java\", color=color_gbug, marker='o', markersize=4, linewidth=2)\n",
    "plt.plot(importances_defects4j, label=\"Defects4J\", color=color_defects4j, marker='s', markersize=4, linewidth=2)\n",
    "plt.plot(importances_humaneval, label=\"HumanEval\", color=color_humaneval, marker='^', markersize=4, linewidth=2)\n",
    "\n",
    "# X-axis settings\n",
    "step = max(1, len(x_labels) // 20)\n",
    "plt.xticks(range(0, len(x_labels), step), x_labels[::step], rotation=45, ha='right', fontsize=10)\n",
    "\n",
    "# Labels, grid, legend\n",
    "plt.xlabel(\"Feature Rank\", fontsize=14)\n",
    "plt.ylabel(\"Cumulative Importance for GPT2\", fontsize=14)\n",
    "plt.title(\"Cumulative Feature Importances Across Datasets\", fontsize=18, weight='bold')\n",
    "plt.grid(axis='y', linestyle='--', alpha=0.6)\n",
    "plt.legend(fontsize=12, frameon=True, facecolor=background_color, edgecolor='grey')\n",
    "\n",
    "plt.tight_layout()\n",
    "plt.show()"
   ]
  },
  {
   "cell_type": "code",
   "execution_count": null,
   "id": "87d17b92",
   "metadata": {},
   "outputs": [],
   "source": [
    "\n",
    "SAE_ACTIVATIONS_GBUG_GEMMA2_FEATURE_IMPORTANCE = SAE_ACTIVATIONS(\n",
    "    layer=1,\n",
    "    top_k=N_FEATURES_IMPORTANCE,\n",
    "    original_dataset_path=\"../gemma2_gbug-java/\",\n",
    "    base_gbug_path=\"../gemma2_gbug-java/\",\n",
    "    base_defects_path=\"../gemma2_defects4j/\",\n",
    "    base_humaneval_path=\"../gemma2_humaneval/\"\n",
    ")\n",
    "SAE_ACTIVATIONS_DEFECTS4J_GEMMA2_FEATURE_IMPORTANCE = SAE_ACTIVATIONS(\n",
    "    layer=1,\n",
    "    top_k=N_FEATURES_IMPORTANCE,\n",
    "    original_dataset_path=\"../gemma2_defects4j/\",\n",
    "    base_gbug_path=\"../gemma2_gbug-java/\",\n",
    "    base_defects_path=\"../gemma2_defects4j/\",\n",
    "    base_humaneval_path=\"../gemma2_humaneval/\"\n",
    ")\n",
    "SAE_ACTIVATIONS_HUMANEVL_GEMMA2_FEATURE_IMPORTANCE = SAE_ACTIVATIONS(\n",
    "    layer=1,\n",
    "    top_k=N_FEATURES_IMPORTANCE,\n",
    "    original_dataset_path=\"../gemma2_humaneval/\",\n",
    "    base_gbug_path=\"../gemma2_gbug-java/\",\n",
    "    base_defects_path=\"../gemma2_defects4j/\",\n",
    "    base_humaneval_path=\"../gemma2_humaneval/\"\n",
    ")\n",
    "\n",
    "\n",
    "import numpy as np\n",
    "import matplotlib.pyplot as plt\n",
    "\n",
    "# Load models and settings\n",
    "clf_gbug, top_k_gbug = load_sae_clf_settings(SAE_ACTIVATIONS_GBUG_GEMMA2_FEATURE_IMPORTANCE)\n",
    "clf_defects4j, top_k_defects4j = load_sae_clf_settings(SAE_ACTIVATIONS_DEFECTS4J_GEMMA2_FEATURE_IMPORTANCE)\n",
    "clf_humaneval, top_k_humaneval = load_sae_clf_settings(SAE_ACTIVATIONS_HUMANEVL_GEMMA2_FEATURE_IMPORTANCE)\n",
    "\n",
    "# Get feature importances and compute cumulative sums\n",
    "importances_gbug = np.cumsum(np.sort(clf_gbug.best_estimator_.feature_importances_)[::-1])\n",
    "importances_defects4j = np.cumsum(np.sort(clf_defects4j.best_estimator_.feature_importances_)[::-1])\n",
    "importances_humaneval = np.cumsum(np.sort(clf_humaneval.best_estimator_.feature_importances_)[::-1])\n",
    "\n",
    "# Define x-axis labels\n",
    "x_labels = [f\"{i+1}st\" if i == 0 else (f\"{i+1}nd\" if i == 1 else (f\"{i+1}rd\" if i == 2 else f\"{i+1}th\")) for i in range(N_FEATURES_IMPORTANCE)]\n",
    "\n",
    "# Define custom color palette\n",
    "color_gbug = \"#d3dee3\"      # Soft Blue-Grey\n",
    "color_defects4j = \"#fdf3d1\"  # Light Yellow\n",
    "color_humaneval = \"#b8b09c\"  # Neutral Grey\n",
    "background_color = \"#ffffff\"  # White background for clarity\n",
    "\n",
    "# Plotting\n",
    "plt.figure(figsize=(16, 8))\n",
    "plt.gca().set_facecolor(background_color)\n",
    "\n",
    "plt.plot(importances_gbug, label=\"GBUG-Java\", color=color_gbug, marker='o', markersize=4, linewidth=2)\n",
    "plt.plot(importances_defects4j, label=\"Defects4J\", color=color_defects4j, marker='s', markersize=4, linewidth=2)\n",
    "plt.plot(importances_humaneval, label=\"HumanEval\", color=color_humaneval, marker='^', markersize=4, linewidth=2)\n",
    "\n",
    "# X-axis settings\n",
    "step = max(1, len(x_labels) // 20)\n",
    "plt.xticks(range(0, len(x_labels), step), x_labels[::step], rotation=45, ha='right', fontsize=10)\n",
    "\n",
    "# Labels, grid, legend\n",
    "plt.xlabel(\"Feature Rank\", fontsize=14)\n",
    "plt.ylabel(\"Cumulative Importance for Gemma2B\", fontsize=14)\n",
    "plt.title(\"Cumulative Feature Importances Across Datasets\", fontsize=18, weight='bold')\n",
    "plt.grid(axis='y', linestyle='--', alpha=0.6)\n",
    "plt.legend(fontsize=12, frameon=True, facecolor=background_color, edgecolor='grey')\n",
    "\n",
    "plt.tight_layout()\n",
    "plt.show()\n"
   ]
  },
  {
   "cell_type": "markdown",
   "id": "9203a1f6",
   "metadata": {},
   "source": [
    "# Load prestored data"
   ]
  },
  {
   "cell_type": "code",
   "execution_count": 57,
   "id": "c0fb85ca",
   "metadata": {},
   "outputs": [],
   "source": [
    "from typing import Dict\n",
    "def read_saved_results(\n",
    "    path=\"../artifacts/transferability_results.jsonl\",\n",
    "    transferability: bool = True,\n",
    ") -> Dict[str, TransferabilityPerformance]:\n",
    "    \"\"\"\n",
    "    Read the saved results from the jsonl file.\n",
    "    \"\"\"\n",
    "    our_dict = {}\n",
    "    with open(path, \"r\") as f:\n",
    "        for line in f:\n",
    "            data = json.loads(line)\n",
    "            for key, value in data.items():\n",
    "                if transferability:\n",
    "                    if key.startswith(\"trans\"):\n",
    "                        our_dict[key] = TransferabilityPerformance(**value)\n",
    "                else:\n",
    "                    if key.startswith(\"trans\"):\n",
    "                        continue\n",
    "                    our_dict[key] = Results(**value)\n",
    "    return our_dict\n",
    "    "
   ]
  },
  {
   "cell_type": "code",
   "execution_count": 65,
   "id": "e5d27242",
   "metadata": {},
   "outputs": [
    {
     "name": "stdout",
     "output_type": "stream",
     "text": [
      "dict_keys(['transf_modern_bert_large_gbug', 'transf_modern_bert_large_defects', 'transf_modern_bert_large_humaneval', 'transf_modern_bert_base_gbug', 'transf_modern_bert_base_defects', 'transf_modern_bert_base_humaneval', 'transf_graph_code_bert_gbug', 'transf_graph_code_bert_defects', 'transf_graph_code_bert_humaneval', 'transf_rf_gbug_gpt2', 'transf_rf_defects4j_gpt2', 'transf_rf_humaneval_gpt2', 'transf_rf_gbug_gemma2', 'transf_rf_defects4j_gemma2', 'transf_rf_humaneval_gemma2', 'transf_knn_gbug', 'transf_rf_gbug', 'transf_knn_defects', 'transf_rf_defects', 'transf_knn_humaneval', 'transf_rf_humaneval'])\n"
     ]
    }
   ],
   "source": [
    "transferability_results = read_saved_results()\n",
    "print(transferability_results.keys())\n",
    "\n",
    "transf_rf_gbug_gpt2 = transferability_results[\"transf_rf_gbug_gpt2\"]\n",
    "transf_rf_defects4j_gpt2 = transferability_results[\"transf_rf_defects4j_gpt2\"]\n",
    "transf_rf_humaneval_gpt2 = transferability_results[\"transf_rf_humaneval_gpt2\"]\n",
    "transf_rf_gbug_gemma2 = transferability_results[\"transf_rf_gbug_gemma2\"]\n",
    "transf_rf_defects4j_gemma2 = transferability_results[\"transf_rf_defects4j_gemma2\"]\n",
    "transf_rf_humaneval_gemma2 = transferability_results[\"transf_rf_humaneval_gemma2\"]\n",
    "# transf_rf_gbug = transferability_results[\"transf_rf_gbug\"]\n",
    "# transf_knn_gbug = transferability_results[\"transf_knn_gbug\"]\n",
    "# transf_rf_defects = transferability_results[\"transf_rf_defects\"]\n",
    "# transf_knn_defects = transferability_results[\"transf_knn_defects\"]\n",
    "# transf_rf_humaneval = transferability_results[\"transf_rf_humaneval\"]\n",
    "# transf_knn_humaneval = transferability_results[\"transf_knn_humaneval\"]\n",
    "transf_modern_bert_large_gbug = transferability_results[\"transf_modern_bert_large_gbug\"]\n",
    "transf_modern_bert_large_defects = transferability_results[\"transf_modern_bert_large_defects\"]\n",
    "transf_modern_bert_large_humaneval = transferability_results[\"transf_modern_bert_large_humaneval\"]\n",
    "transf_modern_bert_base_gbug = transferability_results[\"transf_modern_bert_base_gbug\"]\n",
    "transf_modern_bert_base_defects = transferability_results[\"transf_modern_bert_base_defects\"]\n",
    "transf_modern_bert_base_humaneval = transferability_results[\"transf_modern_bert_base_humaneval\"]\n",
    "transf_graph_code_bert_humaneval = transferability_results[\"transf_graph_code_bert_humaneval\"]\n",
    "transf_graph_code_bert_gbug = transferability_results[\"transf_graph_code_bert_gbug\"]\n",
    "transf_graph_code_bert_defects = transferability_results[\"transf_graph_code_bert_defects\"]\n"
   ]
  },
  {
   "cell_type": "code",
   "execution_count": 66,
   "id": "5e3597be",
   "metadata": {},
   "outputs": [
    {
     "name": "stdout",
     "output_type": "stream",
     "text": [
      "dict_keys(['results_modern_bert_large_gbug', 'results_modern_bert_large_gbug_on_defects', 'results_modern_bert_large_gbug_on_human', 'results_modern_bert_large_defects', 'results_modern_bert_large_defects_on_gbug', 'results_modern_bert_large_defects_on_human', 'results_modern_bert_large_humaneval', 'results_modern_bert_large_humaneval_on_gbug', 'results_modern_bert_base_gbug', 'results_modern_bert_base_gbug_on_defects', 'results_modern_bert_base_gbug_on_human', 'results_modern_bert_base_defects', 'results_modern_bert_base_defects_on_gbug', 'results_modern_bert_base_defects_on_human', 'results_modern_bert_base_humaneval', 'results_modern_bert_base_humaneval_on_gbug', 'results_modern_bert_base_humaneval_on_defects', 'results_graph_code_bert_gbug', 'results_graph_code_bert_gbug_on_defects', 'results_graph_code_bert_gbug_on_human', 'results_graph_code_bert_defects', 'results_graph_code_bert_defects_on_gbug', 'results_graph_code_bert_defects_on_human', 'results_graph_code_bert_humaneval', 'results_graph_code_bert_humaneval_on_gbug', 'results_graph_code_bert_humaneval_on_defects', 'sae_rf_gbug_gpt2', 'sae_rf_gbug_gpt2_on_defects4j', 'sae_rf_gbug_gpt2_on_humaneval', 'sae_rf_defects4j', 'sae_rf_defects4j_on_gbug', 'sae_rf_defects4j_on_humaneval', 'sae_rf_humaneval', 'sae_rf_humaneval_on_gbug', 'sae_rf_humaneval_on_defects4j', 'sae_rf_gbug_gemma2', 'sae_rf_gbug_gemma2_on_defects4j', 'sae_rf_gbug_gemma2_on_humaneval', 'sae_rf_defects4j_gemma2', 'sae_rf_defects4j_gemma2_on_gbug', 'sae_rf_defects4j_gemma2_on_humaneval', 'sae_rf_humaneval_gemma2', 'sae_rf_humaneval_gemma2_on_gbug', 'sae_rf_humaneval_gemma2_on_defects4j', 'results_gbug_knn', 'results_gbug_knn_defects', 'results_gbug_knn_human', 'results_gbug_rf', 'results_gbug_rf_defects', 'results_gbug_rf_human', 'results_defects_knn', 'results_defects_knn_gbug', 'results_defects_knn_human', 'results_defects_rf', 'results_defects_rf_gbug', 'results_defects_rf_human', 'results_humaneval_knn', 'results_humaneval_knn_gbug', 'results_humaneval_knn_defects', 'results_humaneval_rf', 'results_humaneval_rf_gbug', 'results_humaneval_rf_defects'])\n"
     ]
    }
   ],
   "source": [
    "results = read_saved_results(transferability=False)\n",
    "print(results.keys())\n",
    "\n",
    "# results_gbug_knn = results[\"results_gbug_knn\"]\n",
    "# results_gbug_rf = results[\"results_gbug_rf\"]\n",
    "# results_defects_knn = results[\"results_defects_knn\"]\n",
    "# results_defects_rf = results[\"results_defects_rf\"]\n",
    "# results_humaneval_knn = results[\"results_humaneval_knn\"]\n",
    "# results_humaneval_rf = results[\"results_humaneval_rf\"]\n",
    "results_modern_bert_base_gbug = results[\"results_modern_bert_base_gbug\"]\n",
    "results_modern_bert_base_defects = results[\"results_modern_bert_base_defects\"]\n",
    "results_modern_bert_base_humaneval = results[\"results_modern_bert_base_humaneval\"]\n",
    "results_modern_bert_large_gbug = results[\"results_modern_bert_large_gbug\"]\n",
    "results_modern_bert_large_defects = results[\"results_modern_bert_large_defects\"]\n",
    "results_modern_bert_large_humaneval = results[\"results_modern_bert_large_humaneval\"]\n",
    "results_graph_code_bert_gbug = results[\"results_graph_code_bert_gbug\"]\n",
    "results_graph_code_bert_defects = results[\"results_graph_code_bert_defects\"]\n",
    "results_graph_code_bert_humaneval = results[\"results_graph_code_bert_humaneval\"]\n",
    "sae_rf_gbug_gpt2 = results[\"sae_rf_gbug_gpt2\"]\n",
    "sae_rf_defects4j_gpt2 = results[\"sae_rf_defects4j\"]\n",
    "sae_rf_humaneval_gpt2 = results[\"sae_rf_humaneval\"]\n",
    "sae_rf_gbug_gemma2 = results[\"sae_rf_gbug_gemma2\"]\n",
    "sae_rf_defects4j_gemma2 = results[\"sae_rf_defects4j_gemma2\"]\n",
    "sae_rf_humaneval_gemma2 = results[\"sae_rf_humaneval_gemma2\"]\n",
    "\n"
   ]
  },
  {
   "cell_type": "markdown",
   "id": "bbd6f726",
   "metadata": {},
   "source": [
    "# Graphs"
   ]
  },
  {
   "cell_type": "code",
   "execution_count": 67,
   "id": "a4588529",
   "metadata": {},
   "outputs": [
    {
     "data": {
      "image/png": "[encoded data removed]",
      "text/plain": [
       "<Figure size 1200x600 with 1 Axes>"
      ]
     },
     "metadata": {},
     "output_type": "display_data"
    }
   ],
   "source": [
    "import matplotlib.pyplot as plt\n",
    "import numpy as np\n",
    "import seaborn as sns\n",
    "\n",
    "# Custom color palette inspired by the diagram\n",
    "colors = {\n",
    "    \"gbug\": \"#d3dee3\",         # Soft Blue-Grey\n",
    "    \"defects\": \"#fdf3d1\",      # Light Yellow\n",
    "    \"humaneval\": \"#b8b09c\"     # Neutral Grey\n",
    "}\n",
    "\n",
    "sns.set(style=\"whitegrid\", context=\"talk\")\n",
    "\n",
    "methods = ['GPT2 RF (Ours)', 'Gemma2 RF (Ours)', 'Modern BERT Large', 'Modern BERT Base', 'Graph Code BERT',\n",
    "           'TF-IDF + RF', 'TF-IDF + KNN']\n",
    "\n",
    "# Replace these with your actual F1 values\n",
    "results_gbug = [\n",
    "    sae_rf_gbug_gpt2.f1,\n",
    "    sae_rf_gbug_gemma2.f1,\n",
    "    results_modern_bert_large_gbug.f1,\n",
    "    results_modern_bert_base_gbug.f1,\n",
    "    results_graph_code_bert_gbug.f1,\n",
    "    results_gbug_rf.f1,\n",
    "    results_gbug_knn.f1,\n",
    "]\n",
    "results_defects = [\n",
    "    sae_rf_defects4j_gpt2.f1,\n",
    "    sae_rf_defects4j_gemma2.f1,\n",
    "    results_modern_bert_large_defects.f1,\n",
    "    results_modern_bert_base_defects.f1,\n",
    "    results_graph_code_bert_defects.f1,\n",
    "    results_defects_rf.f1,\n",
    "    results_defects_knn.f1,\n",
    "]\n",
    "results_humaneval = [\n",
    "    sae_rf_humaneval_gpt2.f1,\n",
    "    sae_rf_humaneval_gemma2.f1,\n",
    "    results_modern_bert_large_humaneval.f1,\n",
    "    results_modern_bert_base_humaneval.f1,\n",
    "    results_graph_code_bert_humaneval.f1,\n",
    "    results_humaneval_rf.f1,\n",
    "    results_humaneval_knn.f1,\n",
    "]\n",
    "\n",
    "x = np.arange(len(methods))\n",
    "width = 0.25\n",
    "\n",
    "fig, ax = plt.subplots(figsize=(12, 6))\n",
    "\n",
    "rects1 = ax.bar(x - width, results_gbug, width, label='Gbug', color=colors[\"gbug\"])\n",
    "rects2 = ax.bar(x, results_defects, width, label='Defects4j', color=colors[\"defects\"])\n",
    "rects3 = ax.bar(x + width, results_humaneval, width, label='Humaneval', color=colors[\"humaneval\"])\n",
    "\n",
    "# Aesthetics\n",
    "ax.set_ylabel('F1 Score', fontsize=13)\n",
    "ax.set_title('F1 Score by Classifier and Dataset', fontsize=16, fontweight='bold')\n",
    "ax.set_xticks(x)\n",
    "ax.set_xticklabels(methods, rotation=15, ha='right', fontsize=11)\n",
    "ax.set_ylim(0, 1)\n",
    "ax.legend(fontsize=12, loc='upper right', frameon=False)\n",
    "sns.despine()\n",
    "\n",
    "# Add value labels\n",
    "def autolabel(rects):\n",
    "    for rect in rects:\n",
    "        height = rect.get_height()\n",
    "        ax.annotate(f'{height:.2f}', \n",
    "                    xy=(rect.get_x() + rect.get_width() / 2, height),\n",
    "                    xytext=(0, 5), \n",
    "                    textcoords=\"offset points\",\n",
    "                    ha='center', va='bottom', fontsize=10)\n",
    "\n",
    "autolabel(rects1)\n",
    "autolabel(rects2)\n",
    "autolabel(rects3)\n",
    "\n",
    "plt.tight_layout()\n",
    "plt.show()\n"
   ]
  },
  {
   "cell_type": "code",
   "execution_count": 62,
   "id": "4e109a7b",
   "metadata": {},
   "outputs": [
    {
     "data": {
      "image/png": "[encoded data removed]",
      "text/plain": [
       "<Figure size 1200x600 with 1 Axes>"
      ]
     },
     "metadata": {},
     "output_type": "display_data"
    }
   ],
   "source": [
    "# Now for accuracy\n",
    "results_gbug = [\n",
    "    sae_rf_gbug_gpt2.accuracy,\n",
    "    sae_rf_gbug_gemma2.accuracy,\n",
    "    results_modern_bert_large_gbug.accuracy,\n",
    "    results_modern_bert_base_gbug.accuracy,\n",
    "    results_graph_code_bert_gbug.accuracy,\n",
    "    results_gbug_rf.accuracy,\n",
    "    results_gbug_knn.accuracy,\n",
    "]\n",
    "results_defects = [\n",
    "    sae_rf_defects4j_gpt2.accuracy,\n",
    "    sae_rf_defects4j_gemma2.accuracy,\n",
    "    results_modern_bert_large_defects.accuracy,\n",
    "    results_modern_bert_base_defects.accuracy,\n",
    "    results_graph_code_bert_defects.accuracy,\n",
    "    results_defects_rf.accuracy,\n",
    "    results_defects_knn.accuracy,\n",
    "]\n",
    "results_humaneval = [\n",
    "    sae_rf_humaneval_gpt2.accuracy,\n",
    "    sae_rf_humaneval_gemma2.accuracy,\n",
    "    results_modern_bert_large_humaneval.accuracy,\n",
    "    results_modern_bert_base_humaneval.accuracy,\n",
    "    results_graph_code_bert_humaneval.accuracy,\n",
    "    results_humaneval_rf.accuracy,\n",
    "    results_humaneval_knn.accuracy,\n",
    "]\n",
    "\n",
    "x = np.arange(len(methods))\n",
    "width = 0.25\n",
    "\n",
    "fig, ax = plt.subplots(figsize=(12, 6))\n",
    "\n",
    "rects1 = ax.bar(x - width, results_gbug, width, label='Gbug', color=colors[\"gbug\"])\n",
    "rects2 = ax.bar(x, results_defects, width, label='Defects4j', color=colors[\"defects\"])\n",
    "rects3 = ax.bar(x + width, results_humaneval, width, label='Humaneval', color=colors[\"humaneval\"])\n",
    "\n",
    "# Aesthetics\n",
    "ax.set_ylabel('Accuracy', fontsize=13)\n",
    "ax.set_title('Accuracy by Classifier and Dataset', fontsize=16, fontweight='bold')\n",
    "ax.set_xticks(x)\n",
    "ax.set_xticklabels(methods, rotation=15, ha='right', fontsize=11)\n",
    "ax.set_ylim(0, 1)\n",
    "ax.legend(fontsize=12, loc='upper right', frameon=False)\n",
    "sns.despine()\n",
    "\n",
    "# Add value labels\n",
    "def autolabel(rects):\n",
    "    for rect in rects:\n",
    "        height = rect.get_height()\n",
    "        ax.annotate(f'{height:.2f}', \n",
    "                    xy=(rect.get_x() + rect.get_width() / 2, height),\n",
    "                    xytext=(0, 5), \n",
    "                    textcoords=\"offset points\",\n",
    "                    ha='center', va='bottom', fontsize=10)\n",
    "\n",
    "autolabel(rects1)\n",
    "autolabel(rects2)\n",
    "autolabel(rects3)\n",
    "\n",
    "plt.tight_layout()\n",
    "plt.show()\n",
    "\n"
   ]
  },
  {
   "cell_type": "code",
   "execution_count": 69,
   "id": "9b269f9c",
   "metadata": {},
   "outputs": [],
   "source": [
    "\n",
    "# Transfer direction labels\n",
    "labels = [\n",
    "    \"Gbug → Defects4J\", \"Gbug → HumanEval\",\n",
    "    \"Defects4J → Gbug\", \"Defects4J → HumanEval\",\n",
    "    \"HumanEval → Gbug\", \"HumanEval → Defects4J\",\n",
    "]\n",
    "\n",
    "# Values for each model\n",
    "all_values = [\n",
    "    [\n",
    "        transf_rf_gbug_gpt2.on_defects, transf_rf_gbug_gpt2.on_humaneval,\n",
    "        transf_rf_defects4j_gpt2.on_gbug, transf_rf_defects4j_gpt2.on_humaneval,\n",
    "        transf_rf_humaneval_gpt2.on_gbug, transf_rf_humaneval_gpt2.on_defects,\n",
    "    ],\n",
    "    [\n",
    "        transf_rf_gbug_gemma2.on_defects, transf_rf_gbug_gemma2.on_humaneval,\n",
    "        transf_rf_defects4j_gemma2.on_gbug, transf_rf_defects4j_gemma2.on_humaneval,\n",
    "        transf_rf_humaneval_gemma2.on_gbug, transf_rf_humaneval_gemma2.on_defects,\n",
    "    ],\n",
    "    [\n",
    "        transf_modern_bert_large_gbug_on_defects, transf_modern_bert_large_gbug_on_human,\n",
    "        transf_modern_bert_large_defects_on_gbug, transf_modern_bert_large_defects_on_human,\n",
    "        transf_modern_bert_large_humaneval_on_gbug, transf_modern_bert_large_humaneval_on_defects,\n",
    "    ],\n",
    "    [\n",
    "        transf_modern_bert_base_gbug.on_defects, transf_modern_bert_base_gbug.on_humaneval,\n",
    "        transf_modern_bert_base_defects.on_gbug, transf_modern_bert_base_defects.on_humaneval,\n",
    "        transf_modern_bert_base_humaneval.on_gbug, transf_modern_bert_base_humaneval.on_defects,\n",
    "    ],\n",
    "    [\n",
    "        transf_graph_code_bert_gbug.on_defects, transf_graph_code_bert_gbug.on_humaneval,\n",
    "        transf_graph_code_bert_defects.on_gbug, transf_graph_code_bert_defects.on_humaneval,\n",
    "        transf_graph_code_bert_humaneval.on_gbug, transf_graph_code_bert_humaneval.on_defects,\n",
    "    ],\n",
    "    [\n",
    "        transf_rf_gbug.on_defects, transf_rf_gbug.on_humaneval,\n",
    "        transf_rf_defects.on_gbug, transf_rf_defects.on_humaneval,\n",
    "        transf_rf_humaneval.on_gbug, transf_rf_humaneval.on_defects,\n",
    "    ],\n",
    "    [\n",
    "        transf_knn_gbug.on_defects, transf_knn_gbug.on_humaneval,\n",
    "        transf_knn_defects.on_gbug, transf_knn_defects.on_humaneval,\n",
    "        transf_knn_humaneval.on_gbug, transf_knn_humaneval.on_defects,\n",
    "    ],\n",
    "]\n",
    "\n",
    "methods = [\n",
    "           'GPT2 RF (Ours)', \n",
    "           \"Gemma2 RF (Ours)\",\n",
    "           'Modern BERT Large',\n",
    "           'Modern BERT Base',\n",
    "           'Graph Code BERT',\n",
    "           #'TF-IDF + RF', \n",
    "           #'TF-IDF + KNN'\n",
    "           ]\n",
    "colors = [\n",
    "    \"#d3dee3\",  # Soft Blue-Grey\n",
    "    \"#fdf3d1\",  # Light Yellow\n",
    "    \"#b8b09c\",  # Neutral Grey\n",
    "    \"#909291\",  # Grey\n",
    "    \"#746c5c\",\n",
    "    \"#e5d8bc\",\n",
    "    \"#f2e6d4\",  # Light Beige\n",
    "    \"#d9d9d9\",  # Light Grey\n",
    "]\n",
    "\n",
    "\n",
    "# Hatching patterns for accessibility\n",
    "hatches = ['/', '\\\\', '|', '-', '+', 'x', 'o', '.']\n",
    "\n"
   ]
  },
  {
   "cell_type": "code",
   "execution_count": 70,
   "id": "1c06e859",
   "metadata": {},
   "outputs": [
    {
     "data": {
      "image/png": "[encoded data removed]",
      "text/plain": [
       "<Figure size 2000x800 with 3 Axes>"
      ]
     },
     "metadata": {},
     "output_type": "display_data"
    }
   ],
   "source": [
    "# Subsets for each direction group\n",
    "group_indices = [\n",
    "    [0, 1],  # Gbug →\n",
    "    [2, 3],  # Defects4J →\n",
    "    [4, 5],  # HumanEval →\n",
    "]\n",
    "\n",
    "fig, axs = plt.subplots(1, 3, figsize=(20, 8), sharex=True)\n",
    "\n",
    "width = 0.13\n",
    "\n",
    "for ax_idx, ax in enumerate(axs):\n",
    "    x = np.arange(2)\n",
    "    for i, (method_vals, method_name, color, hatch) in enumerate(zip(all_values, methods, colors, hatches)):\n",
    "        offset = (i - len(all_values)/2) * width + width/2\n",
    "        for j, idx in enumerate(group_indices[ax_idx]):\n",
    "            val = method_vals[idx]\n",
    "            if not np.isnan(val):\n",
    "                ax.barh(x[j] + offset, val, height=width * 0.9,\n",
    "                        label=method_name if j == 0 else \"\",\n",
    "                        color=color, hatch=hatch, edgecolor='black')\n",
    "                ax.annotate(f'{val:.1f}',\n",
    "                            xy=(val, x[j] + offset),\n",
    "                            xytext=(5 if val >= 0 else -5, 0),\n",
    "                            textcoords='offset points',\n",
    "                            ha='left' if val >= 0 else 'right',\n",
    "                            va='center',\n",
    "                            fontsize=9)\n",
    "    \n",
    "    ax.set_yticks(x)\n",
    "    ax.set_yticklabels([labels[i] for i in group_indices[ax_idx]], fontsize=11)\n",
    "    ax.axvline(0, color='gray', linestyle='--', linewidth=0.8)\n",
    "    ax.set_xlim(-100, 100)\n",
    "    if ax_idx == 0:\n",
    "        ax.set_ylabel(\"Transfer Directions\", fontsize=12)\n",
    "    if ax_idx == 1:\n",
    "        ax.set_xlabel(\"F1 Shift (%)\", fontsize=12)\n",
    "\n",
    "    # Set limits for the x-axis\n",
    "    ax.set_xlim(-100, 100)\n",
    "\n",
    "axs[1].set_title(\"Transferability Performance Across Dataset Pairs\", fontsize=16, pad=15)\n",
    "\n",
    "# Legend on last subplot\n",
    "handles, labels_uniq = axs[-1].get_legend_handles_labels()\n",
    "unique = dict(zip(labels_uniq, handles))\n",
    "# axs[-1].legend(unique.values(), unique.keys(), loc='lower right', fontsize=10, frameon=True)\n",
    "axs[-1].legend(\n",
    "    list(unique.values())[::-1],  # reversed handles\n",
    "    list(unique.keys())[::-1],    # reversed labels\n",
    "    loc='lower right',\n",
    "    fontsize=10,\n",
    "    frameon=True\n",
    ")\n",
    "plt.tight_layout()\n",
    "plt.show()"
   ]
  }
 ],
 "metadata": {
  "kernelspec": {
   "display_name": "phd",
   "language": "python",
   "name": "python3"
  },
  "language_info": {
   "codemirror_mode": {
    "name": "ipython",
    "version": 3
   },
   "file_extension": ".py",
   "mimetype": "text/x-python",
   "name": "python",
   "nbconvert_exporter": "python",
   "pygments_lexer": "ipython3",
   "version": "3.10.15"
  }
 },
 "nbformat": 4,
 "nbformat_minor": 5
}
