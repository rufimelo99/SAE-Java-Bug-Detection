{
 "cells": [
  {
   "cell_type": "code",
   "execution_count": 1,
   "id": "4540a187",
   "metadata": {},
   "outputs": [
    {
     "name": "stdout",
     "output_type": "stream",
     "text": [
      "\u001b[2m2025-04-23 02:04:55\u001b[0m [\u001b[32m\u001b[1minfo     \u001b[0m] \u001b[1mGetting device.               \u001b[0m \u001b[36mdevice\u001b[0m=\u001b[35mcpu\u001b[0m\n",
      "\u001b[2m2025-04-23 02:04:55\u001b[0m [\u001b[32m\u001b[1minfo     \u001b[0m] \u001b[1mDevice                        \u001b[0m \u001b[36mdevice\u001b[0m=\u001b[35mcpu\u001b[0m\n",
      "\u001b[2m2025-04-23 02:04:55\u001b[0m [\u001b[32m\u001b[1minfo     \u001b[0m] \u001b[1mGetting device.               \u001b[0m \u001b[36mdevice\u001b[0m=\u001b[35mcpu\u001b[0m\n"
     ]
    }
   ],
   "source": [
    "import pickle\n",
    "from dataclasses import dataclass\n",
    "import pandas as pd\n",
    "import json\n",
    "from typing import Optional\n",
    "from drl_patches.sparse_autoencoders.get_vectorizer import load_tfidf_vectorizer\n",
    "from drl_patches.sparse_autoencoders.getting_experiment_config import (\n",
    "    load_training_indexes,\n",
    ")\n",
    "import torch\n",
    "from drl_patches.logger import logger\n",
    "from drl_patches.sparse_autoencoders.classical_data_mining import get_metrics\n",
    "from drl_patches.sparse_autoencoders.utils import  set_seed\n",
    "from drl_patches.sparse_autoencoders.vulnerability_detection_features import (\n",
    "     get_vuln_safe_data\n",
    ")\n",
    "from drl_patches.sparse_autoencoders.getting_sorted_layer_features import (\n",
    "    get_top_features,\n",
    "    load_sorted_features,\n",
    ")\n",
    "from tqdm import trange\n",
    "set_seed(42)\n",
    "@dataclass\n",
    "class Results:\n",
    "    precision: float\n",
    "    recall: float\n",
    "    accuracy: float\n",
    "    f1: float\n",
    "\n",
    "\n",
    "@dataclass\n",
    "class TransferabilityPerformance:\n",
    "    on_defects: Optional[int] = None\n",
    "    on_humaneval: Optional[int] = None\n",
    "    on_gbug: Optional[int] = None\n",
    "\n",
    "def calculate_f1_shift(\n",
    "    results: Results,\n",
    "    baseline_results: Results,\n",
    ") -> dict:\n",
    "    \"\"\"\n",
    "    Calculate the shift in perfoamcene in terms of F1 score % changed\n",
    "    \"\"\"\n",
    "    f1_shift = (results.f1 - baseline_results.f1) / baseline_results.f1 * 100\n",
    "    \n",
    "    return f1_shift\n",
    "\n",
    "# Save the results\n",
    "def save_results(key, results, path=\"../artifacts/transferability_results.jsonl\"):\n",
    "    \"\"\"\n",
    "    Save the results to a jsonl file.\n",
    "    \"\"\"\n",
    "    with open(path, \"a\") as f:\n",
    "        f.write(json.dumps({key: results.__dict__}) + \"\\n\")\n",
    "    logger.info(f\"Results saved to {path}\")\n"
   ]
  },
  {
   "cell_type": "code",
   "execution_count": 2,
   "id": "14c1c72c",
   "metadata": {},
   "outputs": [],
   "source": [
    "@dataclass\n",
    "class Dataset:\n",
    "    dataset_path: str\n",
    "    training_idx_path: str\n",
    "\n",
    "GBUG_DATASET = Dataset(\n",
    "    dataset_path=\"../artifacts/gbug-java.csv\",\n",
    "    training_idx_path=\"../artifacts/gbug-java_train_indexes.json\",\n",
    ")\n",
    "\n",
    "DEFECT_DATASET = Dataset(\n",
    "    dataset_path=\"../artifacts/defects4j.csv\",\n",
    "    training_idx_path=\"../artifacts/defects4j_train_indexes.json\",\n",
    ")\n",
    "\n",
    "HUMAN_DATASET = Dataset(\n",
    "    dataset_path=\"../artifacts/humaneval.csv\",\n",
    "    training_idx_path=\"../artifacts/humaneval_train_indexes.json\",\n",
    ")"
   ]
  },
  {
   "cell_type": "code",
   "execution_count": null,
   "id": "acf0c6f3",
   "metadata": {},
   "outputs": [],
   "source": [
    "\n",
    "def get_testing_dataset(dataset: Dataset):\n",
    "    \"\"\"\n",
    "    Get the testing dataset path and the training indexes path.\n",
    "    \"\"\"\n",
    "    df = pd.read_csv(dataset.dataset_path)\n",
    "    with open( dataset.training_idx_path, \"r\") as f:\n",
    "        training_indices = json.load(f)\n",
    "    train_df = df.loc[training_indices]\n",
    "    test_df = df.drop(train_df.index)\n",
    "\n",
    "    return train_df, test_df\n",
    "def evaluate_clf(clf, test_df, top_k)-> Results:\n",
    "    \"\"\"\n",
    "    Evaluate the model on the test dataset.\n",
    "    \"\"\"\n",
    "\n",
    "    X_test = test_df[top_k]\n",
    "    X_test = torch.tensor(X_test.values, dtype=torch.float32)\n",
    "\n",
    "    y_test = test_df[\"vuln\"]\n",
    "\n",
    "    y_pred = clf.predict(X_test)\n",
    "    tp = sum((y_pred == 1) & (y_test == 1))\n",
    "    fp = sum((y_pred == 1) & (y_test == 0))\n",
    "    tn = sum((y_pred == 0) & (y_test == 0))\n",
    "    fn = sum((y_pred == 0) & (y_test == 1))\n",
    "\n",
    "\n",
    "    # Calculate the accuracy\n",
    "    accuracy = (tp + tn) / (tp + fp + fn + tn)\n",
    "    # Calculate the precision\n",
    "    precision = tp / (tp + fp) if (tp + fp) > 0 else 0\n",
    "    # Calculate the recall\n",
    "    recall = tp / (tp + fn) if (tp + fn) > 0 else 0\n",
    "    # Calculate the F1 score\n",
    "    f1 = 2 * (precision * recall) / (precision + recall) if (precision + recall) > 0 else 0\n",
    "    \n",
    "    return Results(precision=precision, recall=recall, accuracy=accuracy, f1=f1)\n"
   ]
  },
  {
   "cell_type": "code",
   "execution_count": 96,
   "id": "05d736d5",
   "metadata": {},
   "outputs": [],
   "source": [
    "@dataclass\n",
    "class SAE_ACTIVATIONS:\n",
    "    layer: int\n",
    "    top_k: int\n",
    "    original_dataset_path: str\n",
    "    base_gbug_path: str = \"../gpt2_gbug-java/\"\n",
    "    base_defects_path: str = \"../gpt2_defects4j/\"\n",
    "    base_humaneval_path: str = \"../gpt2_humaneval/\"\n",
    "\n",
    "    @property\n",
    "    def gbug_feature_safe_path(self):\n",
    "        return self.base_gbug_path + \"layer\" + str(self.layer) + \"/feature_importance_safe.jsonl\"\n",
    "    \n",
    "    @property\n",
    "    def gbug_feature_vuln_path(self):\n",
    "        return self.base_gbug_path + \"layer\" + str(self.layer) + \"/feature_importance_vuln.jsonl\"\n",
    "    \n",
    "    @property\n",
    "    def defects_feature_safe_path(self):\n",
    "        return self.base_defects_path + \"layer\" + str(self.layer) + \"/feature_importance_safe.jsonl\"\n",
    "    \n",
    "    @property\n",
    "    def defects_feature_vuln_path(self):\n",
    "        return self.base_defects_path + \"layer\" + str(self.layer) + \"/feature_importance_vuln.jsonl\"\n",
    "    \n",
    "    @property\n",
    "    def humaneval_feature_safe_path(self):\n",
    "        return self.base_humaneval_path + \"layer\" + str(self.layer) + \"/feature_importance_safe.jsonl\"\n",
    "    \n",
    "    @property\n",
    "    def humaneval_feature_vuln_path(self):\n",
    "        return self.base_humaneval_path + \"layer\" + str(self.layer) + \"/feature_importance_vuln.jsonl\"\n",
    "    \n",
    "    @property\n",
    "    def model_path(self):\n",
    "        return self.base_gbug_path + \"layer\" + str(self.layer) + \"/random_forest_k_\" + str(self.top_k) + \".pt\"\n",
    "\n",
    "    @property\n",
    "    def most_important_features_path(self):\n",
    "        return self.original_dataset_path + \"layer\" + str(self.layer) + \"/most_important_features.json\"\n",
    "    \n",
    "    @property\n",
    "    def model_path(self):\n",
    "        return self.original_dataset_path + \"layer\" + str(self.layer) + \"/random_forest_k_\" + str(self.top_k) + \".pt\"\n",
    "    \n",
    "SAE_ACTIVATIONS_GBUG_GPT2 = SAE_ACTIVATIONS(\n",
    "    layer=0,\n",
    "    top_k=2000,\n",
    "    original_dataset_path=\"../gpt2_gbug-java/\",\n",
    ")\n",
    "\n",
    "\n",
    "SAE_ACTIVATIONS_DEFECTS4J = SAE_ACTIVATIONS(\n",
    "    layer=0,\n",
    "    top_k=2000,\n",
    "    original_dataset_path=\"../gpt2_defects4j/\",\n",
    ")\n",
    "\n",
    "SAE_ACTIVATIONS_HUMANEVL = SAE_ACTIVATIONS(\n",
    "    layer=0,\n",
    "    top_k=2000,\n",
    "    original_dataset_path=\"../gpt2_humaneval/\",\n",
    ")\n",
    "\n",
    "\n",
    "\n",
    "\n",
    "def load_sae_clf_settings(sae_activations: SAE_ACTIVATIONS):\n",
    "    \"\"\"\n",
    "    Load the SAE classifier settings.\n",
    "    \"\"\"\n",
    "\n",
    "    most_important_features = load_sorted_features(\n",
    "        sae_activations.most_important_features_path\n",
    "    )\n",
    "    top_k = get_top_features(most_important_features, n=sae_activations.top_k)\n",
    "    with open(sae_activations.model_path, \"rb\") as f:\n",
    "        clf = pickle.load(f)\n",
    "\n",
    "    return clf, top_k\n",
    "\n",
    "def get_training_indexes(dataset: Dataset):\n",
    "    with open(dataset.training_idx_path, \"r\") as f:\n",
    "        training_indices = json.load(f)\n",
    "\n",
    "    return training_indices"
   ]
  },
  {
   "cell_type": "code",
   "execution_count": 97,
   "id": "7dd0de61",
   "metadata": {},
   "outputs": [
    {
     "name": "stderr",
     "output_type": "stream",
     "text": [
      "100%|██████████| 24576/24576 [01:26<00:00, 285.53it/s]\n"
     ]
    },
    {
     "name": "stdout",
     "output_type": "stream",
     "text": [
      "Results(precision=0.6923076923076923, recall=0.6, accuracy=0.6666666666666666, f1=0.6428571428571429)\n"
     ]
    },
    {
     "name": "stderr",
     "output_type": "stream",
     "text": [
      "100%|██████████| 24576/24576 [01:32<00:00, 266.94it/s]\n"
     ]
    },
    {
     "name": "stdout",
     "output_type": "stream",
     "text": [
      "Results(precision=0.7407407407407407, recall=0.631578947368421, accuracy=0.7052631578947368, f1=0.6818181818181818)\n"
     ]
    },
    {
     "name": "stderr",
     "output_type": "stream",
     "text": [
      "100%|██████████| 24576/24576 [01:27<00:00, 279.91it/s]\n"
     ]
    },
    {
     "name": "stdout",
     "output_type": "stream",
     "text": [
      "Results(precision=0.75, recall=0.18181818181818182, accuracy=0.5606060606060606, f1=0.2926829268292683)\n",
      "\u001b[2m2025-04-23 23:49:20\u001b[0m [\u001b[32m\u001b[1minfo     \u001b[0m] \u001b[1mResults saved to ../artifacts/transferability_results.jsonl\u001b[0m\n",
      "\u001b[2m2025-04-23 23:49:20\u001b[0m [\u001b[32m\u001b[1minfo     \u001b[0m] \u001b[1mResults saved to ../artifacts/transferability_results.jsonl\u001b[0m\n",
      "\u001b[2m2025-04-23 23:49:20\u001b[0m [\u001b[32m\u001b[1minfo     \u001b[0m] \u001b[1mResults saved to ../artifacts/transferability_results.jsonl\u001b[0m\n",
      "\u001b[2m2025-04-23 23:49:20\u001b[0m [\u001b[32m\u001b[1minfo     \u001b[0m] \u001b[1mResults saved to ../artifacts/transferability_results.jsonl\u001b[0m\n"
     ]
    }
   ],
   "source": [
    "clf, top_k = load_sae_clf_settings(SAE_ACTIVATIONS_GBUG_GPT2)\n",
    "# Original (GBUG)\n",
    "_, df_test = get_vuln_safe_data(\n",
    "    SAE_ACTIVATIONS_GBUG_GPT2.gbug_feature_vuln_path,\n",
    "    SAE_ACTIVATIONS_GBUG_GPT2.gbug_feature_safe_path,\n",
    "    get_training_indexes(GBUG_DATASET),\n",
    ")\n",
    "sae_rf_gbug_gpt2 = evaluate_clf(clf, df_test, top_k)\n",
    "print(sae_rf_gbug_gpt2)\n",
    "# Defects4J\n",
    "_, df_test = get_vuln_safe_data(\n",
    "    SAE_ACTIVATIONS_GBUG_GPT2.defects_feature_vuln_path,\n",
    "    SAE_ACTIVATIONS_GBUG_GPT2.defects_feature_safe_path,\n",
    "    get_training_indexes(DEFECT_DATASET),\n",
    ")\n",
    "sae_rf_gbug_gpt2_on_defects4j = evaluate_clf(clf, df_test, top_k)\n",
    "print(sae_rf_gbug_gpt2_on_defects4j)\n",
    "# Humaneval\n",
    "_, df_test = get_vuln_safe_data(\n",
    "    SAE_ACTIVATIONS_GBUG_GPT2.humaneval_feature_vuln_path,\n",
    "    SAE_ACTIVATIONS_GBUG_GPT2.humaneval_feature_safe_path,\n",
    "    get_training_indexes(HUMAN_DATASET),\n",
    ")\n",
    "\n",
    "sae_rf_gbug_gpt2_on_humaneval = evaluate_clf(clf, df_test, top_k)\n",
    "print(sae_rf_gbug_gpt2_on_humaneval)\n",
    "\n",
    "transf_rf_gbug_gpt2_on_defects= calculate_f1_shift(\n",
    "    sae_rf_gbug_gpt2_on_defects4j,\n",
    "    sae_rf_gbug_gpt2,\n",
    ")\n",
    "transf_rf_gbug_gpt2_on_humaneval = calculate_f1_shift(\n",
    "    sae_rf_gbug_gpt2_on_humaneval,\n",
    "    sae_rf_gbug_gpt2,\n",
    ")\n",
    "transf_rf_gbug_gpt2 = TransferabilityPerformance(\n",
    "    on_defects=transf_rf_gbug_gpt2_on_defects,\n",
    "    on_humaneval=transf_rf_gbug_gpt2_on_humaneval,\n",
    ")\n",
    "save_results(\"sae_rf_gbug_gpt2\", sae_rf_gbug_gpt2)\n",
    "save_results(\"sae_rf_gbug_gpt2_on_defects4j\", sae_rf_gbug_gpt2_on_defects4j)\n",
    "save_results(\"sae_rf_gbug_gpt2_on_humaneval\", sae_rf_gbug_gpt2_on_humaneval)\n",
    "save_results(\"transf_rf_gbug_gpt2\", transf_rf_gbug_gpt2)"
   ]
  },
  {
   "cell_type": "code",
   "execution_count": 106,
   "id": "18486961",
   "metadata": {},
   "outputs": [
    {
     "name": "stdout",
     "output_type": "stream",
     "text": [
      "TransferabilityPerformance(on_defects=6.060606060606045, on_humaneval=-54.47154471544716, on_gbug=None)\n"
     ]
    }
   ],
   "source": [
    "print(transf_rf_gbug_gpt2)"
   ]
  },
  {
   "cell_type": "code",
   "execution_count": 98,
   "id": "39cb7e93",
   "metadata": {},
   "outputs": [
    {
     "name": "stderr",
     "output_type": "stream",
     "text": [
      "100%|██████████| 24576/24576 [01:31<00:00, 268.01it/s]\n"
     ]
    },
    {
     "name": "stdout",
     "output_type": "stream",
     "text": [
      "Results(precision=0.7333333333333333, recall=0.6947368421052632, accuracy=0.7210526315789474, f1=0.7135135135135134)\n"
     ]
    },
    {
     "name": "stderr",
     "output_type": "stream",
     "text": [
      "100%|██████████| 24576/24576 [01:36<00:00, 253.54it/s]\n"
     ]
    },
    {
     "name": "stdout",
     "output_type": "stream",
     "text": [
      "Results(precision=0.6129032258064516, recall=0.6333333333333333, accuracy=0.6166666666666667, f1=0.6229508196721313)\n"
     ]
    },
    {
     "name": "stderr",
     "output_type": "stream",
     "text": [
      "100%|██████████| 24576/24576 [01:27<00:00, 281.69it/s]\n"
     ]
    },
    {
     "name": "stdout",
     "output_type": "stream",
     "text": [
      "Results(precision=0.5, recall=0.09090909090909091, accuracy=0.5, f1=0.15384615384615385)\n",
      "\u001b[2m2025-04-23 23:54:12\u001b[0m [\u001b[32m\u001b[1minfo     \u001b[0m] \u001b[1mResults saved to ../artifacts/transferability_results.jsonl\u001b[0m\n",
      "\u001b[2m2025-04-23 23:54:12\u001b[0m [\u001b[32m\u001b[1minfo     \u001b[0m] \u001b[1mResults saved to ../artifacts/transferability_results.jsonl\u001b[0m\n",
      "\u001b[2m2025-04-23 23:54:12\u001b[0m [\u001b[32m\u001b[1minfo     \u001b[0m] \u001b[1mResults saved to ../artifacts/transferability_results.jsonl\u001b[0m\n",
      "\u001b[2m2025-04-23 23:54:12\u001b[0m [\u001b[32m\u001b[1minfo     \u001b[0m] \u001b[1mResults saved to ../artifacts/transferability_results.jsonl\u001b[0m\n"
     ]
    }
   ],
   "source": [
    "clf, top_k = load_sae_clf_settings( SAE_ACTIVATIONS_DEFECTS4J)\n",
    "# Original (Defects4J)\n",
    "_, df_test = get_vuln_safe_data(\n",
    "    SAE_ACTIVATIONS_DEFECTS4J.defects_feature_vuln_path,\n",
    "    SAE_ACTIVATIONS_DEFECTS4J.defects_feature_safe_path,\n",
    "    get_training_indexes(DEFECT_DATASET),\n",
    ")\n",
    "sae_rf_defects4j = evaluate_clf(clf, df_test, top_k)\n",
    "print(sae_rf_defects4j)\n",
    "# GBUG\n",
    "_, df_test = get_vuln_safe_data(\n",
    "    SAE_ACTIVATIONS_DEFECTS4J.gbug_feature_vuln_path,\n",
    "    SAE_ACTIVATIONS_DEFECTS4J.gbug_feature_safe_path,\n",
    "    get_training_indexes(GBUG_DATASET),\n",
    ")\n",
    "sae_rf_defects4j_on_gbug = evaluate_clf(clf, df_test, top_k)\n",
    "print(sae_rf_defects4j_on_gbug)\n",
    "# Humaneval\n",
    "_, df_test = get_vuln_safe_data(\n",
    "    SAE_ACTIVATIONS_DEFECTS4J.humaneval_feature_vuln_path,\n",
    "    SAE_ACTIVATIONS_DEFECTS4J.humaneval_feature_safe_path,\n",
    "    get_training_indexes(HUMAN_DATASET),\n",
    ")\n",
    "sae_rf_defects4j_on_humaneval = evaluate_clf(clf, df_test, top_k)\n",
    "print(sae_rf_defects4j_on_humaneval)\n",
    "transf_rf_defects4j_on_gbug = calculate_f1_shift(\n",
    "    sae_rf_defects4j_on_gbug,\n",
    "    sae_rf_defects4j,\n",
    ")\n",
    "transf_rf_defects4j_on_humaneval = calculate_f1_shift(\n",
    "    sae_rf_defects4j_on_humaneval,\n",
    "    sae_rf_defects4j,\n",
    ")\n",
    "transf_rf_defects4j_gpt2 = TransferabilityPerformance(\n",
    "    on_gbug=transf_rf_defects4j_on_gbug,\n",
    "    on_humaneval=transf_rf_defects4j_on_humaneval,\n",
    ")\n",
    "save_results(\"sae_rf_defects4j\", sae_rf_defects4j)\n",
    "save_results(\"sae_rf_defects4j_on_gbug\", sae_rf_defects4j_on_gbug)\n",
    "save_results(\"sae_rf_defects4j_on_humaneval\", sae_rf_defects4j_on_humaneval)\n",
    "save_results(\"transf_rf_defects4j_gpt2\", transf_rf_defects4j_gpt2)"
   ]
  },
  {
   "cell_type": "code",
   "execution_count": 99,
   "id": "4fe1dfe3",
   "metadata": {},
   "outputs": [
    {
     "name": "stderr",
     "output_type": "stream",
     "text": [
      "100%|██████████| 24576/24576 [01:30<00:00, 271.11it/s]\n"
     ]
    },
    {
     "name": "stdout",
     "output_type": "stream",
     "text": [
      "Results(precision=0.5897435897435898, recall=0.696969696969697, accuracy=0.6060606060606061, f1=0.638888888888889)\n"
     ]
    },
    {
     "name": "stderr",
     "output_type": "stream",
     "text": [
      "100%|██████████| 24576/24576 [01:31<00:00, 267.89it/s]\n"
     ]
    },
    {
     "name": "stdout",
     "output_type": "stream",
     "text": [
      "Results(precision=0.46511627906976744, recall=0.6666666666666666, accuracy=0.45, f1=0.547945205479452)\n"
     ]
    },
    {
     "name": "stderr",
     "output_type": "stream",
     "text": [
      "100%|██████████| 24576/24576 [01:34<00:00, 259.71it/s]\n"
     ]
    },
    {
     "name": "stdout",
     "output_type": "stream",
     "text": [
      "Results(precision=0.5161290322580645, recall=0.6736842105263158, accuracy=0.5210526315789473, f1=0.5844748858447488)\n",
      "\u001b[2m2025-04-23 23:59:06\u001b[0m [\u001b[32m\u001b[1minfo     \u001b[0m] \u001b[1mResults saved to ../artifacts/transferability_results.jsonl\u001b[0m\n",
      "\u001b[2m2025-04-23 23:59:06\u001b[0m [\u001b[32m\u001b[1minfo     \u001b[0m] \u001b[1mResults saved to ../artifacts/transferability_results.jsonl\u001b[0m\n",
      "\u001b[2m2025-04-23 23:59:06\u001b[0m [\u001b[32m\u001b[1minfo     \u001b[0m] \u001b[1mResults saved to ../artifacts/transferability_results.jsonl\u001b[0m\n",
      "\u001b[2m2025-04-23 23:59:06\u001b[0m [\u001b[32m\u001b[1minfo     \u001b[0m] \u001b[1mResults saved to ../artifacts/transferability_results.jsonl\u001b[0m\n"
     ]
    }
   ],
   "source": [
    "clf, top_k = load_sae_clf_settings(SAE_ACTIVATIONS_HUMANEVL)\n",
    "# Original (Humaneval)\n",
    "_, df_test = get_vuln_safe_data(\n",
    "    SAE_ACTIVATIONS_HUMANEVL.humaneval_feature_vuln_path,\n",
    "    SAE_ACTIVATIONS_HUMANEVL.humaneval_feature_safe_path,\n",
    "    get_training_indexes(HUMAN_DATASET),\n",
    ")\n",
    "sae_rf_humaneval = evaluate_clf(clf, df_test, top_k)\n",
    "print(sae_rf_humaneval)\n",
    "# GBUG\n",
    "_, df_test = get_vuln_safe_data(\n",
    "    SAE_ACTIVATIONS_HUMANEVL.gbug_feature_vuln_path,\n",
    "    SAE_ACTIVATIONS_HUMANEVL.gbug_feature_safe_path,\n",
    "    get_training_indexes(GBUG_DATASET),\n",
    ")\n",
    "sae_rf_humaneval_on_gbug = evaluate_clf(clf, df_test, top_k)\n",
    "print(sae_rf_humaneval_on_gbug)\n",
    "# Defects4J\n",
    "_, df_test = get_vuln_safe_data(\n",
    "    SAE_ACTIVATIONS_HUMANEVL.defects_feature_vuln_path,\n",
    "    SAE_ACTIVATIONS_HUMANEVL.defects_feature_safe_path,\n",
    "    get_training_indexes(DEFECT_DATASET),\n",
    ")\n",
    "sae_rf_humaneval_on_defects4j = evaluate_clf(clf, df_test, top_k)\n",
    "print(sae_rf_humaneval_on_defects4j)\n",
    "transf_rf_humaneval_on_gbug = calculate_f1_shift(\n",
    "    sae_rf_humaneval_on_gbug,\n",
    "    sae_rf_humaneval,\n",
    ")\n",
    "transf_rf_humaneval_on_defects4j = calculate_f1_shift(\n",
    "    sae_rf_humaneval_on_defects4j,\n",
    "    sae_rf_humaneval,\n",
    ")\n",
    "transf_rf_humaneval_gpt2 = TransferabilityPerformance(\n",
    "    on_defects=transf_rf_humaneval_on_defects4j,\n",
    "    on_gbug=transf_rf_humaneval_on_gbug,\n",
    ")\n",
    "save_results(\"sae_rf_humaneval\", sae_rf_humaneval)\n",
    "save_results(\"sae_rf_humaneval_on_gbug\", sae_rf_humaneval_on_gbug)\n",
    "save_results(\"sae_rf_humaneval_on_defects4j\", sae_rf_humaneval_on_defects4j)\n",
    "save_results(\"transf_rf_humaneval_gpt2\", transf_rf_humaneval_gpt2)\n",
    "\n"
   ]
  },
  {
   "cell_type": "markdown",
   "id": "9e02e963",
   "metadata": {},
   "source": [
    "## Gemma\n"
   ]
  },
  {
   "cell_type": "code",
   "execution_count": null,
   "id": "5920158c",
   "metadata": {},
   "outputs": [],
   "source": [
    "SAE_ACTIVATIONS_GBUG_GEMMA2 = SAE_ACTIVATIONS(\n",
    "    layer=13,\n",
    "    top_k=2,\n",
    "    original_dataset_path=\"../gemma2_gbug-java/\",\n",
    "    base_gbug_path=\"../gemma2_gbug-java/\",\n",
    "    base_defects_path=\"../gemma2_defects4j/\",\n",
    "    base_humaneval_path=\"../gemma2_humaneval/\"\n",
    ")\n",
    "\n",
    "SAE_ACTIVATIONS_DEFECTS4J_GEMMA2 = SAE_ACTIVATIONS(\n",
    "    layer=7,\n",
    "    top_k=1,\n",
    "    original_dataset_path=\"../gemma2_defects4j/\",\n",
    "    base_gbug_path=\"../gemma2_gbug-java/\",\n",
    "    base_defects_path=\"../gemma2_defects4j/\",\n",
    "    base_humaneval_path=\"../gemma2_humaneval/\"\n",
    ")\n",
    "\n",
    "SAE_ACTIVATIONS_HUMAN_GEMMA2 = SAE_ACTIVATIONS(\n",
    "    layer=8,\n",
    "    top_k=4,\n",
    "    original_dataset_path=\"../gemma2_humaneval/\",\n",
    "    base_gbug_path=\"../gemma2_gbug-java/\",\n",
    "    base_defects_path=\"../gemma2_defects4j/\",\n",
    "    base_humaneval_path=\"../gemma2_humaneval/\"\n",
    ")\n",
    "\n",
    "\n",
    "\n"
   ]
  },
  {
   "cell_type": "code",
   "execution_count": null,
   "id": "ff438815",
   "metadata": {},
   "outputs": [
    {
     "name": "stderr",
     "output_type": "stream",
     "text": [
      "100%|██████████| 16384/16384 [00:34<00:00, 472.87it/s]\n"
     ]
    },
    {
     "name": "stdout",
     "output_type": "stream",
     "text": [
      "Results(precision=0.8846153846153846, recall=0.7666666666666667, accuracy=0.8333333333333334, f1=0.8214285714285715)\n"
     ]
    },
    {
     "name": "stderr",
     "output_type": "stream",
     "text": [
      "100%|██████████| 16384/16384 [00:39<00:00, 416.71it/s]\n"
     ]
    },
    {
     "name": "stdout",
     "output_type": "stream",
     "text": [
      "Results(precision=0.45348837209302323, recall=0.4105263157894737, accuracy=0.45789473684210524, f1=0.430939226519337)\n"
     ]
    },
    {
     "name": "stderr",
     "output_type": "stream",
     "text": [
      "100%|██████████| 16384/16384 [00:35<00:00, 457.61it/s]\n"
     ]
    },
    {
     "name": "stdout",
     "output_type": "stream",
     "text": [
      "Results(precision=0.5, recall=0.42424242424242425, accuracy=0.5, f1=0.4590163934426229)\n"
     ]
    }
   ],
   "source": [
    "clf, top_k = load_sae_clf_settings(SAE_ACTIVATIONS_GBUG_GEMMA2)\n",
    "# Original (GBUG)\n",
    "_, df_test = get_vuln_safe_data(\n",
    "    SAE_ACTIVATIONS_GBUG_GEMMA2.gbug_feature_vuln_path,\n",
    "    SAE_ACTIVATIONS_GBUG_GEMMA2.gbug_feature_safe_path,\n",
    "    get_training_indexes(GBUG_DATASET),\n",
    ")\n",
    "sae_rf_gbug_gemma2 = evaluate_clf(clf, df_test, top_k)\n",
    "print(sae_rf_gbug_gemma2)\n",
    "# Defects4J\n",
    "_, df_test = get_vuln_safe_data(\n",
    "    SAE_ACTIVATIONS_GBUG_GEMMA2.defects_feature_vuln_path,\n",
    "    SAE_ACTIVATIONS_GBUG_GEMMA2.defects_feature_safe_path,\n",
    "    get_training_indexes(DEFECT_DATASET),\n",
    ")\n",
    "sae_rf_gbug_gemma2_on_defects4j = evaluate_clf(clf, df_test, top_k)\n",
    "print(sae_rf_gbug_gemma2_on_defects4j)\n",
    "# Humaneval\n",
    "_, df_test = get_vuln_safe_data(\n",
    "    SAE_ACTIVATIONS_GBUG_GEMMA2.humaneval_feature_vuln_path,\n",
    "    SAE_ACTIVATIONS_GBUG_GEMMA2.humaneval_feature_safe_path,\n",
    "    get_training_indexes(HUMAN_DATASET),\n",
    ")\n",
    "\n",
    "sae_rf_gbug_gemma2_on_humaneval = evaluate_clf(clf, df_test, top_k)\n",
    "print(sae_rf_gbug_gemma2_on_humaneval)\n",
    "\n",
    "transf_rf_gbug_gemma2_on_defects= calculate_f1_shift(\n",
    "    sae_rf_gbug_gemma2_on_defects4j,\n",
    "    sae_rf_gbug_gemma2,\n",
    ")\n",
    "transf_rf_gbug_gemma2_on_humaneval = calculate_f1_shift(\n",
    "    sae_rf_gbug_gemma2_on_humaneval,\n",
    "    sae_rf_gbug_gemma2,\n",
    ")\n",
    "transf_rf_gbug_gemma2 = TransferabilityPerformance(\n",
    "    on_defects=transf_rf_gbug_gemma2_on_defects,\n",
    "    on_humaneval=transf_rf_gbug_gemma2_on_humaneval,\n",
    ")\n",
    "save_results(\"sae_rf_gbug_gemma2\", sae_rf_gbug_gemma2)\n",
    "save_results(\"sae_rf_gbug_gemma2_on_defects4j\", sae_rf_gbug_gemma2_on_defects4j)\n",
    "save_results(\"sae_rf_gbug_gemma2_on_humaneval\", sae_rf_gbug_gemma2_on_humaneval)\n",
    "save_results(\"transf_rf_gbug_gemma2\", transf_rf_gbug_gemma2)"
   ]
  },
  {
   "cell_type": "code",
   "execution_count": null,
   "id": "65c8f3cb",
   "metadata": {},
   "outputs": [
    {
     "name": "stderr",
     "output_type": "stream",
     "text": [
      "100%|██████████| 16384/16384 [00:40<00:00, 400.83it/s]\n"
     ]
    },
    {
     "name": "stdout",
     "output_type": "stream",
     "text": [
      "Results(precision=0.5035460992907801, recall=0.7473684210526316, accuracy=0.5052631578947369, f1=0.6016949152542372)\n"
     ]
    },
    {
     "name": "stderr",
     "output_type": "stream",
     "text": [
      "100%|██████████| 16384/16384 [00:36<00:00, 451.72it/s]\n"
     ]
    },
    {
     "name": "stdout",
     "output_type": "stream",
     "text": [
      "Results(precision=0.4864864864864865, recall=0.6, accuracy=0.48333333333333334, f1=0.5373134328358209)\n"
     ]
    },
    {
     "name": "stderr",
     "output_type": "stream",
     "text": [
      "100%|██████████| 16384/16384 [00:36<00:00, 447.20it/s]\n"
     ]
    },
    {
     "name": "stdout",
     "output_type": "stream",
     "text": [
      "Results(precision=0.5, recall=1.0, accuracy=0.5, f1=0.6666666666666666)\n",
      "\u001b[2m2025-04-23 18:10:21\u001b[0m [\u001b[32m\u001b[1minfo     \u001b[0m] \u001b[1mResults saved to ../artifacts/transferability_results.jsonl\u001b[0m\n",
      "\u001b[2m2025-04-23 18:10:21\u001b[0m [\u001b[32m\u001b[1minfo     \u001b[0m] \u001b[1mResults saved to ../artifacts/transferability_results.jsonl\u001b[0m\n",
      "\u001b[2m2025-04-23 18:10:21\u001b[0m [\u001b[32m\u001b[1minfo     \u001b[0m] \u001b[1mResults saved to ../artifacts/transferability_results.jsonl\u001b[0m\n",
      "\u001b[2m2025-04-23 18:10:21\u001b[0m [\u001b[32m\u001b[1minfo     \u001b[0m] \u001b[1mResults saved to ../artifacts/transferability_results.jsonl\u001b[0m\n"
     ]
    }
   ],
   "source": [
    "clf, top_k = load_sae_clf_settings(SAE_ACTIVATIONS_DEFECTS4J_GEMMA2)\n",
    "# Original (GBUG)\n",
    "_, df_test = get_vuln_safe_data(\n",
    "    SAE_ACTIVATIONS_DEFECTS4J_GEMMA2.defects_feature_vuln_path,\n",
    "    SAE_ACTIVATIONS_DEFECTS4J_GEMMA2.defects_feature_safe_path,\n",
    "    get_training_indexes(DEFECT_DATASET),\n",
    ")\n",
    "sae_rf_defects4j_gemma2 = evaluate_clf(clf, df_test, top_k)\n",
    "print(sae_rf_defects4j_gemma2)\n",
    "# GBUG\n",
    "_, df_test = get_vuln_safe_data(\n",
    "    SAE_ACTIVATIONS_DEFECTS4J_GEMMA2.gbug_feature_vuln_path,\n",
    "    SAE_ACTIVATIONS_DEFECTS4J_GEMMA2.gbug_feature_safe_path,\n",
    "    get_training_indexes(GBUG_DATASET),\n",
    ")\n",
    "sae_rf_defects4j_gemma2_on_gbug = evaluate_clf(clf, df_test, top_k)\n",
    "print(sae_rf_defects4j_gemma2_on_gbug)\n",
    "# Humaneval\n",
    "_, df_test = get_vuln_safe_data(\n",
    "    SAE_ACTIVATIONS_DEFECTS4J_GEMMA2.humaneval_feature_vuln_path,\n",
    "    SAE_ACTIVATIONS_DEFECTS4J_GEMMA2.humaneval_feature_safe_path,\n",
    "    get_training_indexes(HUMAN_DATASET),\n",
    ")\n",
    "sae_rf_defects4j_gemma2_on_humaneval = evaluate_clf(clf, df_test, top_k)\n",
    "print(sae_rf_defects4j_gemma2_on_humaneval)\n",
    "transf_rf_defects4j_gemma2_on_gbug = calculate_f1_shift(\n",
    "    sae_rf_defects4j_gemma2_on_gbug,\n",
    "    sae_rf_defects4j_gemma2,\n",
    ")\n",
    "transf_rf_defects4j_gemma2_on_humaneval = calculate_f1_shift(\n",
    "    sae_rf_defects4j_gemma2_on_humaneval,\n",
    "    sae_rf_defects4j_gemma2,\n",
    ")\n",
    "transf_rf_defects4j_gemma2 = TransferabilityPerformance(\n",
    "    on_gbug=transf_rf_defects4j_gemma2_on_gbug,\n",
    "    on_humaneval=transf_rf_defects4j_gemma2_on_humaneval,\n",
    ")\n",
    "save_results(\"sae_rf_defects4j_gemma2\", sae_rf_defects4j_gemma2)\n",
    "save_results(\"sae_rf_defects4j_gemma2_on_gbug\", sae_rf_defects4j_gemma2_on_gbug)\n",
    "save_results(\"sae_rf_defects4j_gemma2_on_humaneval\", sae_rf_defects4j_gemma2_on_humaneval)\n",
    "save_results(\"transf_rf_defects4j_gemma2\", transf_rf_defects4j_gemma2)"
   ]
  },
  {
   "cell_type": "code",
   "execution_count": null,
   "id": "636ef24e",
   "metadata": {},
   "outputs": [
    {
     "name": "stderr",
     "output_type": "stream",
     "text": [
      "100%|██████████| 16384/16384 [00:37<00:00, 431.79it/s]\n"
     ]
    },
    {
     "name": "stdout",
     "output_type": "stream",
     "text": [
      "Results(precision=0.5777777777777777, recall=0.7878787878787878, accuracy=0.6060606060606061, f1=0.6666666666666666)\n"
     ]
    },
    {
     "name": "stderr",
     "output_type": "stream",
     "text": [
      "100%|██████████| 16384/16384 [00:37<00:00, 431.23it/s]\n"
     ]
    },
    {
     "name": "stdout",
     "output_type": "stream",
     "text": [
      "Results(precision=0.5238095238095238, recall=0.36666666666666664, accuracy=0.5166666666666667, f1=0.4313725490196078)\n"
     ]
    },
    {
     "name": "stderr",
     "output_type": "stream",
     "text": [
      "100%|██████████| 16384/16384 [00:42<00:00, 386.62it/s]\n"
     ]
    },
    {
     "name": "stdout",
     "output_type": "stream",
     "text": [
      "Results(precision=0.5263157894736842, recall=0.42105263157894735, accuracy=0.5210526315789473, f1=0.4678362573099415)\n",
      "\u001b[2m2025-04-23 18:18:12\u001b[0m [\u001b[32m\u001b[1minfo     \u001b[0m] \u001b[1mResults saved to ../artifacts/transferability_results.jsonl\u001b[0m\n",
      "\u001b[2m2025-04-23 18:18:12\u001b[0m [\u001b[32m\u001b[1minfo     \u001b[0m] \u001b[1mResults saved to ../artifacts/transferability_results.jsonl\u001b[0m\n",
      "\u001b[2m2025-04-23 18:18:12\u001b[0m [\u001b[32m\u001b[1minfo     \u001b[0m] \u001b[1mResults saved to ../artifacts/transferability_results.jsonl\u001b[0m\n",
      "\u001b[2m2025-04-23 18:18:12\u001b[0m [\u001b[32m\u001b[1minfo     \u001b[0m] \u001b[1mResults saved to ../artifacts/transferability_results.jsonl\u001b[0m\n"
     ]
    }
   ],
   "source": [
    "clf, top_k = load_sae_clf_settings(SAE_ACTIVATIONS_HUMAN_GEMMA2)\n",
    "# Original (Humaneval)\n",
    "_, df_test = get_vuln_safe_data(\n",
    "    SAE_ACTIVATIONS_HUMAN_GEMMA2.humaneval_feature_vuln_path,\n",
    "    SAE_ACTIVATIONS_HUMAN_GEMMA2.humaneval_feature_safe_path,\n",
    "    get_training_indexes(HUMAN_DATASET),\n",
    ")\n",
    "sae_rf_humaneval_gemma2 = evaluate_clf(clf, df_test, top_k)\n",
    "print(sae_rf_humaneval_gemma2)\n",
    "# GBUG\n",
    "_, df_test = get_vuln_safe_data(\n",
    "    SAE_ACTIVATIONS_HUMAN_GEMMA2.gbug_feature_vuln_path,\n",
    "    SAE_ACTIVATIONS_HUMAN_GEMMA2.gbug_feature_safe_path,\n",
    "    get_training_indexes(GBUG_DATASET),\n",
    ")\n",
    "sae_rf_humaneval_gemma2_on_gbug = evaluate_clf(clf, df_test, top_k)\n",
    "print(sae_rf_humaneval_gemma2_on_gbug)\n",
    "# Defects4J\n",
    "_, df_test = get_vuln_safe_data(\n",
    "    SAE_ACTIVATIONS_HUMAN_GEMMA2.defects_feature_vuln_path,\n",
    "    SAE_ACTIVATIONS_HUMAN_GEMMA2.defects_feature_safe_path,\n",
    "    get_training_indexes(DEFECT_DATASET),\n",
    ")\n",
    "sae_rf_humaneval_gemma2_on_defects4j = evaluate_clf(clf, df_test, top_k)\n",
    "print(sae_rf_humaneval_gemma2_on_defects4j)\n",
    "transf_rf_humaneval_gemma2_on_gbug = calculate_f1_shift(\n",
    "    sae_rf_humaneval_gemma2_on_gbug,\n",
    "    sae_rf_humaneval_gemma2,\n",
    ")\n",
    "transf_rf_humaneval_gemma2_on_defects4j = calculate_f1_shift(\n",
    "    sae_rf_humaneval_gemma2_on_defects4j,\n",
    "    sae_rf_humaneval_gemma2,\n",
    ")\n",
    "transf_rf_humaneval_gemma2 = TransferabilityPerformance(\n",
    "    on_defects=transf_rf_humaneval_gemma2_on_defects4j,\n",
    "    on_gbug=transf_rf_humaneval_gemma2_on_gbug,\n",
    ")\n",
    "save_results(\"sae_rf_humaneval_gemma2\", sae_rf_humaneval_gemma2)\n",
    "save_results(\"sae_rf_humaneval_gemma2_on_gbug\", sae_rf_humaneval_gemma2_on_gbug)\n",
    "save_results(\"sae_rf_humaneval_gemma2_on_defects4j\", sae_rf_humaneval_gemma2_on_defects4j)\n",
    "save_results(\"transf_rf_humaneval_gemma2\", transf_rf_humaneval_gemma2)"
   ]
  },
  {
   "cell_type": "markdown",
   "id": "ac01281b",
   "metadata": {},
   "source": [
    "# Baselines Transferability"
   ]
  },
  {
   "cell_type": "code",
   "execution_count": 11,
   "id": "6ec6046a",
   "metadata": {},
   "outputs": [],
   "source": [
    "@dataclass\n",
    "class BaselineClassifier:\n",
    "    path: str\n",
    "    tfidf_vectorizer_path: str\n",
    "    base_dataset: Dataset\n",
    "    input_size: int\n",
    "\n",
    "DEFECTS4J_KNN_BASELINE = BaselineClassifier(\n",
    "    path=\"../ole/defects4j_knn_k_5000.pt\",\n",
    "    tfidf_vectorizer_path = \"../artifacts/vectorizer.pkl\",\n",
    "    base_dataset=DEFECT_DATASET,\n",
    "    input_size=5000,\n",
    ")\n",
    "GBUG_KNN_BASELINE = BaselineClassifier(\n",
    "    path=\"../ole/gbug_knn_k_5000.pt\",\n",
    "    tfidf_vectorizer_path = \"../artifacts/vectorizer.pkl\",\n",
    "    base_dataset=GBUG_DATASET,\n",
    "    input_size=5000,\n",
    ")\n",
    "HUMANEVAL_KNN_BASELINE = BaselineClassifier(\n",
    "    path=\"../ole/human_knn_k_5000.pt\",\n",
    "    tfidf_vectorizer_path = \"../artifacts/vectorizer.pkl\",\n",
    "    base_dataset=HUMAN_DATASET,\n",
    "    input_size=5000,\n",
    ")\n",
    "DEFECTS4J_RF_BASELINE = BaselineClassifier(\n",
    "    path=\"../ole/defects4j_random_forest_k_5000.pt\",\n",
    "    tfidf_vectorizer_path = \"../artifacts/vectorizer.pkl\",\n",
    "    base_dataset=DEFECT_DATASET,\n",
    "    input_size=5000,\n",
    ")\n",
    "GBUG_RF_BASELINE = BaselineClassifier(\n",
    "    path=\"../ole/gbug_random_forest_k_5000.pt\",\n",
    "    tfidf_vectorizer_path = \"../artifacts/vectorizer.pkl\",\n",
    "    base_dataset=GBUG_DATASET,\n",
    "    input_size=5000,\n",
    ")\n",
    "HUMANEVAL_RF_BASELINE = BaselineClassifier(\n",
    "    path=\"../ole/human_random_forest_k_5000.pt\",\n",
    "    tfidf_vectorizer_path = \"../artifacts/vectorizer.pkl\",\n",
    "    base_dataset=HUMAN_DATASET,\n",
    "    input_size=5000,\n",
    ")\n",
    "\n",
    "def load_baseline_classifier(classifier: BaselineClassifier):\n",
    "    with open(classifier.path, \"rb\") as f:\n",
    "        clf = pickle.load(f)\n",
    "    return clf\n",
    "\n",
    "def test_baseline_classifier(clf, \n",
    "                             vectorizer, \n",
    "                             df, \n",
    "                             train_indexes,\n",
    "                             before_func_col=\"func_before\", \n",
    "                             after_func_col=\"func_after\") -> Results:\n",
    "    \"\"\"\n",
    "    Test the baseline classifier on the test dataset.\n",
    "    \"\"\"\n",
    "\n",
    "    df[\"tokenized_before\"] = df[before_func_col].progress_apply(\n",
    "        lambda x: vectorizer.transform([x]).toarray()[0]\n",
    "    )\n",
    "    df[\"tokenized_after\"] = df[after_func_col].progress_apply(\n",
    "        lambda x: vectorizer.transform([x]).toarray()[0]\n",
    "    )\n",
    "    # Pad to 5000 tokens\n",
    "    df[\"tokenized_before\"] = df[\"tokenized_before\"].apply(\n",
    "        lambda x: x[:5000] + [0] * (5000 - len(x)) if len(x) < 5000 else x[:5000]\n",
    "    )\n",
    "    df[\"tokenized_after\"] = df[\"tokenized_after\"].apply(\n",
    "        lambda x: x[:5000] + [0] * (5000 - len(x)) if len(x) < 5000 else x[:5000]\n",
    "    )\n",
    "\n",
    "    df_test = df.drop(train_indexes)\n",
    "\n",
    "    df_classical_test = pd.DataFrame()\n",
    "    for row in df_test.iterrows():\n",
    "        row = row[1]\n",
    "        df_classical_test = pd.concat(\n",
    "            [\n",
    "                df_classical_test,\n",
    "                pd.DataFrame(\n",
    "                    {\"tokens\": [row[\"tokenized_before\"].tolist()], \"vuln\": 1}, index=[0]\n",
    "                ),\n",
    "            ]\n",
    "        )\n",
    "        df_classical_test = pd.concat(\n",
    "            [\n",
    "                df_classical_test,\n",
    "                pd.DataFrame(\n",
    "                    {\"tokens\": [row[\"tokenized_after\"].tolist()], \"vuln\": 0}, index=[0]\n",
    "                ),\n",
    "            ]\n",
    "        )\n",
    "\n",
    "    X_test = df_classical_test[\"tokens\"].values.tolist()\n",
    "    X_test = [torch.tensor(x) for x in X_test]\n",
    "    y_test = df_classical_test[\"vuln\"]\n",
    "\n",
    "    # Get the prediction\n",
    "    y_pred = clf.predict(X_test)\n",
    "    precision, recall, accuracy, f1 = get_metrics(y_pred, y_test)\n",
    "    logger.info(\n",
    "        \"Classification report:\",\n",
    "        precision=precision,\n",
    "        recall=recall,\n",
    "        accuracy=accuracy,\n",
    "        f1=f1,\n",
    "    )\n",
    "    return Results(\n",
    "        precision=precision,\n",
    "        recall=recall,\n",
    "        accuracy=accuracy,\n",
    "        f1=f1,\n",
    "    )\n",
    "    \n",
    "\n"
   ]
  },
  {
   "cell_type": "code",
   "execution_count": null,
   "id": "1720f421",
   "metadata": {},
   "outputs": [
    {
     "name": "stderr",
     "output_type": "stream",
     "text": [
      "100%|██████████| 148/148 [00:00<00:00, 2387.76it/s]\n",
      "100%|██████████| 148/148 [00:00<00:00, 1969.76it/s]\n"
     ]
    },
    {
     "name": "stdout",
     "output_type": "stream",
     "text": [
      "\u001b[2m2025-04-23 02:19:31\u001b[0m [\u001b[32m\u001b[1minfo     \u001b[0m] \u001b[1mClassification report:        \u001b[0m \u001b[36maccuracy\u001b[0m=\u001b[35m0.6666666666666666\u001b[0m \u001b[36mf1\u001b[0m=\u001b[35m0.6774193548387096\u001b[0m \u001b[36mprecision\u001b[0m=\u001b[35m0.65625\u001b[0m \u001b[36mrecall\u001b[0m=\u001b[35m0.7\u001b[0m\n"
     ]
    },
    {
     "name": "stderr",
     "output_type": "stream",
     "text": [
      "100%|██████████| 465/465 [00:00<00:00, 4664.61it/s]\n",
      "100%|██████████| 465/465 [00:00<00:00, 4472.65it/s]\n"
     ]
    },
    {
     "name": "stdout",
     "output_type": "stream",
     "text": [
      "\u001b[2m2025-04-23 02:19:31\u001b[0m [\u001b[32m\u001b[1minfo     \u001b[0m] \u001b[1mClassification report:        \u001b[0m \u001b[36maccuracy\u001b[0m=\u001b[35m0.5\u001b[0m \u001b[36mf1\u001b[0m=\u001b[35m0.4431137724550898\u001b[0m \u001b[36mprecision\u001b[0m=\u001b[35m0.5\u001b[0m \u001b[36mrecall\u001b[0m=\u001b[35m0.3978494623655914\u001b[0m\n"
     ]
    },
    {
     "name": "stderr",
     "output_type": "stream",
     "text": [
      "100%|██████████| 162/162 [00:00<00:00, 8587.28it/s]\n",
      "100%|██████████| 162/162 [00:00<00:00, 7747.57it/s]\n"
     ]
    },
    {
     "name": "stdout",
     "output_type": "stream",
     "text": [
      "\u001b[2m2025-04-23 02:19:31\u001b[0m [\u001b[32m\u001b[1minfo     \u001b[0m] \u001b[1mClassification report:        \u001b[0m \u001b[36maccuracy\u001b[0m=\u001b[35m0.48484848484848486\u001b[0m \u001b[36mf1\u001b[0m=\u001b[35m0.43333333333333324\u001b[0m \u001b[36mprecision\u001b[0m=\u001b[35m0.48148148148148145\u001b[0m \u001b[36mrecall\u001b[0m=\u001b[35m0.3939393939393939\u001b[0m\n",
      "\u001b[2m2025-04-23 02:19:31\u001b[0m [\u001b[32m\u001b[1minfo     \u001b[0m] \u001b[1mResults saved to ../artifacts/transferability_results.jsonl\u001b[0m\n",
      "\u001b[2m2025-04-23 02:19:31\u001b[0m [\u001b[32m\u001b[1minfo     \u001b[0m] \u001b[1mResults saved to ../artifacts/transferability_results.jsonl\u001b[0m\n",
      "\u001b[2m2025-04-23 02:19:31\u001b[0m [\u001b[32m\u001b[1minfo     \u001b[0m] \u001b[1mResults saved to ../artifacts/transferability_results.jsonl\u001b[0m\n"
     ]
    }
   ],
   "source": [
    "\n",
    "results_gbug_knn = test_baseline_classifier(\n",
    "    load_baseline_classifier(GBUG_KNN_BASELINE),\n",
    "    load_tfidf_vectorizer(GBUG_KNN_BASELINE.tfidf_vectorizer_path),\n",
    "    pd.read_csv(GBUG_DATASET.dataset_path),\n",
    "    load_training_indexes(GBUG_DATASET.training_idx_path),\n",
    ")\n",
    "\n",
    "results_gbug_knn_defects = test_baseline_classifier(\n",
    "    load_baseline_classifier(GBUG_KNN_BASELINE),\n",
    "    load_tfidf_vectorizer(GBUG_KNN_BASELINE.tfidf_vectorizer_path),\n",
    "    pd.read_csv(DEFECT_DATASET.dataset_path),\n",
    "    load_training_indexes(DEFECT_DATASET.training_idx_path),\n",
    ")\n",
    "\n",
    "results_gbug_knn_human = test_baseline_classifier(\n",
    "    load_baseline_classifier(GBUG_KNN_BASELINE),\n",
    "    load_tfidf_vectorizer(GBUG_KNN_BASELINE.tfidf_vectorizer_path),\n",
    "    pd.read_csv(HUMAN_DATASET.dataset_path),\n",
    "    load_training_indexes(HUMAN_DATASET.training_idx_path),\n",
    ")\n",
    "\n",
    "\n",
    "transf_knn_gbug_on_defects= calculate_f1_shift(\n",
    "    results_gbug_knn_defects,\n",
    "    results_gbug_knn,\n",
    ")\n",
    "transf_knn_gbug_on_human= calculate_f1_shift(\n",
    "    results_gbug_knn_human,\n",
    "    results_gbug_knn,\n",
    ")\n",
    "\n",
    "transf_knn_gbug = TransferabilityPerformance(\n",
    "    on_defects=transf_knn_gbug_on_defects,\n",
    "    on_humaneval=transf_knn_gbug_on_human,\n",
    ")\n",
    "\n",
    "save_results(\"results_gbug_knn\", results_gbug_knn)\n",
    "save_results(\"results_gbug_knn_defects\", results_gbug_knn_defects)\n",
    "save_results(\"results_gbug_knn_human\", results_gbug_knn_human)\n",
    "save_results(\"transf_knn_gbug\", transf_knn_gbug)\n"
   ]
  },
  {
   "cell_type": "code",
   "execution_count": null,
   "id": "ba69065f",
   "metadata": {},
   "outputs": [
    {
     "name": "stderr",
     "output_type": "stream",
     "text": [
      "100%|██████████| 148/148 [00:00<00:00, 4469.96it/s]\n",
      "100%|██████████| 148/148 [00:00<00:00, 4707.23it/s]\n"
     ]
    },
    {
     "name": "stdout",
     "output_type": "stream",
     "text": [
      "\u001b[2m2025-04-23 02:19:31\u001b[0m [\u001b[32m\u001b[1minfo     \u001b[0m] \u001b[1mClassification report:        \u001b[0m \u001b[36maccuracy\u001b[0m=\u001b[35m0.75\u001b[0m \u001b[36mf1\u001b[0m=\u001b[35m0.7058823529411764\u001b[0m \u001b[36mprecision\u001b[0m=\u001b[35m0.8571428571428571\u001b[0m \u001b[36mrecall\u001b[0m=\u001b[35m0.6\u001b[0m\n"
     ]
    },
    {
     "name": "stderr",
     "output_type": "stream",
     "text": [
      "100%|██████████| 465/465 [00:00<00:00, 7050.58it/s]\n",
      "100%|██████████| 465/465 [00:00<00:00, 6968.28it/s]\n"
     ]
    },
    {
     "name": "stdout",
     "output_type": "stream",
     "text": [
      "\u001b[2m2025-04-23 02:19:31\u001b[0m [\u001b[32m\u001b[1minfo     \u001b[0m] \u001b[1mClassification report:        \u001b[0m \u001b[36maccuracy\u001b[0m=\u001b[35m0.5161290322580645\u001b[0m \u001b[36mf1\u001b[0m=\u001b[35m0.1176470588235294\u001b[0m \u001b[36mprecision\u001b[0m=\u001b[35m0.6666666666666666\u001b[0m \u001b[36mrecall\u001b[0m=\u001b[35m0.06451612903225806\u001b[0m\n"
     ]
    },
    {
     "name": "stderr",
     "output_type": "stream",
     "text": [
      "100%|██████████| 162/162 [00:00<00:00, 7798.97it/s]\n",
      "100%|██████████| 162/162 [00:00<00:00, 3073.25it/s]\n"
     ]
    },
    {
     "name": "stdout",
     "output_type": "stream",
     "text": [
      "\u001b[2m2025-04-23 02:19:32\u001b[0m [\u001b[32m\u001b[1minfo     \u001b[0m] \u001b[1mClassification report:        \u001b[0m \u001b[36maccuracy\u001b[0m=\u001b[35m0.48484848484848486\u001b[0m \u001b[36mf1\u001b[0m=\u001b[35m0.43333333333333324\u001b[0m \u001b[36mprecision\u001b[0m=\u001b[35m0.48148148148148145\u001b[0m \u001b[36mrecall\u001b[0m=\u001b[35m0.3939393939393939\u001b[0m\n",
      "\u001b[2m2025-04-23 02:19:32\u001b[0m [\u001b[32m\u001b[1minfo     \u001b[0m] \u001b[1mResults saved to ../artifacts/transferability_results.jsonl\u001b[0m\n",
      "\u001b[2m2025-04-23 02:19:32\u001b[0m [\u001b[32m\u001b[1minfo     \u001b[0m] \u001b[1mResults saved to ../artifacts/transferability_results.jsonl\u001b[0m\n",
      "\u001b[2m2025-04-23 02:19:32\u001b[0m [\u001b[32m\u001b[1minfo     \u001b[0m] \u001b[1mResults saved to ../artifacts/transferability_results.jsonl\u001b[0m\n"
     ]
    }
   ],
   "source": [
    "### Random Forest from Gbug\n",
    "results_gbug_rf = test_baseline_classifier(\n",
    "    load_baseline_classifier(GBUG_RF_BASELINE),\n",
    "    load_tfidf_vectorizer(GBUG_RF_BASELINE.tfidf_vectorizer_path),\n",
    "    pd.read_csv(GBUG_DATASET.dataset_path),\n",
    "    load_training_indexes(GBUG_DATASET.training_idx_path),\n",
    ")\n",
    "\n",
    "results_gbug_rf_defects = test_baseline_classifier(\n",
    "    load_baseline_classifier(GBUG_RF_BASELINE),\n",
    "    load_tfidf_vectorizer(GBUG_RF_BASELINE.tfidf_vectorizer_path),\n",
    "    pd.read_csv(DEFECT_DATASET.dataset_path),\n",
    "    load_training_indexes(DEFECT_DATASET.training_idx_path),\n",
    ")\n",
    "\n",
    "results_gbug_rf_human = test_baseline_classifier(\n",
    "    load_baseline_classifier(GBUG_KNN_BASELINE),\n",
    "    load_tfidf_vectorizer(GBUG_KNN_BASELINE.tfidf_vectorizer_path),\n",
    "    pd.read_csv(HUMAN_DATASET.dataset_path),\n",
    "    load_training_indexes(HUMAN_DATASET.training_idx_path),\n",
    ")\n",
    "\n",
    "transf_rf_gbug_on_defects= calculate_f1_shift(\n",
    "    results_gbug_rf_defects,\n",
    "    results_gbug_rf,\n",
    ")\n",
    "transf_rf_gbug_on_human= calculate_f1_shift(\n",
    "    results_gbug_rf_human,\n",
    "    results_gbug_rf,\n",
    ")\n",
    "\n",
    "transf_rf_gbug = TransferabilityPerformance(\n",
    "    on_defects=transf_rf_gbug_on_defects,\n",
    "    on_humaneval=transf_rf_gbug_on_human,\n",
    ")\n",
    "\n",
    "save_results(\"results_gbug_rf\", results_gbug_rf)\n",
    "save_results(\"results_gbug_rf_defects\", results_gbug_rf_defects)\n",
    "save_results(\"results_gbug_rf_human\", results_gbug_rf_human)\n",
    "save_results(\"transf_knn_gbug\", transf_knn_gbug)"
   ]
  },
  {
   "cell_type": "code",
   "execution_count": null,
   "id": "dfc67a72",
   "metadata": {},
   "outputs": [
    {
     "name": "stderr",
     "output_type": "stream",
     "text": [
      "100%|██████████| 465/465 [00:00<00:00, 6534.19it/s]\n",
      "100%|██████████| 465/465 [00:00<00:00, 4252.21it/s]\n"
     ]
    },
    {
     "name": "stdout",
     "output_type": "stream",
     "text": [
      "\u001b[2m2025-04-23 18:23:34\u001b[0m [\u001b[32m\u001b[1minfo     \u001b[0m] \u001b[1mClassification report:        \u001b[0m \u001b[36maccuracy\u001b[0m=\u001b[35m0.5376344086021505\u001b[0m \u001b[36mf1\u001b[0m=\u001b[35m0.35820895522388063\u001b[0m \u001b[36mprecision\u001b[0m=\u001b[35m0.5853658536585366\u001b[0m \u001b[36mrecall\u001b[0m=\u001b[35m0.25806451612903225\u001b[0m\n"
     ]
    },
    {
     "name": "stderr",
     "output_type": "stream",
     "text": [
      "100%|██████████| 148/148 [00:00<00:00, 5392.40it/s]\n",
      "100%|██████████| 148/148 [00:00<00:00, 5272.36it/s]"
     ]
    },
    {
     "name": "stdout",
     "output_type": "stream",
     "text": [
      "\u001b[2m2025-04-23 18:23:34\u001b[0m [\u001b[32m\u001b[1minfo     \u001b[0m] \u001b[1mClassification report:        \u001b[0m \u001b[36maccuracy\u001b[0m=\u001b[35m0.5333333333333333\u001b[0m \u001b[36mf1\u001b[0m=\u001b[35m0.43999999999999995\u001b[0m \u001b[36mprecision\u001b[0m=\u001b[35m0.55\u001b[0m \u001b[36mrecall\u001b[0m=\u001b[35m0.36666666666666664\u001b[0m\n"
     ]
    },
    {
     "name": "stderr",
     "output_type": "stream",
     "text": [
      "\n",
      "100%|██████████| 162/162 [00:00<00:00, 7701.47it/s]\n",
      "100%|██████████| 162/162 [00:00<00:00, 8233.39it/s]\n"
     ]
    },
    {
     "name": "stdout",
     "output_type": "stream",
     "text": [
      "\u001b[2m2025-04-23 18:23:34\u001b[0m [\u001b[32m\u001b[1minfo     \u001b[0m] \u001b[1mClassification report:        \u001b[0m \u001b[36maccuracy\u001b[0m=\u001b[35m0.5454545454545454\u001b[0m \u001b[36mf1\u001b[0m=\u001b[35m0.4642857142857143\u001b[0m \u001b[36mprecision\u001b[0m=\u001b[35m0.5652173913043478\u001b[0m \u001b[36mrecall\u001b[0m=\u001b[35m0.3939393939393939\u001b[0m\n",
      "\u001b[2m2025-04-23 18:23:34\u001b[0m [\u001b[32m\u001b[1minfo     \u001b[0m] \u001b[1mResults saved to ../artifacts/transferability_results.jsonl\u001b[0m\n",
      "\u001b[2m2025-04-23 18:23:34\u001b[0m [\u001b[32m\u001b[1minfo     \u001b[0m] \u001b[1mResults saved to ../artifacts/transferability_results.jsonl\u001b[0m\n",
      "\u001b[2m2025-04-23 18:23:34\u001b[0m [\u001b[32m\u001b[1minfo     \u001b[0m] \u001b[1mResults saved to ../artifacts/transferability_results.jsonl\u001b[0m\n"
     ]
    }
   ],
   "source": [
    "results_defects_knn = test_baseline_classifier(\n",
    "    load_baseline_classifier(DEFECTS4J_KNN_BASELINE),\n",
    "    load_tfidf_vectorizer(DEFECTS4J_KNN_BASELINE.tfidf_vectorizer_path),\n",
    "    pd.read_csv(DEFECT_DATASET.dataset_path),\n",
    "    load_training_indexes(DEFECT_DATASET.training_idx_path),\n",
    ")\n",
    "results_defects_knn_gbug = test_baseline_classifier(\n",
    "    load_baseline_classifier(DEFECTS4J_KNN_BASELINE),\n",
    "    load_tfidf_vectorizer(DEFECTS4J_KNN_BASELINE.tfidf_vectorizer_path),\n",
    "    pd.read_csv(GBUG_DATASET.dataset_path),\n",
    "    load_training_indexes(GBUG_DATASET.training_idx_path),\n",
    ")\n",
    "results_defects_knn_human = test_baseline_classifier(\n",
    "    load_baseline_classifier(DEFECTS4J_KNN_BASELINE),\n",
    "    load_tfidf_vectorizer(DEFECTS4J_KNN_BASELINE.tfidf_vectorizer_path),\n",
    "    pd.read_csv(HUMAN_DATASET.dataset_path),\n",
    "    load_training_indexes(HUMAN_DATASET.training_idx_path),\n",
    ")\n",
    "transf_knn_defects_on_gbug= calculate_f1_shift(\n",
    "    results_defects_knn_gbug,\n",
    "    results_defects_knn,\n",
    ")\n",
    "transf_knn_defects_on_human= calculate_f1_shift(\n",
    "    results_defects_knn_human,\n",
    "    results_defects_knn,\n",
    ")\n",
    "\n",
    "transf_knn_defects = TransferabilityPerformance(\n",
    "    on_gbug=transf_knn_defects_on_gbug,\n",
    "    on_humaneval=transf_knn_defects_on_human,\n",
    ")\n",
    "save_results(\"results_defects_knn\", results_defects_knn)\n",
    "save_results(\"results_defects_knn_gbug\", results_defects_knn_gbug)\n",
    "save_results(\"results_defects_knn_human\", results_defects_knn_human)\n",
    "save_results(\"transf_knn_defects\", transf_knn_defects)"
   ]
  },
  {
   "cell_type": "code",
   "execution_count": null,
   "id": "d73cf0fd",
   "metadata": {},
   "outputs": [
    {
     "name": "stderr",
     "output_type": "stream",
     "text": [
      "100%|██████████| 465/465 [00:00<00:00, 5781.56it/s]\n",
      "100%|██████████| 465/465 [00:00<00:00, 7014.32it/s]\n"
     ]
    },
    {
     "name": "stdout",
     "output_type": "stream",
     "text": [
      "\u001b[2m2025-04-23 02:19:33\u001b[0m [\u001b[32m\u001b[1minfo     \u001b[0m] \u001b[1mClassification report:        \u001b[0m \u001b[36maccuracy\u001b[0m=\u001b[35m0.521505376344086\u001b[0m \u001b[36mf1\u001b[0m=\u001b[35m0.41830065359477125\u001b[0m \u001b[36mprecision\u001b[0m=\u001b[35m0.5333333333333333\u001b[0m \u001b[36mrecall\u001b[0m=\u001b[35m0.34408602150537637\u001b[0m\n"
     ]
    },
    {
     "name": "stderr",
     "output_type": "stream",
     "text": [
      "100%|██████████| 148/148 [00:00<00:00, 5481.69it/s]\n",
      "100%|██████████| 148/148 [00:00<00:00, 5194.45it/s]\n"
     ]
    },
    {
     "name": "stdout",
     "output_type": "stream",
     "text": [
      "\u001b[2m2025-04-23 02:19:33\u001b[0m [\u001b[32m\u001b[1minfo     \u001b[0m] \u001b[1mClassification report:        \u001b[0m \u001b[36maccuracy\u001b[0m=\u001b[35m0.5333333333333333\u001b[0m \u001b[36mf1\u001b[0m=\u001b[35m0.36363636363636365\u001b[0m \u001b[36mprecision\u001b[0m=\u001b[35m0.5714285714285714\u001b[0m \u001b[36mrecall\u001b[0m=\u001b[35m0.26666666666666666\u001b[0m\n"
     ]
    },
    {
     "name": "stderr",
     "output_type": "stream",
     "text": [
      "100%|██████████| 162/162 [00:00<00:00, 7925.69it/s]\n",
      "100%|██████████| 162/162 [00:00<00:00, 5784.85it/s]\n"
     ]
    },
    {
     "name": "stdout",
     "output_type": "stream",
     "text": [
      "\u001b[2m2025-04-23 02:19:33\u001b[0m [\u001b[32m\u001b[1minfo     \u001b[0m] \u001b[1mClassification report:        \u001b[0m \u001b[36maccuracy\u001b[0m=\u001b[35m0.5\u001b[0m \u001b[36mf1\u001b[0m=\u001b[35m0.6117647058823529\u001b[0m \u001b[36mprecision\u001b[0m=\u001b[35m0.5\u001b[0m \u001b[36mrecall\u001b[0m=\u001b[35m0.7878787878787878\u001b[0m\n",
      "\u001b[2m2025-04-23 02:19:33\u001b[0m [\u001b[32m\u001b[1minfo     \u001b[0m] \u001b[1mResults saved to ../artifacts/transferability_results.jsonl\u001b[0m\n",
      "\u001b[2m2025-04-23 02:19:33\u001b[0m [\u001b[32m\u001b[1minfo     \u001b[0m] \u001b[1mResults saved to ../artifacts/transferability_results.jsonl\u001b[0m\n",
      "\u001b[2m2025-04-23 02:19:33\u001b[0m [\u001b[32m\u001b[1minfo     \u001b[0m] \u001b[1mResults saved to ../artifacts/transferability_results.jsonl\u001b[0m\n"
     ]
    }
   ],
   "source": [
    "results_defects_rf = test_baseline_classifier(\n",
    "    load_baseline_classifier(DEFECTS4J_RF_BASELINE),\n",
    "    load_tfidf_vectorizer(DEFECTS4J_RF_BASELINE.tfidf_vectorizer_path),\n",
    "    pd.read_csv(DEFECT_DATASET.dataset_path),\n",
    "    load_training_indexes(DEFECT_DATASET.training_idx_path),\n",
    ")\n",
    "results_defects_rf_gbug = test_baseline_classifier(\n",
    "    load_baseline_classifier(DEFECTS4J_RF_BASELINE),\n",
    "    load_tfidf_vectorizer(DEFECTS4J_RF_BASELINE.tfidf_vectorizer_path),\n",
    "    pd.read_csv(GBUG_DATASET.dataset_path),\n",
    "    load_training_indexes(GBUG_DATASET.training_idx_path),\n",
    ")\n",
    "results_defects_rf_human = test_baseline_classifier(\n",
    "    load_baseline_classifier(DEFECTS4J_RF_BASELINE),\n",
    "    load_tfidf_vectorizer(DEFECTS4J_RF_BASELINE.tfidf_vectorizer_path),\n",
    "    pd.read_csv(HUMAN_DATASET.dataset_path),\n",
    "    load_training_indexes(HUMAN_DATASET.training_idx_path),\n",
    ")\n",
    "transf_rf_defects_on_gbug= calculate_f1_shift(\n",
    "    results_defects_rf_gbug,\n",
    "    results_defects_rf,\n",
    ")\n",
    "transf_rf_defects_on_human= calculate_f1_shift(\n",
    "    results_defects_rf_human,\n",
    "    results_defects_rf,\n",
    ")\n",
    "\n",
    "transf_rf_defects = TransferabilityPerformance(\n",
    "    on_gbug=transf_rf_defects_on_gbug,\n",
    "    on_humaneval=transf_rf_defects_on_human,\n",
    ")\n",
    "save_results(\"results_defects_rf\", results_defects_rf)\n",
    "save_results(\"results_defects_rf_gbug\", results_defects_rf_gbug)\n",
    "save_results(\"results_defects_rf_human\", results_defects_rf_human)\n",
    "save_results(\"transf_rf_defects\", transf_knn_defects)"
   ]
  },
  {
   "cell_type": "code",
   "execution_count": null,
   "id": "8f920934",
   "metadata": {},
   "outputs": [
    {
     "name": "stderr",
     "output_type": "stream",
     "text": [
      "100%|██████████| 162/162 [00:00<00:00, 7435.90it/s]\n",
      "100%|██████████| 162/162 [00:00<00:00, 3960.40it/s]\n"
     ]
    },
    {
     "name": "stdout",
     "output_type": "stream",
     "text": [
      "\u001b[2m2025-04-23 02:19:33\u001b[0m [\u001b[32m\u001b[1minfo     \u001b[0m] \u001b[1mClassification report:        \u001b[0m \u001b[36maccuracy\u001b[0m=\u001b[35m0.5757575757575758\u001b[0m \u001b[36mf1\u001b[0m=\u001b[35m0.5625\u001b[0m \u001b[36mprecision\u001b[0m=\u001b[35m0.5806451612903226\u001b[0m \u001b[36mrecall\u001b[0m=\u001b[35m0.5454545454545454\u001b[0m\n"
     ]
    },
    {
     "name": "stderr",
     "output_type": "stream",
     "text": [
      "100%|██████████| 148/148 [00:00<00:00, 5374.01it/s]\n",
      "100%|██████████| 148/148 [00:00<00:00, 5162.74it/s]\n"
     ]
    },
    {
     "name": "stdout",
     "output_type": "stream",
     "text": [
      "\u001b[2m2025-04-23 02:19:33\u001b[0m [\u001b[32m\u001b[1minfo     \u001b[0m] \u001b[1mClassification report:        \u001b[0m \u001b[36maccuracy\u001b[0m=\u001b[35m0.48333333333333334\u001b[0m \u001b[36mf1\u001b[0m=\u001b[35m0.5373134328358209\u001b[0m \u001b[36mprecision\u001b[0m=\u001b[35m0.4864864864864865\u001b[0m \u001b[36mrecall\u001b[0m=\u001b[35m0.6\u001b[0m\n"
     ]
    },
    {
     "name": "stderr",
     "output_type": "stream",
     "text": [
      "100%|██████████| 465/465 [00:00<00:00, 7009.98it/s]\n",
      "100%|██████████| 465/465 [00:00<00:00, 6590.29it/s]\n"
     ]
    },
    {
     "name": "stdout",
     "output_type": "stream",
     "text": [
      "\u001b[2m2025-04-23 02:19:33\u001b[0m [\u001b[32m\u001b[1minfo     \u001b[0m] \u001b[1mClassification report:        \u001b[0m \u001b[36maccuracy\u001b[0m=\u001b[35m0.5053763440860215\u001b[0m \u001b[36mf1\u001b[0m=\u001b[35m0.5\u001b[0m \u001b[36mprecision\u001b[0m=\u001b[35m0.5054945054945055\u001b[0m \u001b[36mrecall\u001b[0m=\u001b[35m0.4946236559139785\u001b[0m\n",
      "\u001b[2m2025-04-23 02:19:33\u001b[0m [\u001b[32m\u001b[1minfo     \u001b[0m] \u001b[1mResults saved to ../artifacts/transferability_results.jsonl\u001b[0m\n",
      "\u001b[2m2025-04-23 02:19:33\u001b[0m [\u001b[32m\u001b[1minfo     \u001b[0m] \u001b[1mResults saved to ../artifacts/transferability_results.jsonl\u001b[0m\n",
      "\u001b[2m2025-04-23 02:19:33\u001b[0m [\u001b[32m\u001b[1minfo     \u001b[0m] \u001b[1mResults saved to ../artifacts/transferability_results.jsonl\u001b[0m\n"
     ]
    }
   ],
   "source": [
    "results_humaneval_knn = test_baseline_classifier(\n",
    "    load_baseline_classifier(HUMANEVAL_KNN_BASELINE),\n",
    "    load_tfidf_vectorizer(HUMANEVAL_KNN_BASELINE.tfidf_vectorizer_path),\n",
    "    pd.read_csv(HUMAN_DATASET.dataset_path),\n",
    "    load_training_indexes(HUMAN_DATASET.training_idx_path),\n",
    ")\n",
    "results_humaneval_knn_gbug = test_baseline_classifier(\n",
    "    load_baseline_classifier(HUMANEVAL_KNN_BASELINE),\n",
    "    load_tfidf_vectorizer(HUMANEVAL_KNN_BASELINE.tfidf_vectorizer_path),\n",
    "    pd.read_csv(GBUG_DATASET.dataset_path),\n",
    "    load_training_indexes(GBUG_DATASET.training_idx_path),\n",
    ")\n",
    "results_humaneval_knn_defects = test_baseline_classifier(\n",
    "    load_baseline_classifier(HUMANEVAL_KNN_BASELINE),\n",
    "    load_tfidf_vectorizer(HUMANEVAL_KNN_BASELINE.tfidf_vectorizer_path),\n",
    "    pd.read_csv(DEFECT_DATASET.dataset_path),\n",
    "    load_training_indexes(DEFECT_DATASET.training_idx_path),\n",
    ")\n",
    "transf_knn_humaneval_on_gbug= calculate_f1_shift(\n",
    "    results_humaneval_knn_gbug,\n",
    "    results_humaneval_knn,\n",
    ")\n",
    "transf_knn_humaneval_on_defects= calculate_f1_shift(\n",
    "    results_humaneval_knn_defects,\n",
    "    results_humaneval_knn,\n",
    ")\n",
    "\n",
    "save_results(\"results_humaneval_knn\", results_humaneval_knn)\n",
    "save_results(\"results_humaneval_knn_gbug\", results_humaneval_knn_gbug)\n",
    "save_results(\"results_humaneval_knn_defects\", results_humaneval_knn_defects)\n",
    "\n",
    "transf_knn_humaneval = TransferabilityPerformance(\n",
    "    on_gbug=transf_knn_humaneval_on_gbug,\n",
    "    on_defects=transf_knn_humaneval_on_defects,\n",
    "    on_humaneval=None,\n",
    ")\n",
    "print(transf_knn_humaneval)\n",
    "save_results(\"transf_knn_humaneval\", transf_knn_humaneval)"
   ]
  },
  {
   "cell_type": "code",
   "execution_count": null,
   "id": "a3ff3b35",
   "metadata": {},
   "outputs": [
    {
     "name": "stderr",
     "output_type": "stream",
     "text": [
      "100%|██████████| 162/162 [00:00<00:00, 4168.39it/s]\n",
      "100%|██████████| 162/162 [00:00<00:00, 7290.68it/s]\n"
     ]
    },
    {
     "name": "stdout",
     "output_type": "stream",
     "text": [
      "\u001b[2m2025-04-23 02:19:34\u001b[0m [\u001b[32m\u001b[1minfo     \u001b[0m] \u001b[1mClassification report:        \u001b[0m \u001b[36maccuracy\u001b[0m=\u001b[35m0.5606060606060606\u001b[0m \u001b[36mf1\u001b[0m=\u001b[35m0.4912280701754386\u001b[0m \u001b[36mprecision\u001b[0m=\u001b[35m0.5833333333333334\u001b[0m \u001b[36mrecall\u001b[0m=\u001b[35m0.42424242424242425\u001b[0m\n"
     ]
    },
    {
     "name": "stderr",
     "output_type": "stream",
     "text": [
      "100%|██████████| 148/148 [00:00<00:00, 5422.78it/s]\n",
      "100%|██████████| 148/148 [00:00<00:00, 5132.47it/s]"
     ]
    },
    {
     "name": "stdout",
     "output_type": "stream",
     "text": [
      "\u001b[2m2025-04-23 02:19:34\u001b[0m [\u001b[32m\u001b[1minfo     \u001b[0m] \u001b[1mClassification report:        \u001b[0m \u001b[36maccuracy\u001b[0m=\u001b[35m0.5\u001b[0m \u001b[36mf1\u001b[0m=\u001b[35m0.16666666666666669\u001b[0m \u001b[36mprecision\u001b[0m=\u001b[35m0.5\u001b[0m \u001b[36mrecall\u001b[0m=\u001b[35m0.1\u001b[0m\n"
     ]
    },
    {
     "name": "stderr",
     "output_type": "stream",
     "text": [
      "\n",
      "100%|██████████| 465/465 [00:00<00:00, 7182.27it/s]\n",
      "100%|██████████| 465/465 [00:00<00:00, 4473.26it/s]\n"
     ]
    },
    {
     "name": "stdout",
     "output_type": "stream",
     "text": [
      "\u001b[2m2025-04-23 02:19:34\u001b[0m [\u001b[32m\u001b[1minfo     \u001b[0m] \u001b[1mClassification report:        \u001b[0m \u001b[36maccuracy\u001b[0m=\u001b[35m0.4946236559139785\u001b[0m \u001b[36mf1\u001b[0m=\u001b[35m0.11320754716981131\u001b[0m \u001b[36mprecision\u001b[0m=\u001b[35m0.46153846153846156\u001b[0m \u001b[36mrecall\u001b[0m=\u001b[35m0.06451612903225806\u001b[0m\n",
      "\u001b[2m2025-04-23 02:19:34\u001b[0m [\u001b[32m\u001b[1minfo     \u001b[0m] \u001b[1mResults saved to ../artifacts/transferability_results.jsonl\u001b[0m\n",
      "\u001b[2m2025-04-23 02:19:34\u001b[0m [\u001b[32m\u001b[1minfo     \u001b[0m] \u001b[1mResults saved to ../artifacts/transferability_results.jsonl\u001b[0m\n",
      "\u001b[2m2025-04-23 02:19:34\u001b[0m [\u001b[32m\u001b[1minfo     \u001b[0m] \u001b[1mResults saved to ../artifacts/transferability_results.jsonl\u001b[0m\n"
     ]
    }
   ],
   "source": [
    "results_humaneval_rf = test_baseline_classifier(\n",
    "    load_baseline_classifier(HUMANEVAL_RF_BASELINE),\n",
    "    load_tfidf_vectorizer(HUMANEVAL_RF_BASELINE.tfidf_vectorizer_path),\n",
    "    pd.read_csv(HUMAN_DATASET.dataset_path),\n",
    "    load_training_indexes(HUMAN_DATASET.training_idx_path),\n",
    ")\n",
    "results_humaneval_rf_gbug = test_baseline_classifier(\n",
    "    load_baseline_classifier(HUMANEVAL_RF_BASELINE),\n",
    "    load_tfidf_vectorizer(HUMANEVAL_RF_BASELINE.tfidf_vectorizer_path),\n",
    "    pd.read_csv(GBUG_DATASET.dataset_path),\n",
    "    load_training_indexes(GBUG_DATASET.training_idx_path),\n",
    ")\n",
    "results_humaneval_rf_defects = test_baseline_classifier(\n",
    "    load_baseline_classifier(HUMANEVAL_RF_BASELINE),\n",
    "    load_tfidf_vectorizer(HUMANEVAL_RF_BASELINE.tfidf_vectorizer_path),\n",
    "    pd.read_csv(DEFECT_DATASET.dataset_path),\n",
    "    load_training_indexes(DEFECT_DATASET.training_idx_path),\n",
    ")\n",
    "transf_rf_humaneval_on_gbug= calculate_f1_shift(\n",
    "    results_humaneval_rf_gbug,\n",
    "    results_humaneval_rf,\n",
    ")\n",
    "transf_rf_humaneval_on_defects= calculate_f1_shift(\n",
    "    results_humaneval_rf_defects,\n",
    "    results_humaneval_rf,\n",
    ")\n",
    "transf_rf_humaneval = TransferabilityPerformance(\n",
    "    on_defects=transf_rf_humaneval_on_defects,\n",
    "    on_gbug=transf_rf_humaneval_on_gbug,\n",
    ")\n",
    "save_results(\"results_humaneval_rf\", results_humaneval_rf)\n",
    "save_results(\"results_humaneval_rf_gbug\", results_humaneval_rf_gbug)\n",
    "save_results(\"results_humaneval_rf_defects\", results_humaneval_rf_defects)\n",
    "save_results(\"transf_rf_humaneval\", transf_rf_humaneval)"
   ]
  },
  {
   "cell_type": "markdown",
   "id": "a93a8048",
   "metadata": {},
   "source": [
    "# Baselines with BERT-based model"
   ]
  },
  {
   "cell_type": "code",
   "execution_count": 24,
   "id": "7d7359fe",
   "metadata": {},
   "outputs": [],
   "source": [
    "@dataclass\n",
    "class BERT_CLASSIFIER:\n",
    "    path: str\n",
    "    \n",
    "MODERN_BERT_BASE_GBUG = BERT_CLASSIFIER(\n",
    "    path=\"../answerdotai_ModernBERT-base_artifacts_gbug-java.csv_best_model\",\n",
    ")\n",
    "\n",
    "MODERN_BERT_BASE_DEFECTS = BERT_CLASSIFIER(\n",
    "    path=\"../answerdotai_ModernBERT-base_artifacts_defects4j.csv_best_model\",\n",
    ")\n",
    "MODERN_BERT_BASE_HUMAN = BERT_CLASSIFIER(\n",
    "    path=\"../answerdotai_ModernBERT-base_artifacts_humaneval.csv_best_model\",\n",
    ")\n",
    "MODERN_BERT_LARGE_GBUG = BERT_CLASSIFIER(\n",
    "    path=\"../answerdotai_ModernBERT-large_artifacts_gbug-java.csv_best_model\",\n",
    ")\n",
    "MODERN_BERT_LARGE_DEFECTS = BERT_CLASSIFIER(\n",
    "    path=\"../answerdotai_ModernBERT-large_artifacts_defects4j.csv_best_model\",\n",
    ")\n",
    "MODERN_BERT_LARGE_HUMAN = BERT_CLASSIFIER(\n",
    "    path=\"../answerdotai_ModernBERT-large_artifacts_humaneval.csv_best_model\",\n",
    ")\n",
    "GRAPH_CODE_BERT_GBUG = BERT_CLASSIFIER(\n",
    "    path=\"../microsoft_graphcodebert-base_artifacts_gbug-java.csv_best_model\",\n",
    ")\n",
    "GRAPH_CODE_BERT_DEFECTS = BERT_CLASSIFIER(\n",
    "    path=\"../microsoft_graphcodebert-base_artifacts_defects4j.csv_best_model\",\n",
    ")\n",
    "GRAPH_CODE_BERT_HUMAN = BERT_CLASSIFIER(\n",
    "    path=\"../microsoft_graphcodebert-base_artifacts_humaneval.csv_best_model\",\n",
    ")\n"
   ]
  },
  {
   "cell_type": "code",
   "execution_count": 25,
   "id": "67ec6b15",
   "metadata": {},
   "outputs": [],
   "source": [
    "from transformers import AutoModelForSequenceClassification, AutoTokenizer\n",
    "def load_bert_model(model_path: str):\n",
    "    \"\"\"\n",
    "    Load the BERT model from the given path.\n",
    "    \"\"\"\n",
    "    model = AutoModelForSequenceClassification.from_pretrained(model_path,  trust_remote_code=True)\n",
    "    tokenizer = AutoTokenizer.from_pretrained(model_path)\n",
    "    return model, tokenizer\n",
    "\n",
    "def test_bert_model(model, tokenizer, df, train_indexes):\n",
    "    \"\"\"\n",
    "    Test the BERT model on the test dataset.\n",
    "    \"\"\"\n",
    "    df_test = df.drop(train_indexes)\n",
    "\n",
    "    X_test = df_test[\"func_before\"].tolist() + df_test[\"func_after\"].tolist()\n",
    "    y_test = [1] * len(df_test) + [0] * len(df_test)\n",
    "\n",
    "    y_pred_all = []\n",
    "\n",
    "    for i in trange(len(X_test)):\n",
    "        inputs = tokenizer(\n",
    "            X_test[i],\n",
    "            padding=True,\n",
    "            truncation=True,\n",
    "            return_tensors=\"pt\",\n",
    "        )\n",
    "\n",
    "        outputs = model(**inputs)\n",
    "        logits = outputs.logits\n",
    "        y_pred = torch.argmax(logits, dim=1)\n",
    "        y_pred_all.append(y_pred.item())\n",
    "        \n",
    "    \n",
    "    precision, recall, accuracy, f1 = get_metrics(y_pred_all, y_test)\n",
    "    logger.info(\n",
    "        \"Classification report:\",\n",
    "        precision=precision,\n",
    "        recall=recall,\n",
    "        accuracy=accuracy,\n",
    "        f1=f1,\n",
    "    )\n",
    "    return Results(\n",
    "        precision=precision,\n",
    "        recall=recall,\n",
    "        accuracy=accuracy,\n",
    "        f1=f1,\n",
    "    )\n"
   ]
  },
  {
   "cell_type": "code",
   "execution_count": 26,
   "id": "68eedc3f",
   "metadata": {},
   "outputs": [
    {
     "name": "stderr",
     "output_type": "stream",
     "text": [
      "  0%|          | 0/60 [00:00<?, ?it/s]Compiling the model with `torch.compile` and using a `torch.cpu` device is not supported. Falling back to non-compiled mode.\n",
      "100%|██████████| 60/60 [00:50<00:00,  1.18it/s]"
     ]
    },
    {
     "name": "stdout",
     "output_type": "stream",
     "text": [
      "\u001b[2m2025-04-23 02:20:26\u001b[0m [\u001b[32m\u001b[1minfo     \u001b[0m] \u001b[1mClassification report:        \u001b[0m \u001b[36maccuracy\u001b[0m=\u001b[35m0.7\u001b[0m \u001b[36mf1\u001b[0m=\u001b[35m0.71875\u001b[0m \u001b[36mprecision\u001b[0m=\u001b[35m0.6764705882352942\u001b[0m \u001b[36mrecall\u001b[0m=\u001b[35m0.7666666666666667\u001b[0m\n"
     ]
    },
    {
     "name": "stderr",
     "output_type": "stream",
     "text": [
      "\n",
      "100%|██████████| 186/186 [02:05<00:00,  1.49it/s]"
     ]
    },
    {
     "name": "stdout",
     "output_type": "stream",
     "text": [
      "\u001b[2m2025-04-23 02:22:31\u001b[0m [\u001b[32m\u001b[1minfo     \u001b[0m] \u001b[1mClassification report:        \u001b[0m \u001b[36maccuracy\u001b[0m=\u001b[35m0.553763440860215\u001b[0m \u001b[36mf1\u001b[0m=\u001b[35m0.5464480874316939\u001b[0m \u001b[36mprecision\u001b[0m=\u001b[35m0.5555555555555556\u001b[0m \u001b[36mrecall\u001b[0m=\u001b[35m0.5376344086021505\u001b[0m\n"
     ]
    },
    {
     "name": "stderr",
     "output_type": "stream",
     "text": [
      "\n",
      "100%|██████████| 66/66 [00:14<00:00,  4.47it/s]"
     ]
    },
    {
     "name": "stdout",
     "output_type": "stream",
     "text": [
      "\u001b[2m2025-04-23 02:22:46\u001b[0m [\u001b[32m\u001b[1minfo     \u001b[0m] \u001b[1mClassification report:        \u001b[0m \u001b[36maccuracy\u001b[0m=\u001b[35m0.5151515151515151\u001b[0m \u001b[36mf1\u001b[0m=\u001b[35m0.5999999999999999\u001b[0m \u001b[36mprecision\u001b[0m=\u001b[35m0.5106382978723404\u001b[0m \u001b[36mrecall\u001b[0m=\u001b[35m0.7272727272727273\u001b[0m\n",
      "\u001b[2m2025-04-23 02:22:46\u001b[0m [\u001b[32m\u001b[1minfo     \u001b[0m] \u001b[1mResults saved to ../artifacts/transferability_results.jsonl\u001b[0m\n",
      "\u001b[2m2025-04-23 02:22:46\u001b[0m [\u001b[32m\u001b[1minfo     \u001b[0m] \u001b[1mResults saved to ../artifacts/transferability_results.jsonl\u001b[0m\n",
      "\u001b[2m2025-04-23 02:22:46\u001b[0m [\u001b[32m\u001b[1minfo     \u001b[0m] \u001b[1mResults saved to ../artifacts/transferability_results.jsonl\u001b[0m\n"
     ]
    },
    {
     "name": "stderr",
     "output_type": "stream",
     "text": [
      "\n"
     ]
    }
   ],
   "source": [
    "results_modern_bert_large_gbug = test_bert_model(\n",
    "    *load_bert_model(MODERN_BERT_LARGE_GBUG.path),\n",
    "    pd.read_csv(GBUG_DATASET.dataset_path),\n",
    "    load_training_indexes(GBUG_DATASET.training_idx_path),\n",
    ")\n",
    "results_modern_bert_large_gbug_on_defects = test_bert_model(\n",
    "    *load_bert_model(MODERN_BERT_LARGE_GBUG.path),\n",
    "    pd.read_csv(DEFECT_DATASET.dataset_path),\n",
    "    load_training_indexes(DEFECT_DATASET.training_idx_path),\n",
    ")\n",
    "\n",
    "results_modern_bert_large_gbug_on_human = test_bert_model(\n",
    "    *load_bert_model(MODERN_BERT_LARGE_GBUG.path),\n",
    "    pd.read_csv(HUMAN_DATASET.dataset_path),\n",
    "    load_training_indexes(HUMAN_DATASET.training_idx_path),\n",
    ")\n",
    "transf_modern_bert_large_gbug_on_defects= calculate_f1_shift(\n",
    "    results_modern_bert_large_gbug_on_defects,\n",
    "    results_modern_bert_large_gbug,\n",
    ")\n",
    "transf_modern_bert_large_gbug_on_human= calculate_f1_shift(\n",
    "    results_modern_bert_large_gbug_on_human,\n",
    "    results_modern_bert_large_gbug,\n",
    ")\n",
    "\n",
    "# Save the results\n",
    "save_results(\n",
    "    \"results_modern_bert_large_gbug\",\n",
    "    results_modern_bert_large_gbug,\n",
    ")\n",
    "save_results(\n",
    "    \"results_modern_bert_large_gbug_on_defects\",\n",
    "    results_modern_bert_large_gbug_on_defects,\n",
    ")\n",
    "save_results(\n",
    "    \"results_modern_bert_large_gbug_on_human\",\n",
    "    results_modern_bert_large_gbug_on_human,\n",
    ")"
   ]
  },
  {
   "cell_type": "code",
   "execution_count": 27,
   "id": "d55e919c",
   "metadata": {},
   "outputs": [
    {
     "name": "stdout",
     "output_type": "stream",
     "text": [
      "\u001b[2m2025-04-23 02:22:46\u001b[0m [\u001b[32m\u001b[1minfo     \u001b[0m] \u001b[1mResults saved to ../artifacts/transferability_results.jsonl\u001b[0m\n"
     ]
    }
   ],
   "source": [
    "transf_modern_bert_large_gbug = TransferabilityPerformance(\n",
    "    on_defects=transf_modern_bert_large_gbug_on_defects,\n",
    "    on_humaneval=transf_modern_bert_large_gbug_on_human,\n",
    ")\n",
    "save_results(\"transf_modern_bert_large_gbug\", transf_modern_bert_large_gbug)"
   ]
  },
  {
   "cell_type": "code",
   "execution_count": 28,
   "id": "17b03b21",
   "metadata": {},
   "outputs": [
    {
     "name": "stderr",
     "output_type": "stream",
     "text": [
      "100%|██████████| 186/186 [02:11<00:00,  1.42it/s]"
     ]
    },
    {
     "name": "stdout",
     "output_type": "stream",
     "text": [
      "\u001b[2m2025-04-23 02:24:57\u001b[0m [\u001b[32m\u001b[1minfo     \u001b[0m] \u001b[1mClassification report:        \u001b[0m \u001b[36maccuracy\u001b[0m=\u001b[35m0.5268817204301075\u001b[0m \u001b[36mf1\u001b[0m=\u001b[35m0.5510204081632653\u001b[0m \u001b[36mprecision\u001b[0m=\u001b[35m0.5242718446601942\u001b[0m \u001b[36mrecall\u001b[0m=\u001b[35m0.5806451612903226\u001b[0m\n"
     ]
    },
    {
     "name": "stderr",
     "output_type": "stream",
     "text": [
      "\n",
      "100%|██████████| 60/60 [00:49<00:00,  1.21it/s]"
     ]
    },
    {
     "name": "stdout",
     "output_type": "stream",
     "text": [
      "\u001b[2m2025-04-23 02:25:47\u001b[0m [\u001b[32m\u001b[1minfo     \u001b[0m] \u001b[1mClassification report:        \u001b[0m \u001b[36maccuracy\u001b[0m=\u001b[35m0.5166666666666667\u001b[0m \u001b[36mf1\u001b[0m=\u001b[35m0.5671641791044775\u001b[0m \u001b[36mprecision\u001b[0m=\u001b[35m0.5135135135135135\u001b[0m \u001b[36mrecall\u001b[0m=\u001b[35m0.6333333333333333\u001b[0m\n"
     ]
    },
    {
     "name": "stderr",
     "output_type": "stream",
     "text": [
      "\n",
      "100%|██████████| 66/66 [00:15<00:00,  4.36it/s]"
     ]
    },
    {
     "name": "stdout",
     "output_type": "stream",
     "text": [
      "\u001b[2m2025-04-23 02:26:03\u001b[0m [\u001b[32m\u001b[1minfo     \u001b[0m] \u001b[1mClassification report:        \u001b[0m \u001b[36maccuracy\u001b[0m=\u001b[35m0.5303030303030303\u001b[0m \u001b[36mf1\u001b[0m=\u001b[35m0.5753424657534246\u001b[0m \u001b[36mprecision\u001b[0m=\u001b[35m0.525\u001b[0m \u001b[36mrecall\u001b[0m=\u001b[35m0.6363636363636364\u001b[0m\n",
      "\u001b[2m2025-04-23 02:26:03\u001b[0m [\u001b[32m\u001b[1minfo     \u001b[0m] \u001b[1mResults saved to ../artifacts/transferability_results.jsonl\u001b[0m\n",
      "\u001b[2m2025-04-23 02:26:03\u001b[0m [\u001b[32m\u001b[1minfo     \u001b[0m] \u001b[1mResults saved to ../artifacts/transferability_results.jsonl\u001b[0m\n",
      "\u001b[2m2025-04-23 02:26:03\u001b[0m [\u001b[32m\u001b[1minfo     \u001b[0m] \u001b[1mResults saved to ../artifacts/transferability_results.jsonl\u001b[0m\n"
     ]
    },
    {
     "name": "stderr",
     "output_type": "stream",
     "text": [
      "\n"
     ]
    }
   ],
   "source": [
    "results_modern_bert_large_defects = test_bert_model(\n",
    "    *load_bert_model(MODERN_BERT_LARGE_DEFECTS.path),\n",
    "    pd.read_csv(DEFECT_DATASET.dataset_path),\n",
    "    load_training_indexes(DEFECT_DATASET.training_idx_path),\n",
    ")\n",
    "results_modern_bert_large_defects_on_gbug = test_bert_model(\n",
    "    *load_bert_model(MODERN_BERT_LARGE_DEFECTS.path),\n",
    "    pd.read_csv(GBUG_DATASET.dataset_path),\n",
    "    load_training_indexes(GBUG_DATASET.training_idx_path),\n",
    ")\n",
    "results_modern_bert_large_defects_on_human = test_bert_model(\n",
    "    *load_bert_model(MODERN_BERT_LARGE_DEFECTS.path),\n",
    "    pd.read_csv(HUMAN_DATASET.dataset_path),\n",
    "    load_training_indexes(HUMAN_DATASET.training_idx_path),\n",
    ")\n",
    "transf_modern_bert_large_defects_on_gbug= calculate_f1_shift(\n",
    "    results_modern_bert_large_defects_on_gbug,\n",
    "    results_modern_bert_large_defects,\n",
    ")\n",
    "transf_modern_bert_large_defects_on_human= calculate_f1_shift(\n",
    "    results_modern_bert_large_defects_on_human,\n",
    "    results_modern_bert_large_defects,\n",
    ")\n",
    "# Save the results\n",
    "save_results(\n",
    "    \"results_modern_bert_large_defects\",\n",
    "    results_modern_bert_large_defects,\n",
    ")\n",
    "save_results(\n",
    "    \"results_modern_bert_large_defects_on_gbug\",\n",
    "    results_modern_bert_large_defects_on_gbug,\n",
    ")\n",
    "save_results(\n",
    "    \"results_modern_bert_large_defects_on_human\",\n",
    "    results_modern_bert_large_defects_on_human,\n",
    ")"
   ]
  },
  {
   "cell_type": "code",
   "execution_count": 29,
   "id": "695e99bc",
   "metadata": {},
   "outputs": [
    {
     "name": "stdout",
     "output_type": "stream",
     "text": [
      "\u001b[2m2025-04-23 02:26:03\u001b[0m [\u001b[32m\u001b[1minfo     \u001b[0m] \u001b[1mResults saved to ../artifacts/transferability_results.jsonl\u001b[0m\n"
     ]
    }
   ],
   "source": [
    "transf_modern_bert_large_defects = TransferabilityPerformance(\n",
    "    on_defects=transf_modern_bert_large_defects_on_gbug,\n",
    "    on_humaneval=transf_modern_bert_large_defects_on_human,\n",
    ")\n",
    "save_results(\"transf_modern_bert_large_defects\", transf_modern_bert_large_defects)"
   ]
  },
  {
   "cell_type": "code",
   "execution_count": 30,
   "id": "39d592bf",
   "metadata": {},
   "outputs": [
    {
     "name": "stderr",
     "output_type": "stream",
     "text": [
      "100%|██████████| 66/66 [00:15<00:00,  4.14it/s]"
     ]
    },
    {
     "name": "stdout",
     "output_type": "stream",
     "text": [
      "\u001b[2m2025-04-23 02:26:19\u001b[0m [\u001b[32m\u001b[1minfo     \u001b[0m] \u001b[1mClassification report:        \u001b[0m \u001b[36maccuracy\u001b[0m=\u001b[35m0.5606060606060606\u001b[0m \u001b[36mf1\u001b[0m=\u001b[35m0.5797101449275361\u001b[0m \u001b[36mprecision\u001b[0m=\u001b[35m0.5555555555555556\u001b[0m \u001b[36mrecall\u001b[0m=\u001b[35m0.6060606060606061\u001b[0m\n"
     ]
    },
    {
     "name": "stderr",
     "output_type": "stream",
     "text": [
      "\n",
      "100%|██████████| 60/60 [00:48<00:00,  1.23it/s]"
     ]
    },
    {
     "name": "stdout",
     "output_type": "stream",
     "text": [
      "\u001b[2m2025-04-23 02:27:08\u001b[0m [\u001b[32m\u001b[1minfo     \u001b[0m] \u001b[1mClassification report:        \u001b[0m \u001b[36maccuracy\u001b[0m=\u001b[35m0.5\u001b[0m \u001b[36mf1\u001b[0m=\u001b[35m0.37499999999999994\u001b[0m \u001b[36mprecision\u001b[0m=\u001b[35m0.5\u001b[0m \u001b[36mrecall\u001b[0m=\u001b[35m0.3\u001b[0m\n"
     ]
    },
    {
     "name": "stderr",
     "output_type": "stream",
     "text": [
      "\n",
      "100%|██████████| 186/186 [02:06<00:00,  1.47it/s]"
     ]
    },
    {
     "name": "stdout",
     "output_type": "stream",
     "text": [
      "\u001b[2m2025-04-23 02:29:14\u001b[0m [\u001b[32m\u001b[1minfo     \u001b[0m] \u001b[1mClassification report:        \u001b[0m \u001b[36maccuracy\u001b[0m=\u001b[35m0.553763440860215\u001b[0m \u001b[36mf1\u001b[0m=\u001b[35m0.4429530201342282\u001b[0m \u001b[36mprecision\u001b[0m=\u001b[35m0.5892857142857143\u001b[0m \u001b[36mrecall\u001b[0m=\u001b[35m0.3548387096774194\u001b[0m\n",
      "\u001b[2m2025-04-23 02:29:14\u001b[0m [\u001b[32m\u001b[1minfo     \u001b[0m] \u001b[1mResults saved to ../artifacts/transferability_results.jsonl\u001b[0m\n",
      "\u001b[2m2025-04-23 02:29:14\u001b[0m [\u001b[32m\u001b[1minfo     \u001b[0m] \u001b[1mResults saved to ../artifacts/transferability_results.jsonl\u001b[0m\n"
     ]
    },
    {
     "name": "stderr",
     "output_type": "stream",
     "text": [
      "\n"
     ]
    }
   ],
   "source": [
    "results_modern_bert_large_humaneval = test_bert_model(\n",
    "    *load_bert_model(MODERN_BERT_LARGE_HUMAN.path),\n",
    "    pd.read_csv(HUMAN_DATASET.dataset_path),\n",
    "    load_training_indexes(HUMAN_DATASET.training_idx_path),\n",
    ")\n",
    "results_modern_bert_large_humaneval_on_gbug = test_bert_model(\n",
    "    *load_bert_model(MODERN_BERT_LARGE_HUMAN.path),\n",
    "    pd.read_csv(GBUG_DATASET.dataset_path),\n",
    "    load_training_indexes(GBUG_DATASET.training_idx_path),\n",
    ")\n",
    "results_modern_bert_large_humaneval_on_defects = test_bert_model(\n",
    "    *load_bert_model(MODERN_BERT_LARGE_HUMAN.path),\n",
    "    pd.read_csv(DEFECT_DATASET.dataset_path),\n",
    "    load_training_indexes(DEFECT_DATASET.training_idx_path),\n",
    ")\n",
    "transf_modern_bert_large_humaneval_on_gbug= calculate_f1_shift(\n",
    "    results_modern_bert_large_humaneval_on_gbug,\n",
    "    results_modern_bert_large_humaneval,\n",
    ")\n",
    "transf_modern_bert_large_humaneval_on_defects= calculate_f1_shift(\n",
    "    results_modern_bert_large_humaneval_on_defects,\n",
    "    results_modern_bert_large_humaneval,\n",
    ")\n",
    "# Save the results\n",
    "save_results(\n",
    "    \"results_modern_bert_large_humaneval\",\n",
    "    results_modern_bert_large_humaneval,\n",
    ")\n",
    "save_results(\n",
    "    \"results_modern_bert_large_humaneval_on_gbug\",\n",
    "    results_modern_bert_large_humaneval_on_gbug,\n",
    ")"
   ]
  },
  {
   "cell_type": "code",
   "execution_count": 31,
   "id": "80bfeca0",
   "metadata": {},
   "outputs": [
    {
     "name": "stdout",
     "output_type": "stream",
     "text": [
      "\u001b[2m2025-04-23 02:29:14\u001b[0m [\u001b[32m\u001b[1minfo     \u001b[0m] \u001b[1mResults saved to ../artifacts/transferability_results.jsonl\u001b[0m\n"
     ]
    }
   ],
   "source": [
    "transf_modern_bert_large_humaneval = TransferabilityPerformance(\n",
    "    on_defects=transf_modern_bert_large_humaneval_on_defects,\n",
    "    on_gbug=transf_modern_bert_large_humaneval_on_gbug,\n",
    ")\n",
    "save_results(\n",
    "    \"transf_modern_bert_large_humaneval\",\n",
    "    transf_modern_bert_large_humaneval,\n",
    ")"
   ]
  },
  {
   "cell_type": "code",
   "execution_count": 32,
   "id": "08d0b080",
   "metadata": {},
   "outputs": [
    {
     "name": "stderr",
     "output_type": "stream",
     "text": [
      "100%|██████████| 60/60 [00:25<00:00,  2.35it/s]"
     ]
    },
    {
     "name": "stdout",
     "output_type": "stream",
     "text": [
      "\u001b[2m2025-04-23 02:29:40\u001b[0m [\u001b[32m\u001b[1minfo     \u001b[0m] \u001b[1mClassification report:        \u001b[0m \u001b[36maccuracy\u001b[0m=\u001b[35m0.6666666666666666\u001b[0m \u001b[36mf1\u001b[0m=\u001b[35m0.7142857142857143\u001b[0m \u001b[36mprecision\u001b[0m=\u001b[35m0.625\u001b[0m \u001b[36mrecall\u001b[0m=\u001b[35m0.8333333333333334\u001b[0m\n"
     ]
    },
    {
     "name": "stderr",
     "output_type": "stream",
     "text": [
      "\n",
      "100%|██████████| 186/186 [01:05<00:00,  2.86it/s]"
     ]
    },
    {
     "name": "stdout",
     "output_type": "stream",
     "text": [
      "\u001b[2m2025-04-23 02:30:45\u001b[0m [\u001b[32m\u001b[1minfo     \u001b[0m] \u001b[1mClassification report:        \u001b[0m \u001b[36maccuracy\u001b[0m=\u001b[35m0.532258064516129\u001b[0m \u001b[36mf1\u001b[0m=\u001b[35m0.42384105960264906\u001b[0m \u001b[36mprecision\u001b[0m=\u001b[35m0.5517241379310345\u001b[0m \u001b[36mrecall\u001b[0m=\u001b[35m0.34408602150537637\u001b[0m\n"
     ]
    },
    {
     "name": "stderr",
     "output_type": "stream",
     "text": [
      "\n",
      "100%|██████████| 66/66 [00:06<00:00, 10.83it/s]"
     ]
    },
    {
     "name": "stdout",
     "output_type": "stream",
     "text": [
      "\u001b[2m2025-04-23 02:30:51\u001b[0m [\u001b[32m\u001b[1minfo     \u001b[0m] \u001b[1mClassification report:        \u001b[0m \u001b[36maccuracy\u001b[0m=\u001b[35m0.5757575757575758\u001b[0m \u001b[36mf1\u001b[0m=\u001b[35m0.5172413793103449\u001b[0m \u001b[36mprecision\u001b[0m=\u001b[35m0.6\u001b[0m \u001b[36mrecall\u001b[0m=\u001b[35m0.45454545454545453\u001b[0m\n",
      "\u001b[2m2025-04-23 02:30:51\u001b[0m [\u001b[32m\u001b[1minfo     \u001b[0m] \u001b[1mResults saved to ../artifacts/transferability_results.jsonl\u001b[0m\n",
      "\u001b[2m2025-04-23 02:30:51\u001b[0m [\u001b[32m\u001b[1minfo     \u001b[0m] \u001b[1mResults saved to ../artifacts/transferability_results.jsonl\u001b[0m\n",
      "\u001b[2m2025-04-23 02:30:51\u001b[0m [\u001b[32m\u001b[1minfo     \u001b[0m] \u001b[1mResults saved to ../artifacts/transferability_results.jsonl\u001b[0m\n",
      "\u001b[2m2025-04-23 02:30:51\u001b[0m [\u001b[32m\u001b[1minfo     \u001b[0m] \u001b[1mResults saved to ../artifacts/transferability_results.jsonl\u001b[0m\n"
     ]
    },
    {
     "name": "stderr",
     "output_type": "stream",
     "text": [
      "\n"
     ]
    }
   ],
   "source": [
    "results_modern_bert_base_gbug = test_bert_model(\n",
    "    *load_bert_model(MODERN_BERT_BASE_GBUG.path),\n",
    "    pd.read_csv(GBUG_DATASET.dataset_path),\n",
    "    load_training_indexes(GBUG_DATASET.training_idx_path),\n",
    ")\n",
    "\n",
    "results_modern_bert_base_gbug_on_defects = test_bert_model(\n",
    "    *load_bert_model(MODERN_BERT_BASE_GBUG.path),\n",
    "    pd.read_csv(DEFECT_DATASET.dataset_path),\n",
    "    load_training_indexes(DEFECT_DATASET.training_idx_path),\n",
    ")\n",
    "results_modern_bert_base_gbug_on_human = test_bert_model(\n",
    "    *load_bert_model(MODERN_BERT_BASE_GBUG.path),\n",
    "    pd.read_csv(HUMAN_DATASET.dataset_path),\n",
    "    load_training_indexes(HUMAN_DATASET.training_idx_path),\n",
    ")\n",
    "transf_modern_bert_base_gbug_on_defects= calculate_f1_shift(\n",
    "    results_modern_bert_base_gbug_on_defects,\n",
    "    results_modern_bert_base_gbug,\n",
    ")\n",
    "transf_modern_bert_base_gbug_on_human= calculate_f1_shift(\n",
    "    results_modern_bert_base_gbug_on_human,\n",
    "    results_modern_bert_base_gbug,\n",
    ")\n",
    "# Save the results\n",
    "save_results(\n",
    "    \"results_modern_bert_base_gbug\",\n",
    "    results_modern_bert_base_gbug,\n",
    ")\n",
    "save_results(\n",
    "    \"results_modern_bert_base_gbug_on_defects\",\n",
    "    results_modern_bert_base_gbug_on_defects,\n",
    ")\n",
    "save_results(\n",
    "    \"results_modern_bert_base_gbug_on_human\",\n",
    "    results_modern_bert_base_gbug_on_human,\n",
    ")\n",
    "transf_modern_bert_base_gbug = TransferabilityPerformance(\n",
    "    on_defects=transf_modern_bert_base_gbug_on_defects,\n",
    "    on_humaneval=transf_modern_bert_base_gbug_on_human,\n",
    ")\n",
    "save_results(\"transf_modern_bert_base_gbug\", transf_modern_bert_base_gbug)"
   ]
  },
  {
   "cell_type": "code",
   "execution_count": 33,
   "id": "5fe90174",
   "metadata": {},
   "outputs": [
    {
     "name": "stderr",
     "output_type": "stream",
     "text": [
      "100%|██████████| 186/186 [01:03<00:00,  2.91it/s]"
     ]
    },
    {
     "name": "stdout",
     "output_type": "stream",
     "text": [
      "\u001b[2m2025-04-23 02:31:56\u001b[0m [\u001b[32m\u001b[1minfo     \u001b[0m] \u001b[1mClassification report:        \u001b[0m \u001b[36maccuracy\u001b[0m=\u001b[35m0.553763440860215\u001b[0m \u001b[36mf1\u001b[0m=\u001b[35m0.48447204968944096\u001b[0m \u001b[36mprecision\u001b[0m=\u001b[35m0.5735294117647058\u001b[0m \u001b[36mrecall\u001b[0m=\u001b[35m0.41935483870967744\u001b[0m\n"
     ]
    },
    {
     "name": "stderr",
     "output_type": "stream",
     "text": [
      "\n",
      "100%|██████████| 60/60 [00:24<00:00,  2.49it/s]"
     ]
    },
    {
     "name": "stdout",
     "output_type": "stream",
     "text": [
      "\u001b[2m2025-04-23 02:32:20\u001b[0m [\u001b[32m\u001b[1minfo     \u001b[0m] \u001b[1mClassification report:        \u001b[0m \u001b[36maccuracy\u001b[0m=\u001b[35m0.5333333333333333\u001b[0m \u001b[36mf1\u001b[0m=\u001b[35m0.5172413793103449\u001b[0m \u001b[36mprecision\u001b[0m=\u001b[35m0.5357142857142857\u001b[0m \u001b[36mrecall\u001b[0m=\u001b[35m0.5\u001b[0m\n"
     ]
    },
    {
     "name": "stderr",
     "output_type": "stream",
     "text": [
      "\n",
      "100%|██████████| 66/66 [00:06<00:00, 10.09it/s]"
     ]
    },
    {
     "name": "stdout",
     "output_type": "stream",
     "text": [
      "\u001b[2m2025-04-23 02:32:26\u001b[0m [\u001b[32m\u001b[1minfo     \u001b[0m] \u001b[1mClassification report:        \u001b[0m \u001b[36maccuracy\u001b[0m=\u001b[35m0.5\u001b[0m \u001b[36mf1\u001b[0m=\u001b[35m0.5714285714285715\u001b[0m \u001b[36mprecision\u001b[0m=\u001b[35m0.5\u001b[0m \u001b[36mrecall\u001b[0m=\u001b[35m0.6666666666666666\u001b[0m\n",
      "\u001b[2m2025-04-23 02:32:26\u001b[0m [\u001b[32m\u001b[1minfo     \u001b[0m] \u001b[1mResults saved to ../artifacts/transferability_results.jsonl\u001b[0m\n",
      "\u001b[2m2025-04-23 02:32:26\u001b[0m [\u001b[32m\u001b[1minfo     \u001b[0m] \u001b[1mResults saved to ../artifacts/transferability_results.jsonl\u001b[0m\n",
      "\u001b[2m2025-04-23 02:32:26\u001b[0m [\u001b[32m\u001b[1minfo     \u001b[0m] \u001b[1mResults saved to ../artifacts/transferability_results.jsonl\u001b[0m\n"
     ]
    },
    {
     "name": "stderr",
     "output_type": "stream",
     "text": [
      "\n"
     ]
    }
   ],
   "source": [
    "results_modern_bert_base_defects = test_bert_model(\n",
    "    *load_bert_model(MODERN_BERT_BASE_DEFECTS.path),\n",
    "    pd.read_csv(DEFECT_DATASET.dataset_path),\n",
    "    load_training_indexes(DEFECT_DATASET.training_idx_path),\n",
    ")\n",
    "results_modern_bert_base_defects_on_gbug = test_bert_model(\n",
    "    *load_bert_model(MODERN_BERT_BASE_DEFECTS.path),\n",
    "    pd.read_csv(GBUG_DATASET.dataset_path),\n",
    "    load_training_indexes(GBUG_DATASET.training_idx_path),\n",
    ")\n",
    "results_modern_bert_base_defects_on_human = test_bert_model(\n",
    "    *load_bert_model(MODERN_BERT_BASE_DEFECTS.path),\n",
    "    pd.read_csv(HUMAN_DATASET.dataset_path),\n",
    "    load_training_indexes(HUMAN_DATASET.training_idx_path),\n",
    ")\n",
    "transf_modern_bert_base_defects_on_gbug= calculate_f1_shift(\n",
    "    results_modern_bert_base_defects_on_gbug,\n",
    "    results_modern_bert_base_defects,\n",
    ")\n",
    "transf_modern_bert_base_defects_on_human= calculate_f1_shift(\n",
    "    results_modern_bert_base_defects_on_human,\n",
    "    results_modern_bert_base_defects,\n",
    ")\n",
    "# Save the results\n",
    "save_results(\n",
    "    \"results_modern_bert_base_defects\",\n",
    "    results_modern_bert_base_defects,\n",
    ")\n",
    "save_results(\n",
    "    \"results_modern_bert_base_defects_on_gbug\",\n",
    "    results_modern_bert_base_defects_on_gbug,\n",
    ")\n",
    "save_results(\n",
    "    \"results_modern_bert_base_defects_on_human\",\n",
    "    results_modern_bert_base_defects_on_human,\n",
    ")"
   ]
  },
  {
   "cell_type": "code",
   "execution_count": 34,
   "id": "b3f1333d",
   "metadata": {},
   "outputs": [
    {
     "name": "stdout",
     "output_type": "stream",
     "text": [
      "\u001b[2m2025-04-23 02:32:26\u001b[0m [\u001b[32m\u001b[1minfo     \u001b[0m] \u001b[1mResults saved to ../artifacts/transferability_results.jsonl\u001b[0m\n"
     ]
    }
   ],
   "source": [
    "\n",
    "transf_modern_bert_base_defects = TransferabilityPerformance(\n",
    "    on_gbug=transf_modern_bert_base_defects_on_gbug,\n",
    "    on_humaneval=transf_modern_bert_base_defects_on_human,\n",
    ")\n",
    "save_results(\"transf_modern_bert_base_defects\", transf_modern_bert_base_defects)"
   ]
  },
  {
   "cell_type": "code",
   "execution_count": 35,
   "id": "798f28fa",
   "metadata": {},
   "outputs": [
    {
     "name": "stderr",
     "output_type": "stream",
     "text": [
      "100%|██████████| 66/66 [00:07<00:00,  8.84it/s]"
     ]
    },
    {
     "name": "stdout",
     "output_type": "stream",
     "text": [
      "\u001b[2m2025-04-23 02:32:34\u001b[0m [\u001b[32m\u001b[1minfo     \u001b[0m] \u001b[1mClassification report:        \u001b[0m \u001b[36maccuracy\u001b[0m=\u001b[35m0.6060606060606061\u001b[0m \u001b[36mf1\u001b[0m=\u001b[35m0.6285714285714286\u001b[0m \u001b[36mprecision\u001b[0m=\u001b[35m0.5945945945945946\u001b[0m \u001b[36mrecall\u001b[0m=\u001b[35m0.6666666666666666\u001b[0m\n"
     ]
    },
    {
     "name": "stderr",
     "output_type": "stream",
     "text": [
      "\n",
      "100%|██████████| 60/60 [00:24<00:00,  2.45it/s]"
     ]
    },
    {
     "name": "stdout",
     "output_type": "stream",
     "text": [
      "\u001b[2m2025-04-23 02:32:59\u001b[0m [\u001b[32m\u001b[1minfo     \u001b[0m] \u001b[1mClassification report:        \u001b[0m \u001b[36maccuracy\u001b[0m=\u001b[35m0.5166666666666667\u001b[0m \u001b[36mf1\u001b[0m=\u001b[35m0.4081632653061224\u001b[0m \u001b[36mprecision\u001b[0m=\u001b[35m0.5263157894736842\u001b[0m \u001b[36mrecall\u001b[0m=\u001b[35m0.3333333333333333\u001b[0m\n"
     ]
    },
    {
     "name": "stderr",
     "output_type": "stream",
     "text": [
      "\n",
      "100%|██████████| 186/186 [01:02<00:00,  2.97it/s]"
     ]
    },
    {
     "name": "stdout",
     "output_type": "stream",
     "text": [
      "\u001b[2m2025-04-23 02:34:01\u001b[0m [\u001b[32m\u001b[1minfo     \u001b[0m] \u001b[1mClassification report:        \u001b[0m \u001b[36maccuracy\u001b[0m=\u001b[35m0.5698924731182796\u001b[0m \u001b[36mf1\u001b[0m=\u001b[35m0.47368421052631576\u001b[0m \u001b[36mprecision\u001b[0m=\u001b[35m0.6101694915254238\u001b[0m \u001b[36mrecall\u001b[0m=\u001b[35m0.3870967741935484\u001b[0m\n",
      "\u001b[2m2025-04-23 02:34:01\u001b[0m [\u001b[32m\u001b[1minfo     \u001b[0m] \u001b[1mResults saved to ../artifacts/transferability_results.jsonl\u001b[0m\n",
      "\u001b[2m2025-04-23 02:34:01\u001b[0m [\u001b[32m\u001b[1minfo     \u001b[0m] \u001b[1mResults saved to ../artifacts/transferability_results.jsonl\u001b[0m\n",
      "\u001b[2m2025-04-23 02:34:01\u001b[0m [\u001b[32m\u001b[1minfo     \u001b[0m] \u001b[1mResults saved to ../artifacts/transferability_results.jsonl\u001b[0m\n",
      "\u001b[2m2025-04-23 02:34:01\u001b[0m [\u001b[32m\u001b[1minfo     \u001b[0m] \u001b[1mResults saved to ../artifacts/transferability_results.jsonl\u001b[0m\n"
     ]
    },
    {
     "name": "stderr",
     "output_type": "stream",
     "text": [
      "\n"
     ]
    }
   ],
   "source": [
    "results_modern_bert_base_humaneval = test_bert_model(\n",
    "    *load_bert_model(MODERN_BERT_BASE_HUMAN.path),\n",
    "    pd.read_csv(HUMAN_DATASET.dataset_path),\n",
    "    load_training_indexes(HUMAN_DATASET.training_idx_path),\n",
    ")\n",
    "results_modern_bert_base_humaneval_on_gbug = test_bert_model(\n",
    "    *load_bert_model(MODERN_BERT_BASE_HUMAN.path),\n",
    "    pd.read_csv(GBUG_DATASET.dataset_path),\n",
    "    load_training_indexes(GBUG_DATASET.training_idx_path),\n",
    ")\n",
    "results_modern_bert_base_humaneval_on_defects = test_bert_model(\n",
    "    *load_bert_model(MODERN_BERT_BASE_HUMAN.path),\n",
    "    pd.read_csv(DEFECT_DATASET.dataset_path),\n",
    "    load_training_indexes(DEFECT_DATASET.training_idx_path),\n",
    ")\n",
    "transf_modern_bert_base_humaneval_on_gbug= calculate_f1_shift(\n",
    "    results_modern_bert_base_humaneval_on_gbug,\n",
    "    results_modern_bert_base_humaneval,\n",
    ")\n",
    "transf_modern_bert_base_humaneval_on_defects= calculate_f1_shift(\n",
    "    results_modern_bert_base_humaneval_on_defects,\n",
    "    results_modern_bert_base_humaneval,\n",
    ")\n",
    "\n",
    "# Save the results\n",
    "save_results(\n",
    "    \"results_modern_bert_base_humaneval\",\n",
    "    results_modern_bert_base_humaneval,\n",
    ")\n",
    "save_results(\n",
    "    \"results_modern_bert_base_humaneval_on_gbug\",\n",
    "    results_modern_bert_base_humaneval_on_gbug,\n",
    ")\n",
    "save_results(\n",
    "    \"results_modern_bert_base_humaneval_on_defects\",\n",
    "    results_modern_bert_base_humaneval_on_defects,\n",
    ")\n",
    "transf_modern_bert_base_humaneval = TransferabilityPerformance(\n",
    "    on_defects=transf_modern_bert_base_humaneval_on_defects,\n",
    "    on_gbug=transf_modern_bert_base_humaneval_on_gbug,\n",
    ")\n",
    "save_results(\n",
    "    \"transf_modern_bert_base_humaneval\",\n",
    "    transf_modern_bert_base_humaneval,\n",
    ")"
   ]
  },
  {
   "cell_type": "code",
   "execution_count": 36,
   "id": "875fb801",
   "metadata": {},
   "outputs": [
    {
     "name": "stderr",
     "output_type": "stream",
     "text": [
      "100%|██████████| 60/60 [00:08<00:00,  6.85it/s]"
     ]
    },
    {
     "name": "stdout",
     "output_type": "stream",
     "text": [
      "\u001b[2m2025-04-23 02:34:10\u001b[0m [\u001b[32m\u001b[1minfo     \u001b[0m] \u001b[1mClassification report:        \u001b[0m \u001b[36maccuracy\u001b[0m=\u001b[35m0.6333333333333333\u001b[0m \u001b[36mf1\u001b[0m=\u001b[35m0.6451612903225806\u001b[0m \u001b[36mprecision\u001b[0m=\u001b[35m0.625\u001b[0m \u001b[36mrecall\u001b[0m=\u001b[35m0.6666666666666666\u001b[0m\n"
     ]
    },
    {
     "name": "stderr",
     "output_type": "stream",
     "text": [
      "\n",
      "100%|██████████| 186/186 [00:24<00:00,  7.54it/s]"
     ]
    },
    {
     "name": "stdout",
     "output_type": "stream",
     "text": [
      "\u001b[2m2025-04-23 02:34:35\u001b[0m [\u001b[32m\u001b[1minfo     \u001b[0m] \u001b[1mClassification report:        \u001b[0m \u001b[36maccuracy\u001b[0m=\u001b[35m0.5053763440860215\u001b[0m \u001b[36mf1\u001b[0m=\u001b[35m0.5208333333333333\u001b[0m \u001b[36mprecision\u001b[0m=\u001b[35m0.5050505050505051\u001b[0m \u001b[36mrecall\u001b[0m=\u001b[35m0.5376344086021505\u001b[0m\n"
     ]
    },
    {
     "name": "stderr",
     "output_type": "stream",
     "text": [
      "\n",
      "100%|██████████| 66/66 [00:05<00:00, 12.04it/s]"
     ]
    },
    {
     "name": "stdout",
     "output_type": "stream",
     "text": [
      "\u001b[2m2025-04-23 02:34:41\u001b[0m [\u001b[32m\u001b[1minfo     \u001b[0m] \u001b[1mClassification report:        \u001b[0m \u001b[36maccuracy\u001b[0m=\u001b[35m0.5151515151515151\u001b[0m \u001b[36mf1\u001b[0m=\u001b[35m0.6521739130434782\u001b[0m \u001b[36mprecision\u001b[0m=\u001b[35m0.5084745762711864\u001b[0m \u001b[36mrecall\u001b[0m=\u001b[35m0.9090909090909091\u001b[0m\n",
      "\u001b[2m2025-04-23 02:34:41\u001b[0m [\u001b[32m\u001b[1minfo     \u001b[0m] \u001b[1mResults saved to ../artifacts/transferability_results.jsonl\u001b[0m\n",
      "\u001b[2m2025-04-23 02:34:41\u001b[0m [\u001b[32m\u001b[1minfo     \u001b[0m] \u001b[1mResults saved to ../artifacts/transferability_results.jsonl\u001b[0m\n",
      "\u001b[2m2025-04-23 02:34:41\u001b[0m [\u001b[32m\u001b[1minfo     \u001b[0m] \u001b[1mResults saved to ../artifacts/transferability_results.jsonl\u001b[0m\n",
      "\u001b[2m2025-04-23 02:34:41\u001b[0m [\u001b[32m\u001b[1minfo     \u001b[0m] \u001b[1mResults saved to ../artifacts/transferability_results.jsonl\u001b[0m\n"
     ]
    },
    {
     "name": "stderr",
     "output_type": "stream",
     "text": [
      "\n"
     ]
    }
   ],
   "source": [
    "results_graph_code_bert_gbug = test_bert_model(\n",
    "    *load_bert_model(GRAPH_CODE_BERT_GBUG.path),\n",
    "    pd.read_csv(GBUG_DATASET.dataset_path),\n",
    "    load_training_indexes(GBUG_DATASET.training_idx_path),\n",
    ")\n",
    "results_graph_code_bert_gbug_on_defects = test_bert_model(\n",
    "    *load_bert_model(GRAPH_CODE_BERT_GBUG.path),\n",
    "    pd.read_csv(DEFECT_DATASET.dataset_path),\n",
    "    load_training_indexes(DEFECT_DATASET.training_idx_path),\n",
    ")\n",
    "results_graph_code_bert_gbug_on_human = test_bert_model(\n",
    "    *load_bert_model(GRAPH_CODE_BERT_GBUG.path),\n",
    "    pd.read_csv(HUMAN_DATASET.dataset_path),\n",
    "    load_training_indexes(HUMAN_DATASET.training_idx_path),\n",
    ")\n",
    "transf_graph_code_bert_gbug_on_defects= calculate_f1_shift(\n",
    "    results_graph_code_bert_gbug_on_defects,\n",
    "    results_graph_code_bert_gbug,\n",
    ")\n",
    "transf_graph_code_bert_gbug_on_human= calculate_f1_shift(\n",
    "    results_graph_code_bert_gbug_on_human,\n",
    "    results_graph_code_bert_gbug,\n",
    ")\n",
    "# Save the results\n",
    "save_results(\n",
    "    \"results_graph_code_bert_gbug\",\n",
    "    results_graph_code_bert_gbug,\n",
    ")\n",
    "save_results(\n",
    "    \"results_graph_code_bert_gbug_on_defects\",\n",
    "    results_graph_code_bert_gbug_on_defects,\n",
    ")\n",
    "save_results(\n",
    "    \"results_graph_code_bert_gbug_on_human\",\n",
    "    results_graph_code_bert_gbug_on_human,\n",
    ")\n",
    "transf_graph_code_bert_gbug = TransferabilityPerformance(\n",
    "    on_defects=transf_graph_code_bert_gbug_on_defects,\n",
    "    on_humaneval=transf_graph_code_bert_gbug_on_human,\n",
    ")\n",
    "save_results(\"transf_graph_code_bert_gbug\", transf_graph_code_bert_gbug)"
   ]
  },
  {
   "cell_type": "code",
   "execution_count": 37,
   "id": "759d09b3",
   "metadata": {},
   "outputs": [
    {
     "name": "stderr",
     "output_type": "stream",
     "text": [
      "100%|██████████| 186/186 [00:25<00:00,  7.33it/s]"
     ]
    },
    {
     "name": "stdout",
     "output_type": "stream",
     "text": [
      "\u001b[2m2025-04-23 02:35:07\u001b[0m [\u001b[32m\u001b[1minfo     \u001b[0m] \u001b[1mClassification report:        \u001b[0m \u001b[36maccuracy\u001b[0m=\u001b[35m0.543010752688172\u001b[0m \u001b[36mf1\u001b[0m=\u001b[35m0.5142857142857143\u001b[0m \u001b[36mprecision\u001b[0m=\u001b[35m0.5487804878048781\u001b[0m \u001b[36mrecall\u001b[0m=\u001b[35m0.4838709677419355\u001b[0m\n"
     ]
    },
    {
     "name": "stderr",
     "output_type": "stream",
     "text": [
      "\n",
      "100%|██████████| 60/60 [00:08<00:00,  7.16it/s]"
     ]
    },
    {
     "name": "stdout",
     "output_type": "stream",
     "text": [
      "\u001b[2m2025-04-23 02:35:15\u001b[0m [\u001b[32m\u001b[1minfo     \u001b[0m] \u001b[1mClassification report:        \u001b[0m \u001b[36maccuracy\u001b[0m=\u001b[35m0.5333333333333333\u001b[0m \u001b[36mf1\u001b[0m=\u001b[35m0.4814814814814815\u001b[0m \u001b[36mprecision\u001b[0m=\u001b[35m0.5416666666666666\u001b[0m \u001b[36mrecall\u001b[0m=\u001b[35m0.43333333333333335\u001b[0m\n"
     ]
    },
    {
     "name": "stderr",
     "output_type": "stream",
     "text": [
      "\n",
      "100%|██████████| 66/66 [00:05<00:00, 11.70it/s]"
     ]
    },
    {
     "name": "stdout",
     "output_type": "stream",
     "text": [
      "\u001b[2m2025-04-23 02:35:21\u001b[0m [\u001b[32m\u001b[1minfo     \u001b[0m] \u001b[1mClassification report:        \u001b[0m \u001b[36maccuracy\u001b[0m=\u001b[35m0.48484848484848486\u001b[0m \u001b[36mf1\u001b[0m=\u001b[35m0.45161290322580644\u001b[0m \u001b[36mprecision\u001b[0m=\u001b[35m0.4827586206896552\u001b[0m \u001b[36mrecall\u001b[0m=\u001b[35m0.42424242424242425\u001b[0m\n",
      "\u001b[2m2025-04-23 02:35:21\u001b[0m [\u001b[32m\u001b[1minfo     \u001b[0m] \u001b[1mResults saved to ../artifacts/transferability_results.jsonl\u001b[0m\n",
      "\u001b[2m2025-04-23 02:35:21\u001b[0m [\u001b[32m\u001b[1minfo     \u001b[0m] \u001b[1mResults saved to ../artifacts/transferability_results.jsonl\u001b[0m\n",
      "\u001b[2m2025-04-23 02:35:21\u001b[0m [\u001b[32m\u001b[1minfo     \u001b[0m] \u001b[1mResults saved to ../artifacts/transferability_results.jsonl\u001b[0m\n"
     ]
    },
    {
     "name": "stderr",
     "output_type": "stream",
     "text": [
      "\n"
     ]
    }
   ],
   "source": [
    "results_graph_code_bert_defects = test_bert_model(\n",
    "    *load_bert_model(GRAPH_CODE_BERT_DEFECTS.path),\n",
    "    pd.read_csv(DEFECT_DATASET.dataset_path),\n",
    "    load_training_indexes(DEFECT_DATASET.training_idx_path),\n",
    ")\n",
    "results_graph_code_bert_defects_on_gbug = test_bert_model(\n",
    "    *load_bert_model(GRAPH_CODE_BERT_DEFECTS.path),\n",
    "    pd.read_csv(GBUG_DATASET.dataset_path),\n",
    "    load_training_indexes(GBUG_DATASET.training_idx_path),\n",
    ")\n",
    "results_graph_code_bert_defects_on_human = test_bert_model(\n",
    "    *load_bert_model(GRAPH_CODE_BERT_DEFECTS.path),\n",
    "    pd.read_csv(HUMAN_DATASET.dataset_path),\n",
    "    load_training_indexes(HUMAN_DATASET.training_idx_path),\n",
    ")\n",
    "transf_graph_code_bert_defects_on_gbug= calculate_f1_shift(\n",
    "    results_graph_code_bert_defects_on_gbug,\n",
    "    results_graph_code_bert_defects,\n",
    ")\n",
    "transf_graph_code_bert_defects_on_human= calculate_f1_shift(\n",
    "    results_graph_code_bert_defects_on_human,\n",
    "    results_graph_code_bert_defects,\n",
    ")\n",
    "# Save the results\n",
    "save_results(\n",
    "    \"results_graph_code_bert_defects\",\n",
    "    results_graph_code_bert_defects,\n",
    ")\n",
    "save_results(\n",
    "    \"results_graph_code_bert_defects_on_gbug\",\n",
    "    results_graph_code_bert_defects_on_gbug,\n",
    ")\n",
    "save_results(\n",
    "    \"results_graph_code_bert_defects_on_human\",\n",
    "    results_graph_code_bert_defects_on_human,\n",
    ")"
   ]
  },
  {
   "cell_type": "code",
   "execution_count": 38,
   "id": "2474c7ab",
   "metadata": {},
   "outputs": [
    {
     "name": "stdout",
     "output_type": "stream",
     "text": [
      "\u001b[2m2025-04-23 02:35:21\u001b[0m [\u001b[32m\u001b[1minfo     \u001b[0m] \u001b[1mResults saved to ../artifacts/transferability_results.jsonl\u001b[0m\n"
     ]
    }
   ],
   "source": [
    "\n",
    "transf_graph_code_bert_defects = TransferabilityPerformance(\n",
    "    on_gbug=transf_graph_code_bert_defects_on_gbug,\n",
    "    on_humaneval=transf_graph_code_bert_defects_on_human,\n",
    ")\n",
    "save_results(\"transf_graph_code_bert_defects\", transf_graph_code_bert_defects)"
   ]
  },
  {
   "cell_type": "code",
   "execution_count": 39,
   "id": "a6580e66",
   "metadata": {},
   "outputs": [
    {
     "name": "stderr",
     "output_type": "stream",
     "text": [
      "100%|██████████| 66/66 [00:06<00:00,  9.84it/s]"
     ]
    },
    {
     "name": "stdout",
     "output_type": "stream",
     "text": [
      "\u001b[2m2025-04-23 02:35:28\u001b[0m [\u001b[32m\u001b[1minfo     \u001b[0m] \u001b[1mClassification report:        \u001b[0m \u001b[36maccuracy\u001b[0m=\u001b[35m0.5606060606060606\u001b[0m \u001b[36mf1\u001b[0m=\u001b[35m0.5245901639344263\u001b[0m \u001b[36mprecision\u001b[0m=\u001b[35m0.5714285714285714\u001b[0m \u001b[36mrecall\u001b[0m=\u001b[35m0.48484848484848486\u001b[0m\n"
     ]
    },
    {
     "name": "stderr",
     "output_type": "stream",
     "text": [
      "\n",
      "100%|██████████| 60/60 [00:08<00:00,  7.39it/s]"
     ]
    },
    {
     "name": "stdout",
     "output_type": "stream",
     "text": [
      "\u001b[2m2025-04-23 02:35:36\u001b[0m [\u001b[32m\u001b[1minfo     \u001b[0m] \u001b[1mClassification report:        \u001b[0m \u001b[36maccuracy\u001b[0m=\u001b[35m0.5166666666666667\u001b[0m \u001b[36mf1\u001b[0m=\u001b[35m0.29268292682926833\u001b[0m \u001b[36mprecision\u001b[0m=\u001b[35m0.5454545454545454\u001b[0m \u001b[36mrecall\u001b[0m=\u001b[35m0.2\u001b[0m\n"
     ]
    },
    {
     "name": "stderr",
     "output_type": "stream",
     "text": [
      "\n",
      "100%|██████████| 186/186 [00:24<00:00,  7.61it/s]"
     ]
    },
    {
     "name": "stdout",
     "output_type": "stream",
     "text": [
      "\u001b[2m2025-04-23 02:36:01\u001b[0m [\u001b[32m\u001b[1minfo     \u001b[0m] \u001b[1mClassification report:        \u001b[0m \u001b[36maccuracy\u001b[0m=\u001b[35m0.5161290322580645\u001b[0m \u001b[36mf1\u001b[0m=\u001b[35m0.296875\u001b[0m \u001b[36mprecision\u001b[0m=\u001b[35m0.5428571428571428\u001b[0m \u001b[36mrecall\u001b[0m=\u001b[35m0.20430107526881722\u001b[0m\n"
     ]
    },
    {
     "name": "stderr",
     "output_type": "stream",
     "text": [
      "\n"
     ]
    },
    {
     "name": "stdout",
     "output_type": "stream",
     "text": [
      "\u001b[2m2025-04-23 02:36:01\u001b[0m [\u001b[32m\u001b[1minfo     \u001b[0m] \u001b[1mResults saved to ../artifacts/transferability_results.jsonl\u001b[0m\n",
      "\u001b[2m2025-04-23 02:36:01\u001b[0m [\u001b[32m\u001b[1minfo     \u001b[0m] \u001b[1mResults saved to ../artifacts/transferability_results.jsonl\u001b[0m\n",
      "\u001b[2m2025-04-23 02:36:01\u001b[0m [\u001b[32m\u001b[1minfo     \u001b[0m] \u001b[1mResults saved to ../artifacts/transferability_results.jsonl\u001b[0m\n",
      "\u001b[2m2025-04-23 02:36:01\u001b[0m [\u001b[32m\u001b[1minfo     \u001b[0m] \u001b[1mResults saved to ../artifacts/transferability_results.jsonl\u001b[0m\n"
     ]
    }
   ],
   "source": [
    "results_graph_code_bert_humaneval = test_bert_model(\n",
    "    *load_bert_model(GRAPH_CODE_BERT_HUMAN.path),\n",
    "    pd.read_csv(HUMAN_DATASET.dataset_path),\n",
    "    load_training_indexes(HUMAN_DATASET.training_idx_path),\n",
    ")\n",
    "results_graph_code_bert_humaneval_on_gbug = test_bert_model(\n",
    "    *load_bert_model(GRAPH_CODE_BERT_HUMAN.path),\n",
    "    pd.read_csv(GBUG_DATASET.dataset_path),\n",
    "    load_training_indexes(GBUG_DATASET.training_idx_path),\n",
    ")\n",
    "results_graph_code_bert_humaneval_on_defects = test_bert_model(\n",
    "    *load_bert_model(GRAPH_CODE_BERT_HUMAN.path),\n",
    "    pd.read_csv(DEFECT_DATASET.dataset_path),\n",
    "    load_training_indexes(DEFECT_DATASET.training_idx_path),\n",
    ")\n",
    "transf_graph_code_bert_humaneval_on_gbug= calculate_f1_shift(\n",
    "    results_graph_code_bert_humaneval_on_gbug,\n",
    "    results_graph_code_bert_humaneval,\n",
    ")\n",
    "transf_graph_code_bert_humaneval_on_defects= calculate_f1_shift(\n",
    "    results_graph_code_bert_humaneval_on_defects,\n",
    "    results_graph_code_bert_humaneval,\n",
    ")\n",
    "# Save the results\n",
    "save_results(\n",
    "    \"results_graph_code_bert_humaneval\",\n",
    "    results_graph_code_bert_humaneval,\n",
    ")\n",
    "save_results(\n",
    "    \"results_graph_code_bert_humaneval_on_gbug\",\n",
    "    results_graph_code_bert_humaneval_on_gbug,\n",
    ")\n",
    "save_results(\n",
    "    \"results_graph_code_bert_humaneval_on_defects\",\n",
    "    results_graph_code_bert_humaneval_on_defects,\n",
    ")\n",
    "\n",
    "transf_graph_code_bert_humaneval = TransferabilityPerformance(\n",
    "    on_defects=transf_graph_code_bert_humaneval_on_defects,\n",
    "    on_gbug=transf_graph_code_bert_humaneval_on_gbug,\n",
    ")\n",
    "save_results(\n",
    "    \"transf_graph_code_bert_humaneval\",\n",
    "    transf_graph_code_bert_humaneval,\n",
    ")"
   ]
  },
  {
   "cell_type": "markdown",
   "id": "9203a1f6",
   "metadata": {},
   "source": [
    "# Load prestored data"
   ]
  },
  {
   "cell_type": "code",
   "execution_count": 100,
   "id": "c0fb85ca",
   "metadata": {},
   "outputs": [],
   "source": [
    "from typing import Dict\n",
    "def read_saved_results(\n",
    "    path=\"../artifacts/transferability_results.jsonl\",\n",
    ") -> Dict[str, TransferabilityPerformance]:\n",
    "    \"\"\"\n",
    "    Read the saved results from the jsonl file.\n",
    "    \"\"\"\n",
    "    our_dict = {}\n",
    "    with open(path, \"r\") as f:\n",
    "        for line in f:\n",
    "            data = json.loads(line)\n",
    "            for key, value in data.items():\n",
    "                if key.startswith(\"trans\"):\n",
    "                    our_dict[key] = TransferabilityPerformance(**value)\n",
    "    return our_dict\n",
    "    "
   ]
  },
  {
   "cell_type": "code",
   "execution_count": 104,
   "id": "e5d27242",
   "metadata": {},
   "outputs": [
    {
     "name": "stdout",
     "output_type": "stream",
     "text": [
      "dict_keys(['transf_rf_gbug_gpt2', 'transf_rf_defects4j_gpt2', 'transf_rf_humaneval_gpt2', 'transf_knn_gbug', 'transf_knn_defects', 'transf_rf_defects', 'transf_knn_humaneval', 'transf_rf_humaneval', 'transf_modern_bert_large_gbug', 'transf_modern_bert_large_defects', 'transf_modern_bert_large_humaneval', 'transf_modern_bert_base_gbug', 'transf_modern_bert_base_defects', 'transf_modern_bert_base_humaneval', 'transf_graph_code_bert_gbug', 'transf_graph_code_bert_defects', 'transf_graph_code_bert_humaneval', 'transf_rf_gbug_gemma2', 'transf_rf_defects4j_gemma2', 'transf_rf_humaneval_gemma2'])\n"
     ]
    }
   ],
   "source": [
    "transferability_results = read_saved_results()\n",
    "print(transferability_results.keys())\n",
    "\n",
    "transf_rf_gbug_gpt2 = transferability_results[\"transf_rf_gbug_gpt2\"]\n",
    "transf_rf_defects4j_gpt2 = transferability_results[\"transf_rf_defects4j_gpt2\"]\n",
    "transf_rf_humaneval_gpt2 = transferability_results[\"transf_rf_humaneval_gpt2\"]\n",
    "transf_rf_gbug_gemma2 = transferability_results[\"transf_rf_gbug_gemma2\"]\n",
    "transf_rf_defects4j_gemma2 = transferability_results[\"transf_rf_defects4j_gemma2\"]\n",
    "transf_rf_humaneval_gemma2 = transferability_results[\"transf_rf_humaneval_gemma2\"]\n",
    "transf_knn_gbug = transferability_results[\"transf_knn_gbug\"]\n",
    "transf_rf_defects = transferability_results[\"transf_rf_defects\"]\n",
    "transf_knn_defects = transferability_results[\"transf_knn_defects\"]\n",
    "transf_rf_humaneval = transferability_results[\"transf_rf_humaneval\"]\n",
    "transf_knn_humaneval = transferability_results[\"transf_knn_humaneval\"]\n",
    "transf_modern_bert_large_gbug = transferability_results[\"transf_modern_bert_large_gbug\"]\n",
    "transf_modern_bert_large_defects = transferability_results[\"transf_modern_bert_large_defects\"]\n",
    "transf_modern_bert_large_humaneval = transferability_results[\"transf_modern_bert_large_humaneval\"]\n",
    "transf_modern_bert_base_gbug = transferability_results[\"transf_modern_bert_base_gbug\"]\n",
    "transf_modern_bert_base_defects = transferability_results[\"transf_modern_bert_base_defects\"]\n",
    "transf_modern_bert_base_humaneval = transferability_results[\"transf_modern_bert_base_humaneval\"]\n",
    "transf_graph_code_bert_humaneval = transferability_results[\"transf_graph_code_bert_humaneval\"]\n",
    "transf_graph_code_bert_gbug = transferability_results[\"transf_graph_code_bert_gbug\"]\n",
    "transf_graph_code_bert_defects = transferability_results[\"transf_graph_code_bert_defects\"]\n"
   ]
  },
  {
   "cell_type": "markdown",
   "id": "bbd6f726",
   "metadata": {},
   "source": [
    "# Graphs"
   ]
  },
  {
   "cell_type": "code",
   "execution_count": 105,
   "id": "9b269f9c",
   "metadata": {},
   "outputs": [
    {
     "data": {
      "image/png": "[encoded data removed]",
      "text/plain": [
       "<Figure size 1400x800 with 1 Axes>"
      ]
     },
     "metadata": {},
     "output_type": "display_data"
    }
   ],
   "source": [
    "import matplotlib.pyplot as plt\n",
    "import numpy as np\n",
    "import seaborn as sns\n",
    "\n",
    "sns.set(style=\"whitegrid\")\n",
    "\n",
    "# Transfer direction labels\n",
    "labels = [\n",
    "    \"Gbug → Defects4J\", \"Gbug → HumanEval\",\n",
    "    \"Defects4J → Gbug\", \"Defects4J → HumanEval\",\n",
    "    \"HumanEval → Gbug\", \"HumanEval → Defects4J\",\n",
    "]\n",
    "\n",
    "# Values for each model\n",
    "all_values = [\n",
    "    # [\n",
    "    #     transf_knn_gbug.on_defects, transf_knn_gbug.on_humaneval,\n",
    "    #     transf_knn_defects.on_gbug, transf_knn_defects.on_humaneval,\n",
    "    #     transf_knn_humaneval.on_gbug, transf_knn_humaneval.on_defects,\n",
    "    # ],\n",
    "    # [\n",
    "    #     transf_rf_gbug.on_defects, transf_rf_gbug.on_humaneval,\n",
    "    #     transf_rf_defects.on_gbug, transf_rf_defects.on_humaneval,\n",
    "    #     transf_rf_humaneval.on_gbug, transf_rf_humaneval.on_defects,\n",
    "    # ],\n",
    "    [\n",
    "        transf_rf_gbug_gpt2.on_defects, transf_rf_gbug_gpt2.on_humaneval,\n",
    "        transf_rf_defects4j_gpt2.on_gbug, transf_rf_defects4j_gpt2.on_humaneval,\n",
    "        transf_rf_humaneval_gpt2.on_gbug, transf_rf_humaneval_gpt2.on_defects,\n",
    "    ],\n",
    "    [\n",
    "        transf_rf_gbug_gemma2.on_defects, transf_rf_gbug_gemma2.on_humaneval,\n",
    "        transf_rf_defects4j_gemma2.on_gbug, transf_rf_defects4j_gemma2.on_humaneval,\n",
    "        transf_rf_humaneval_gemma2.on_gbug, transf_rf_humaneval_gemma2.on_defects,\n",
    "    ],\n",
    "    [\n",
    "        transf_modern_bert_large_gbug_on_defects, transf_modern_bert_large_gbug_on_human,\n",
    "        transf_modern_bert_large_defects_on_gbug, transf_modern_bert_large_defects_on_human,\n",
    "        transf_modern_bert_large_humaneval_on_gbug, transf_modern_bert_large_humaneval_on_defects,\n",
    "    ],\n",
    "    [\n",
    "        transf_modern_bert_base_gbug.on_defects, transf_modern_bert_base_gbug.on_humaneval,\n",
    "        transf_modern_bert_base_defects.on_gbug, transf_modern_bert_base_defects.on_humaneval,\n",
    "        transf_modern_bert_base_humaneval.on_gbug, transf_modern_bert_base_humaneval.on_defects,\n",
    "    ],\n",
    "    [\n",
    "        transf_graph_code_bert_gbug.on_defects, transf_graph_code_bert_gbug.on_humaneval,\n",
    "        transf_graph_code_bert_defects.on_gbug, transf_graph_code_bert_defects.on_humaneval,\n",
    "        transf_graph_code_bert_humaneval.on_gbug, transf_graph_code_bert_humaneval.on_defects,\n",
    "    ],\n",
    "]\n",
    "\n",
    "methods = [#'KNN', \n",
    "           #'Random Forest', \n",
    "           'GPT2 RF', \n",
    "           \"Gemma2 RF\",\n",
    "           'Modern BERT Large', 'Modern BERT Base', 'Graph Code BERT']\n",
    "colors = [\n",
    "   # '#1f77b4',  # Blue\n",
    "    #'#ff7f0e',  # Orange\n",
    "    '#ff7f0e',  # Orange\n",
    "    '#2ca02c',  # Green\n",
    "    '#d62728',  # Red\n",
    "    '#9467bd',  # Purple\n",
    "    '#8c564b',  # Brown\n",
    "]\n",
    "x = np.arange(len(labels))\n",
    "width = 0.13\n",
    "\n",
    "fig, ax = plt.subplots(figsize=(14, 8))\n",
    "\n",
    "# Draw bars\n",
    "for i, (method_vals, method_name, color) in enumerate(zip(all_values, methods, colors)):\n",
    "    offset = (i - len(all_values)/2) * width + width/2\n",
    "    for j, val in enumerate(method_vals):\n",
    "        if not np.isnan(val):\n",
    "            ax.barh(x[j] + offset, val, height=width * 0.9,\n",
    "                    label=method_name if j == 0 else \"\",\n",
    "                    color=color, edgecolor='black')\n",
    "            ax.annotate(f'{val:.1f}',\n",
    "                        xy=(val, x[j] + offset),\n",
    "                        xytext=(5 if val >= 0 else -5, 0),\n",
    "                        textcoords='offset points',\n",
    "                        ha='left' if val >= 0 else 'right',\n",
    "                        va='center',\n",
    "                        fontsize=9)\n",
    "\n",
    "# Style the plot\n",
    "ax.set_yticks(x)\n",
    "ax.set_yticklabels(labels, fontsize=11)\n",
    "ax.set_xlabel(\"F1 Shift (%)\", fontsize=12)\n",
    "ax.set_title(\"Transferability Performance Across Datasets and Models\", fontsize=16, pad=15)\n",
    "ax.axvline(0, color='gray', linestyle='--', linewidth=0.8)\n",
    "ax.set_xlim(-100, 100)\n",
    "\n",
    "# Remove duplicate labels\n",
    "handles, labels_uniq = ax.get_legend_handles_labels()\n",
    "unique = dict(zip(labels_uniq, handles))\n",
    "ax.legend(unique.values(), unique.keys(), loc='lower right', fontsize=10, frameon=True)\n",
    "\n",
    "plt.tight_layout()\n",
    "plt.savefig(\"transferability_performance_cleaned.png\", dpi=300)\n",
    "plt.show()\n"
   ]
  }
 ],
 "metadata": {
  "kernelspec": {
   "display_name": "phd",
   "language": "python",
   "name": "python3"
  },
  "language_info": {
   "codemirror_mode": {
    "name": "ipython",
    "version": 3
   },
   "file_extension": ".py",
   "mimetype": "text/x-python",
   "name": "python",
   "nbconvert_exporter": "python",
   "pygments_lexer": "ipython3",
   "version": "3.10.15"
  }
 },
 "nbformat": 4,
 "nbformat_minor": 5
}
